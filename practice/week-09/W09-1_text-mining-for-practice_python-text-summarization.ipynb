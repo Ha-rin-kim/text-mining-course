{
 "cells": [
  {
   "cell_type": "markdown",
   "metadata": {},
   "source": [
    "# TEXT MINING for PRACTICE: 키워드 추출 및 문서요약 \n",
    "- gensim 패키지를 이용하여 TextRank 기반의 키워드추출/문서요약 알고리즘을 테스트해보자.\n",
    "---"
   ]
  },
  {
   "cell_type": "markdown",
   "metadata": {},
   "source": [
    "## 1. Install gensim and newspaper3k"
   ]
  },
  {
   "cell_type": "code",
   "execution_count": 1,
   "metadata": {},
   "outputs": [
    {
     "name": "stdout",
     "output_type": "stream",
     "text": [
      "Collecting gensim\n",
      "\u001b[?25l  Downloading https://files.pythonhosted.org/packages/1e/27/6fdcddfbce1963989eb527f0ba4749829509c0172c275806cffd5a7e1776/gensim-3.8.1-cp36-cp36m-macosx_10_6_intel.macosx_10_9_intel.macosx_10_9_x86_64.macosx_10_10_intel.macosx_10_10_x86_64.whl (24.7MB)\n",
      "\u001b[K    100% |████████████████████████████████| 24.7MB 752kB/s ta 0:00:011    76% |████████████████████████▍       | 18.8MB 11.3MB/s eta 0:00:01\n",
      "\u001b[?25hCollecting newspaper3k\n",
      "\u001b[?25l  Downloading https://files.pythonhosted.org/packages/d7/b9/51afecb35bb61b188a4b44868001de348a0e8134b4dfa00ffc191567c4b9/newspaper3k-0.2.8-py3-none-any.whl (211kB)\n",
      "\u001b[K    100% |████████████████████████████████| 215kB 9.2MB/s eta 0:00:01\n",
      "\u001b[?25hCollecting smart-open>=1.8.1 (from gensim)\n",
      "\u001b[?25l  Downloading https://files.pythonhosted.org/packages/0c/09/735f2786dfac9bbf39d244ce75c0313d27d4962e71e0774750dc809f2395/smart_open-1.9.0.tar.gz (70kB)\n",
      "\u001b[K    100% |████████████████████████████████| 71kB 10.0MB/s ta 0:00:01\n",
      "\u001b[?25hRequirement already satisfied: numpy>=1.11.3 in /Users/seojungwon/anaconda3/lib/python3.6/site-packages (from gensim) (1.15.4)\n",
      "Requirement already satisfied: six>=1.5.0 in /Users/seojungwon/anaconda3/lib/python3.6/site-packages (from gensim) (1.12.0)\n",
      "Requirement already satisfied: scipy>=0.18.1 in /Users/seojungwon/anaconda3/lib/python3.6/site-packages (from gensim) (1.2.0)\n",
      "Collecting jieba3k>=0.35.1 (from newspaper3k)\n",
      "\u001b[?25l  Downloading https://files.pythonhosted.org/packages/a9/cb/2c8332bcdc14d33b0bedd18ae0a4981a069c3513e445120da3c3f23a8aaa/jieba3k-0.35.1.zip (7.4MB)\n",
      "\u001b[K    100% |████████████████████████████████| 7.4MB 2.3MB/s ta 0:00:011    12% |████                            | 952kB 17.3MB/s eta 0:00:01\n",
      "\u001b[?25hRequirement already satisfied: lxml>=3.6.0 in /Users/seojungwon/anaconda3/lib/python3.6/site-packages (from newspaper3k) (4.3.0)\n",
      "Requirement already satisfied: Pillow>=3.3.0 in /Users/seojungwon/anaconda3/lib/python3.6/site-packages (from newspaper3k) (5.4.1)\n",
      "Requirement already satisfied: requests>=2.10.0 in /Users/seojungwon/anaconda3/lib/python3.6/site-packages (from newspaper3k) (2.21.0)\n",
      "Collecting cssselect>=0.9.2 (from newspaper3k)\n",
      "  Downloading https://files.pythonhosted.org/packages/3b/d4/3b5c17f00cce85b9a1e6f91096e1cc8e8ede2e1be8e96b87ce1ed09e92c5/cssselect-1.1.0-py2.py3-none-any.whl\n",
      "Collecting feedfinder2>=0.0.4 (from newspaper3k)\n",
      "  Downloading https://files.pythonhosted.org/packages/35/82/1251fefec3bb4b03fd966c7e7f7a41c9fc2bb00d823a34c13f847fd61406/feedfinder2-0.0.4.tar.gz\n",
      "Requirement already satisfied: beautifulsoup4>=4.4.1 in /Users/seojungwon/anaconda3/lib/python3.6/site-packages (from newspaper3k) (4.7.1)\n",
      "Requirement already satisfied: python-dateutil>=2.5.3 in /Users/seojungwon/anaconda3/lib/python3.6/site-packages (from newspaper3k) (2.7.5)\n",
      "Collecting tldextract>=2.0.1 (from newspaper3k)\n",
      "\u001b[?25l  Downloading https://files.pythonhosted.org/packages/fd/0e/9ab599d6e78f0340bb1d1e28ddeacb38c8bb7f91a1b0eae9a24e9603782f/tldextract-2.2.2-py2.py3-none-any.whl (48kB)\n",
      "\u001b[K    100% |████████████████████████████████| 51kB 8.8MB/s eta 0:00:01\n",
      "\u001b[?25hRequirement already satisfied: PyYAML>=3.11 in /Users/seojungwon/anaconda3/lib/python3.6/site-packages (from newspaper3k) (3.13)\n",
      "Requirement already satisfied: nltk>=3.2.1 in /Users/seojungwon/anaconda3/lib/python3.6/site-packages (from newspaper3k) (3.4.5)\n",
      "Collecting feedparser>=5.2.1 (from newspaper3k)\n",
      "\u001b[?25l  Downloading https://files.pythonhosted.org/packages/91/d8/7d37fec71ff7c9dbcdd80d2b48bcdd86d6af502156fc93846fb0102cb2c4/feedparser-5.2.1.tar.bz2 (192kB)\n",
      "\u001b[K    100% |████████████████████████████████| 194kB 7.9MB/s eta 0:00:01\n",
      "\u001b[?25hCollecting tinysegmenter==0.3 (from newspaper3k)\n",
      "  Downloading https://files.pythonhosted.org/packages/17/82/86982e4b6d16e4febc79c2a1d68ee3b707e8a020c5d2bc4af8052d0f136a/tinysegmenter-0.3.tar.gz\n",
      "Requirement already satisfied: boto>=2.32 in /Users/seojungwon/anaconda3/lib/python3.6/site-packages (from smart-open>=1.8.1->gensim) (2.49.0)\n",
      "Collecting boto3 (from smart-open>=1.8.1->gensim)\n",
      "\u001b[?25l  Downloading https://files.pythonhosted.org/packages/b6/5e/1b0dd4498f8866497b85d6e5c5203893816a6e2552ed4e5c235b91255fbc/boto3-1.10.13-py2.py3-none-any.whl (128kB)\n",
      "\u001b[K    100% |████████████████████████████████| 133kB 9.0MB/s eta 0:00:01\n",
      "\u001b[?25hRequirement already satisfied: chardet<3.1.0,>=3.0.2 in /Users/seojungwon/anaconda3/lib/python3.6/site-packages (from requests>=2.10.0->newspaper3k) (3.0.4)\n",
      "Requirement already satisfied: idna<2.9,>=2.5 in /Users/seojungwon/anaconda3/lib/python3.6/site-packages (from requests>=2.10.0->newspaper3k) (2.8)\n",
      "Requirement already satisfied: certifi>=2017.4.17 in /Users/seojungwon/anaconda3/lib/python3.6/site-packages (from requests>=2.10.0->newspaper3k) (2019.6.16)\n",
      "Requirement already satisfied: urllib3<1.25,>=1.21.1 in /Users/seojungwon/.local/lib/python3.6/site-packages (from requests>=2.10.0->newspaper3k) (1.22)\n",
      "Requirement already satisfied: soupsieve>=1.2 in /Users/seojungwon/anaconda3/lib/python3.6/site-packages (from beautifulsoup4>=4.4.1->newspaper3k) (1.7.1)\n",
      "Requirement already satisfied: setuptools in /Users/seojungwon/anaconda3/lib/python3.6/site-packages (from tldextract>=2.0.1->newspaper3k) (40.7.3)\n",
      "Collecting requests-file>=1.4 (from tldextract>=2.0.1->newspaper3k)\n",
      "  Downloading https://files.pythonhosted.org/packages/23/9c/6e63c23c39e53d3df41c77a3d05a49a42c4e1383a6d2a5e3233161b89dbf/requests_file-1.4.3-py2.py3-none-any.whl\n",
      "Collecting jmespath<1.0.0,>=0.7.1 (from boto3->smart-open>=1.8.1->gensim)\n",
      "  Using cached https://files.pythonhosted.org/packages/83/94/7179c3832a6d45b266ddb2aac329e101367fbdb11f425f13771d27f225bb/jmespath-0.9.4-py2.py3-none-any.whl\n",
      "Collecting botocore<1.14.0,>=1.13.13 (from boto3->smart-open>=1.8.1->gensim)\n",
      "\u001b[?25l  Downloading https://files.pythonhosted.org/packages/eb/2f/53b8b74987cc3bb3e87764da2d0ec180c80f977ebc8dd1785dae0537bfcc/botocore-1.13.13-py2.py3-none-any.whl (5.4MB)\n",
      "\u001b[K    100% |████████████████████████████████| 5.4MB 2.2MB/s ta 0:00:011\n",
      "\u001b[?25hCollecting s3transfer<0.3.0,>=0.2.0 (from boto3->smart-open>=1.8.1->gensim)\n",
      "  Using cached https://files.pythonhosted.org/packages/16/8a/1fc3dba0c4923c2a76e1ff0d52b305c44606da63f718d14d3231e21c51b0/s3transfer-0.2.1-py2.py3-none-any.whl\n",
      "Requirement already satisfied: docutils<0.16,>=0.10 in /Users/seojungwon/anaconda3/lib/python3.6/site-packages (from botocore<1.14.0,>=1.13.13->boto3->smart-open>=1.8.1->gensim) (0.14)\n",
      "Building wheels for collected packages: smart-open, jieba3k, feedfinder2, feedparser, tinysegmenter\n",
      "  Building wheel for smart-open (setup.py) ... \u001b[?25ldone\n",
      "\u001b[?25h  Stored in directory: /Users/seojungwon/Library/Caches/pip/wheels/ab/10/93/5cff86f5b721d77edaecc29959b1c60d894be1f66d91407d28\n",
      "  Building wheel for jieba3k (setup.py) ... \u001b[?25ldone\n",
      "\u001b[?25h  Stored in directory: /Users/seojungwon/Library/Caches/pip/wheels/83/15/9c/a3f1f67e7f7181170ad37d32e503c35da20627c013f438ed34\n",
      "  Building wheel for feedfinder2 (setup.py) ... \u001b[?25ldone\n",
      "\u001b[?25h  Stored in directory: /Users/seojungwon/Library/Caches/pip/wheels/de/03/ca/778e3a7a627e3d98836cc890e7cb40c7575424cfd3340f40ed\n",
      "  Building wheel for feedparser (setup.py) ... \u001b[?25ldone\n",
      "\u001b[?25h  Stored in directory: /Users/seojungwon/Library/Caches/pip/wheels/8c/69/b7/f52763c41c5471df57703a0ef718a32a5e81ee35dcf6d4f97f\n",
      "  Building wheel for tinysegmenter (setup.py) ... \u001b[?25ldone\n",
      "\u001b[?25h  Stored in directory: /Users/seojungwon/Library/Caches/pip/wheels/81/2b/43/a02ede72324dd40cdd7ca53aad718c7710628e91b8b0dc0f02\n",
      "Successfully built smart-open jieba3k feedfinder2 feedparser tinysegmenter\n",
      "Installing collected packages: jmespath, botocore, s3transfer, boto3, smart-open, gensim, jieba3k, cssselect, feedfinder2, requests-file, tldextract, feedparser, tinysegmenter, newspaper3k\n",
      "Successfully installed boto3-1.10.13 botocore-1.13.13 cssselect-1.1.0 feedfinder2-0.0.4 feedparser-5.2.1 gensim-3.8.1 jieba3k-0.35.1 jmespath-0.9.4 newspaper3k-0.2.8 requests-file-1.4.3 s3transfer-0.2.1 smart-open-1.9.0 tinysegmenter-0.3 tldextract-2.2.2\n"
     ]
    }
   ],
   "source": [
    "import sys\n",
    "!{sys.executable} -m pip install gensim newspaper3k"
   ]
  },
  {
   "cell_type": "markdown",
   "metadata": {},
   "source": [
    "## 2. 분석할 텍스트 데이터 스크래핑 using newspaper3k"
   ]
  },
  {
   "cell_type": "code",
   "execution_count": 13,
   "metadata": {},
   "outputs": [
    {
     "name": "stdout",
     "output_type": "stream",
     "text": [
      "사진=안드레 고메스 SNS 사진=안드레 고메스 SNS\n",
      "\n",
      "참 다행이다. 안드레 고메스(에버턴)와 손흥민(토트넘) 모두 다행이다.지난 4일 안타까운 일이 발생했다. 잉글랜드 프리미어리그 11라운드 토트넘과 에버턴의 경기에서 후반 33분 손흥민은 고메스에 백태클을 가하면서 퇴장을 당했다. 이후 고메스는 토트넘 수비수 서지 오리에와 충돌하면서 쓰러졌다. 발목 골절이라는 큰 부상을 당했다. 불운이 겹쳤고, 고메스와 손흥민 모두 지울 수 없는 상처를 받아야 했다. 이 사태의 후폭풍에 대한 걱정도 컸다. 전 세계 많은 이들이 두 선수를 향해 위로와 응원의 메시지를 보냈다.다행스럽게도 고메스의 수술 결과가 좋게 나왔다. 에버턴은 5일 공식 홈페이지를 통해 \"고메스가 오른쪽 발목 수술을 받았고, 매우 잘 끝났다. 병원에서 회복을 한 뒤 곧바로 재활에 들어갈 예정\"이라고 발표했다. 경과가 좋아 완벽한 회복에 기대를 걸고 있다. 고메스의 축구 인생도 계속될 수 있다는 희망적인 메시지가 전해졌다. 그리고 7일. 고메스는 자신의 SNS 영상을 통해 \"많은 응원을 보내줘 고맙다\"라는 마음을 전했다. 영상 속 고메스는 밝은 표정을 지었다. 그의 미소가 곧 희망의 메시지다.다행스럽게도 손흥민도 정신적 충격에서 조금은 벗어난 모습이다. 현지 언론들은 7일 열린 유럽축구연맹(UEFA) 챔피언스리그(UCL) B조 4차전 토트넘과 츠르베나 즈베즈다(세르비아) 경기에 손흥민이 출전하지 않을 가능성을 보도했다. 손흥민에게 안정이 필요하다는 이유에서였다. 하지만 손흥민은 경기에 출전했다. 그리고 유럽 통산 122호, 123호골을 터뜨렸고, 토트넘은 4-0 대승을 거뒀다. 손흥민이 차범근(통산 121골)을 넘어 역대 한국인 유럽 최다골 신기록을 갈아치우는 역사적인 순간. 이때 손흥민은 고메스를 향한 미안함을 먼저 표현했다. 첫 골을 넣은 뒤 손흥민은 두 손을 모아 사과의 뜻을 전했다. 현지 언론들은 감동적 세리머니였다고 표현했다. 경기 후 손흥민은 현지 언론을 통해 \"힘든 기간이었다. 하지만 응원해주는 팬들과 동료들로 인해 내가 행운을 가졌다는 것을 깨달은 기간이기도 했다. 고메스에게 정말 미안하다\"고 밝혔다. 미안한 진심을 품은 채 축구 선수로서 최선을 다했다. 트라우마를 벗어나기 위해 축구에 집중했다. 그의 2골 역시 희망의 메시지다.최용재 기자 choi.yonhjae@joins.com\n"
     ]
    }
   ],
   "source": [
    "from gensim.summarization.summarizer import summarize\n",
    "from gensim.summarization import keywords\n",
    "from newspaper import Article\n",
    "\n",
    "url = 'https://sports.news.naver.com/news.nhn?oid=241&aid=0002977763'\n",
    "news = Article(url, language='ko')\n",
    "news.download()\n",
    "news.parse()\n",
    "#원문 출력\n",
    "print(news.text)"
   ]
  },
  {
   "cell_type": "markdown",
   "metadata": {},
   "source": [
    "## 3. Tokenizer 정의"
   ]
  },
  {
   "cell_type": "code",
   "execution_count": 16,
   "metadata": {},
   "outputs": [
    {
     "name": "stderr",
     "output_type": "stream",
     "text": [
      "/Users/seojungwon/anaconda3/lib/python3.6/site-packages/jpype/_core.py:210: UserWarning: \n",
      "-------------------------------------------------------------------------------\n",
      "Deprecated: convertStrings was not specified when starting the JVM. The default\n",
      "behavior in JPype will be False starting in JPype 0.8. The recommended setting\n",
      "for new code is convertStrings=False.  The legacy value of True was assumed for\n",
      "this session. If you are a user of an application that reported this warning,\n",
      "please file a ticket with the developer.\n",
      "-------------------------------------------------------------------------------\n",
      "\n",
      "  \"\"\")\n"
     ]
    }
   ],
   "source": [
    "from konlpy.tag import Okt\n",
    "okt = Okt()\n",
    "# tokenizer : 문장에서 색인어 추출을 위해 명사,동사,알파벳,숫자 정도의 단어만 뽑아서 normalization, stemming 처리하도록 함\n",
    "def tokenizer(raw, pos=[\"Noun\",\"Verb\"], stopword=[]):\n",
    "    return [\n",
    "        word for word, tag in okt.pos(\n",
    "            raw, \n",
    "            norm=True,   # normalize 그랰ㅋㅋ -> 그래ㅋㅋ\n",
    "            stem=True    # stemming 바뀌나->바뀌다\n",
    "            )\n",
    "            if len(word) > 1 and tag in pos and word not in stopword\n",
    "        ]\n"
   ]
  },
  {
   "cell_type": "code",
   "execution_count": 20,
   "metadata": {
    "scrolled": true
   },
   "outputs": [
    {
     "data": {
      "text/plain": [
       "'사진 안드레 고메스 사진 안드레 고메스 차다 다행 안드레 고메스 에버턴 오다 손흥민 토트넘 모두 다행 지난 발생 하다 잉글랜드 프리미어리그 라운드 토트넘 에버턴 경기 후반 손흥민 고메스 태클 가하다 퇴장 이후 고메스 토트넘 수비수 서지 오리 오다 충돌 하다 쓰러지다 발목 골절 크다 부상 불운 치다 고메스 손흥민 모두 지우다 상처 받다 하다 사태 폭풍 대한 걱정 크다 세계 선수 하다 위로 응원 메시지 보내다 다행 고메스 수술 결과 나오다 에버턴 공식 홈페이지 통해 고메스 오른쪽 발목 수술 받다 매우 자다 끝나다 병원 회복 하다 곧바로 재활 들어가다 예정 발표 하다 경과 회복 기대 걸다 고메스 축구 인생 계속 되다 희망 메시지 전해지다 고메스 자신 영상 통해 응원 보내다 마음 하다 영상 고메스 밝다 표정 지다 미소 희망 메시지 다행 손흥민 정신 충격 조금 벗어나다 모습 현지 언론 열리다 유럽 축구 연맹 챔피언스리그 차다 토트넘 츠르베 즈베즈다 세르비아 경기 손흥민 출전 하다 않다 가능성 보도 하다 손흥민 안정 이유 이다 손흥민 경기 출전 하다 유럽 통산 호골 터뜨리다 토트넘 대승 거두다 손흥민 차범근 통산 넘다 역대 한국인 유럽 신기록 치우다 역사 순간 손흥민 고메스 먼저 표현 하다 넣다 손흥민 모으다 사과 하다 현지 언론 감동 세리머니 이다 표현 하다 경기 손흥민 현지 언론 통해 기간 이다 응원 해주다 동료 행운 가지다 깨달 기간 하다 고메스 정말 밝히다 진심 품다 축구 선수 로서 최선 하다 트라우마 벗어나다 위해 축구 집중 하다 역시 희망 메시지 최용재 기자'"
      ]
     },
     "execution_count": 20,
     "metadata": {},
     "output_type": "execute_result"
    }
   ],
   "source": [
    "tokenized_text = \" \".join(tokenizer(news.text))\n",
    "tokenized_text"
   ]
  },
  {
   "cell_type": "markdown",
   "metadata": {},
   "source": [
    "## 4. 키워드 추출"
   ]
  },
  {
   "cell_type": "code",
   "execution_count": 19,
   "metadata": {},
   "outputs": [
    {
     "name": "stdout",
     "output_type": "stream",
     "text": [
      "['손흥민 토트넘', '고메스', '메시지', '에버턴']\n"
     ]
    }
   ],
   "source": [
    "\n",
    "print(keywords(tokenized_text).split('\\n'))"
   ]
  },
  {
   "cell_type": "markdown",
   "metadata": {},
   "source": [
    "## 5. 문서요약"
   ]
  },
  {
   "cell_type": "code",
   "execution_count": 26,
   "metadata": {},
   "outputs": [
    {
     "name": "stdout",
     "output_type": "stream",
     "text": [
      "안드레 고메스(에버턴)와 손흥민(토트넘) 모두 다행이다.지난 4일 안타까운 일이 발생했다.\n",
      "잉글랜드 프리미어리그 11라운드 토트넘과 에버턴의 경기에서 후반 33분 손흥민은 고메스에 백태클을 가하면서 퇴장을 당했다.\n",
      "그의 미소가 곧 희망의 메시지다.다행스럽게도 손흥민도 정신적 충격에서 조금은 벗어난 모습이다.\n",
      "현지 언론들은 7일 열린 유럽축구연맹(UEFA) 챔피언스리그(UCL) B조 4차전 토트넘과 츠르베나 즈베즈다(세르비아) 경기에 손흥민이 출전하지 않을 가능성을 보도했다.\n",
      "하지만 손흥민은 경기에 출전했다.\n",
      "첫 골을 넣은 뒤 손흥민은 두 손을 모아 사과의 뜻을 전했다.\n",
      "--------------------------------------------------\n",
      "안드레 고메스(에버턴)와 손흥민(토트넘) 모두 다행이다.지난 4일 안타까운 일이 발생했다.\n",
      "잉글랜드 프리미어리그 11라운드 토트넘과 에버턴의 경기에서 후반 33분 손흥민은 고메스에 백태클을 가하면서 퇴장을 당했다.\n",
      "그의 미소가 곧 희망의 메시지다.다행스럽게도 손흥민도 정신적 충격에서 조금은 벗어난 모습이다.\n",
      "하지만 손흥민은 경기에 출전했다.\n",
      "첫 골을 넣은 뒤 손흥민은 두 손을 모아 사과의 뜻을 전했다.\n",
      "--------------------------------------------------\n",
      "안드레 고메스(에버턴)와 손흥민(토트넘) 모두 다행이다.지난 4일 안타까운 일이 발생했다.\n",
      "잉글랜드 프리미어리그 11라운드 토트넘과 에버턴의 경기에서 후반 33분 손흥민은 고메스에 백태클을 가하면서 퇴장을 당했다.\n",
      "하지만 손흥민은 경기에 출전했다.\n"
     ]
    }
   ],
   "source": [
    "print(summarize(news.text))\n",
    "print(\"-\"*50)\n",
    "print(summarize(news.text, word_count=50))\n",
    "print(\"-\"*50)\n",
    "print(summarize(news.text, ratio=0.1))\n"
   ]
  },
  {
   "cell_type": "code",
   "execution_count": null,
   "metadata": {},
   "outputs": [],
   "source": []
  }
 ],
 "metadata": {
  "kernelspec": {
   "display_name": "Python 3",
   "language": "python",
   "name": "python3"
  },
  "language_info": {
   "codemirror_mode": {
    "name": "ipython",
    "version": 3
   },
   "file_extension": ".py",
   "mimetype": "text/x-python",
   "name": "python",
   "nbconvert_exporter": "python",
   "pygments_lexer": "ipython3",
   "version": "3.6.8"
  }
 },
 "nbformat": 4,
 "nbformat_minor": 2
}
