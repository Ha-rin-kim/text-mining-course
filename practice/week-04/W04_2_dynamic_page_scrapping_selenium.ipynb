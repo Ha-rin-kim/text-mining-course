{
 "cells": [
  {
   "cell_type": "markdown",
   "metadata": {},
   "source": [
    "# TEXT MINING for PRACTICE: 동적 페이지 수집 using Selenium\n",
    "---"
   ]
  },
  {
   "cell_type": "markdown",
   "metadata": {},
   "source": [
    "## 1. Selenium 패키지 다운로드 및 설치"
   ]
  },
  {
   "cell_type": "code",
   "execution_count": 1,
   "metadata": {},
   "outputs": [
    {
     "name": "stdout",
     "output_type": "stream",
     "text": [
      "Requirement already satisfied: selenium in /Users/seojungwon/anaconda3/lib/python3.6/site-packages (3.141.0)\r\n",
      "Requirement already satisfied: urllib3 in /Users/seojungwon/.local/lib/python3.6/site-packages (from selenium) (1.22)\r\n"
     ]
    }
   ],
   "source": [
    "import sys\n",
    "!{sys.executable} -m pip install selenium"
   ]
  },
  {
   "cell_type": "markdown",
   "metadata": {},
   "source": [
    "- 크롬 버전 확인 후 알맞은 드라이버 다운로드\n",
    "- 주소창에 chrome://settings/help 입력\n",
    "- http://chromedriver.chromium.org/downloads에 접속하여 다운로드"
   ]
  },
  {
   "cell_type": "markdown",
   "metadata": {},
   "source": [
    "## 2. 관련 패키지 Import"
   ]
  },
  {
   "cell_type": "code",
   "execution_count": 72,
   "metadata": {},
   "outputs": [],
   "source": [
    "# Python 코드를 통해 가상의 브라우저를 띄우기 위해 selenium 패키지를 import 합니다.\n",
    "import selenium\n",
    "from selenium import webdriver\n",
    "from selenium.webdriver.common.by import By\n",
    "\n",
    "# selenium을 활용해 브라우저를 직접 띄우는 경우, 실제 웹서핑을 할때처럼 로딩시간이 필요합니다.\n",
    "# 로딩시간 동안 대기하도록 코드를 구성하기위해 time 패키지를 import 합니다.\n",
    "import time\n",
    "\n",
    "# Python 코드를 통해 웹페이지에 정보를 요청하기 위해 BeautifulSoup, urllib 패키지를 import 합니다.\n",
    "from bs4 import BeautifulSoup\n",
    "import requests\n",
    "import urllib"
   ]
  },
  {
   "cell_type": "markdown",
   "metadata": {},
   "source": [
    "## 3. 크롬 브라우저 열기"
   ]
  },
  {
   "cell_type": "code",
   "execution_count": 73,
   "metadata": {},
   "outputs": [
    {
     "name": "stderr",
     "output_type": "stream",
     "text": [
      "/Users/seojungwon/anaconda3/lib/python3.6/site-packages/ipykernel_launcher.py:16: DeprecationWarning: use options instead of chrome_options\n",
      "  app.launch_new_instance()\n"
     ]
    }
   ],
   "source": [
    "# Chrome Driver를 호출합니다.\n",
    "chrome_options = webdriver.ChromeOptions()\n",
    "\n",
    "# 브라우저에 임의로 User-agent 옵션을 넣어 Python 코드로 접속함을 숨깁니다.\n",
    "chrome_options.add_argument('--user-agent=\"Mozilla/5.0 (Macintosh; Intel Mac OS X 10_13_4) AppleWebKit/537.36 (KHTML, like Gecko) Chrome/66.0.3359.139 Safari/537.36\"')\n",
    "\n",
    "# Chrome Driver 파일의 경로를 지정하고 실행합니다.\n",
    "# Chrome Driver는 아래 링크에서 다운로드 가능합니다.\n",
    "\n",
    "# 본 Jupyter Notebook 파일과 동일한 경로에 Chrome Driver가 존재하는 경우 아래 경로를 그대로 사용합니다.\n",
    "\n",
    "# Windows 운영체제\n",
    "#driver = webdriver.Chrome(executable_path = \"chromedriver\", chrome_options=chrome_options)\n",
    "\n",
    "# MAC, Linux 운영체제\n",
    "driver = webdriver.Chrome(executable_path = \"./chromedriver\", chrome_options=chrome_options)"
   ]
  },
  {
   "cell_type": "markdown",
   "metadata": {},
   "source": [
    "## 4. 인스타그램 접속"
   ]
  },
  {
   "cell_type": "code",
   "execution_count": 74,
   "metadata": {},
   "outputs": [],
   "source": [
    "# 브라우저에서 URL에 해당하는 페이지로 이동합니다.\n",
    "URL = \"https://www.instagram.com/\"\n",
    "driver.get(URL)\n",
    "# 실제 페이지가 불러와지는 시간을 고려해 sleep(SEC) 함수로 기다리는 시간을 지정해줍니다.\n",
    "time.sleep(5)"
   ]
  },
  {
   "cell_type": "markdown",
   "metadata": {},
   "source": [
    "## 5. 로그인 하기"
   ]
  },
  {
   "cell_type": "code",
   "execution_count": 75,
   "metadata": {},
   "outputs": [],
   "source": [
    "# 인스타그램 게시물에 접근하기 위해서는 로그인이 필요합니다.\n",
    "# 인스타그램 로그인 페이지로 이동합니다.\n",
    "# click() 함수로 원하는 요소(태그)를 클릭할 수 있습니다.\n",
    "driver.find_element(By.CLASS_NAME, \"izU2O\").find_element(By.TAG_NAME, \"a\").click()\n",
    "time.sleep(5)"
   ]
  },
  {
   "cell_type": "code",
   "execution_count": 76,
   "metadata": {},
   "outputs": [],
   "source": [
    "# 인스타그램 로그인 페이지에서 아이디(ID)와 비밀번호(PW)를 입력합니다.\n",
    "# 아이디와 비밀번호를 브라우저에서 직접 입력해도 됩니다.\n",
    "ID = \"YOUR_ID\"\n",
    "PW = \"YOUR_PASSWORD\"\n",
    "driver.find_element(By.NAME, \"username\").send_keys(ID)\n",
    "driver.find_element(By.NAME, \"password\").send_keys(PW)\n",
    "time.sleep(2)"
   ]
  },
  {
   "cell_type": "code",
   "execution_count": 77,
   "metadata": {},
   "outputs": [],
   "source": [
    "driver.find_element(By.CLASS_NAME, \"L3NKy\").click()\n",
    "time.sleep(5)"
   ]
  },
  {
   "cell_type": "code",
   "execution_count": 78,
   "metadata": {},
   "outputs": [],
   "source": [
    "driver.find_element(By.CLASS_NAME, \"mt3GC\").find_elements(By.TAG_NAME, \"button\")[1].click()\n",
    "time.sleep(5)"
   ]
  },
  {
   "cell_type": "markdown",
   "metadata": {},
   "source": [
    "## 6. 검색어 입력"
   ]
  },
  {
   "cell_type": "code",
   "execution_count": 79,
   "metadata": {},
   "outputs": [],
   "source": [
    "keyword = \"#손흥민\"\n",
    "search_form = driver.find_element(By.CSS_SELECTOR, \"#react-root > section > nav > div._8MQSO.Cx7Bp > div > div > div.LWmhU._0aCwM > input\")\n",
    "search_form.send_keys(keyword)\n",
    "time.sleep(5)"
   ]
  },
  {
   "cell_type": "code",
   "execution_count": 80,
   "metadata": {},
   "outputs": [],
   "source": [
    "search_url = driver.find_element(By.CLASS_NAME, \"fuqBx\").find_element(By.TAG_NAME, \"a\").get_attribute(\"href\")\n",
    "driver.get(search_url)\n",
    "time.sleep(5)"
   ]
  },
  {
   "cell_type": "markdown",
   "metadata": {},
   "source": [
    "## 7. 검색 결과 로딩 후 수집 시작!"
   ]
  },
  {
   "cell_type": "code",
   "execution_count": 81,
   "metadata": {},
   "outputs": [
    {
     "name": "stdout",
     "output_type": "stream",
     "text": [
      "hm_banana * 볼리비아전 편집하다가 ( ⁼̴̤̆◡̶͂⁼̴̤̆ ) 입꼬리 진짜💙 . 𖤐 𝘴𝘰𝘶𝘳𝘤𝘦 : kbs2 𖤐 𝘦𝘥𝘪𝘵 : @𝘩𝘮_𝘣𝘢𝘯𝘢𝘯𝘢 - - - #손흥민 #sonheungmin #heungminson #sonny #HM7 #국가대표손흥민🇰🇷 #대한민국vs볼리비아 #친선경기 #손흥민사랑함듕💙 17시간\n",
      "huieon94 #손흥민 시즌 첫 골과 멀티골 넣은 후 모습 입니다! 오늘은 정말 손흥민의 날이네요. 토트넘 4-0 크리스탈 팰리스 with @goal_korea #축스타그램 #일상 #데일리 #축구 #취재 #프리미어리그 #EPL #현장 #골닷컴 #토트넘 #크팰 #경기 #영상 #직촬 #instargood #football #tottenhamhotspur #match #sonheungmin #goal #son #good #⚽ 10시간\n",
      "hm__son7__ 아아아ㅠㅠ이렇게 웃으면ㅠㅠ사람 죽어요😭😭❤️ 출처 @goal_korea #손흥민 1시간\n",
      "hm7__son 뭔일이야ㅠㅠㅠㅠㅠㅠㅠㅠ 수정궁 상대로 A매치 끝나고 와서 이렇게 강하네 진짜ㅠㅠㅠㅠㅠㅠㅠㅜㅠ 골 기대 많이 안하고 있었는데 짜릿하다 초반부터💙💙💙💙 영상 올리려고 하고있는데 와중에 멀티골 실화냐,,,,,,,, ⠀⠀⠀⠀⠀⠀⠀⠀⠀ OMG SONNY'S SEASON FIRST GOAL🔥🔥🔥🔥AND HE JUST SCORED HIS SECOND GOAL WHEN I WAS UPLOADING THIS VIDEO OMG🤣🤣🤣😍😍😍 ⠀⠀⠀⠀⠀⠀⠀⠀⠀ #손흥민 #COYS 14시간\n",
      "kimjejelly 우리흥 시소코랑 핸드셰이크 🙌🏻하고... 토트넘 선수님들도 수고하셨네요👏🏻👏🏻👏🏻 #손흥민#빛흥민#우리흥#손세이셔널#sonheungmin#토트넘#tottenhamhotspur#SON7#🌟#⚽️ 출처 이건의발품스토리tv 🙏🏻 7시간\n",
      "serendipity_097 #토트넘 vs #크리스탈팰리스 #손흥민 #내선수손흥민 #토비 시즌 1호골🎉🎉 최고👍👍👍👍 15시간\n",
      "sonny7__ 행복해보여서 나도 행복해 ㅠㅠㅠㅠㅠㅠㅠㅠㅠ💙 12시간\n",
      "olympic 인증됨 여러분의 선택은?!😁 #김연아 #손흥민 #진종오 #최민정 #양학선 #기보배 #이상화 #박상영 #윤성빈 #장미란 2일\n",
      "hm__son7__ 골ㅠㅠㅠ흥민 오늘도 짱멋지다❤️ 두번째 포즈 웃긴데 선수님이 하니깐 멋있는....🤣🤦‍♀️ #손흥민 15시간\n",
      "son_7__8 손흥민 맹활약+포체티노 연설, 토트넘 반등 중심 역할 (英 매체)#포체티노#손흥민 #내선수_손흥민_애정해 #토트넘 3분\n",
      "zeroah_ver.2 이번 시즌 중 최고의 경기 . . . #손흥민 #토트넘 #spurs #coys #최고의경기 #축구 #일상 #일상스타그램 #일상그램 #고1 #고1스타그램 #17 #17스타그램 #좋아요 #좋반 #좋테 #팔로우 #팔로우해요 #팔로우반사 #선팔맞팔 #선팔하면맞팔가요 #선팔맞팔환영 #맞팔환영 #맞팔선팔 #댓 #소통 #소통환영 4분\n",
      "daily_record_ins #9.15 #백가네 #손흥민 #축구 #치킨 #소맥 57분\n",
      "sonny_cut . 살이 너무 빠지셔서 얼굴 더작아지심😂 여기저기서 핫한 선수님❤️ 어제도 셀럽이셨다 . cr | @goal_korea . . #손흥민 #흥민 #캡틴손 #쏘니 #son #sonny #sonshine #sonsational #thekfa #COYS #tottenhamhotspur #tottenham #THFC #SPURS 1시간\n",
      "nice_sonny_0708 선수님 정말 행복해 보여서 좋아요~♡ - 요즘 선수님이 활짝 웃으시는 순간이 보기 힘들어서 그 모습을 보는 팬 으로서 많이 속상했는데 어제는 그동안의 속상함이 한번에 사라질 만큼 선수님의 모습도 행복해 보이시구 활짝 웃고 계신 모습을 볼수 있어서 잊을수 없는 날이 될거 같아요  이제 선수님이 어제처럼 계속 행복한 웃음 가득하시고 경기장 에서 멋지게 경기 하실수 있도록 저는 이 자리에서 더 열심히 응원하고 또 응원할께요  어제 정말 선수님 최고의 선수님 이셨구 멋지셨어요 행복합니다.그리고 감사합니다.선수님의 팬일수 있어서..♡ - #흥해라손흥민#손세이셔널#손흥민#손댕댕#손날두#크리스탈팰리스전#토트넘#tottenhamhotspurs#축구#축구할때_가장_빛나는_내_선수#sonheungmin#sonny#쏘니#손뽕#네가최고#손흥민팬계정#son7#손샤인#손흥민_당신을_응원합니다⚽#나이스원쏘니#niceonesonny#하나뿐인내선수#국뽕#넘나좋다#coys#thfc#빛흥민 - 출처 Getty's images 1시간\n"
     ]
    }
   ],
   "source": [
    "# 수집된 게시물 개수를 저장할 변수를 선언합니다.\n",
    "post_count = 0\n",
    "\n",
    "# 게시물 내용을 저장할 파일을 생성합니다.\n",
    "# 파일명에는 \"#\"을 포함할 수 없으므로 제거해줍니다.\n",
    "f = open(\"instagram_post_\" + keyword.replace(\"#\", \"\") + \".txt\", \"w\", encoding = \"utf-8\")\n",
    "\n",
    "# 인스타그램 게시물은 스크롤을 계속 내려야 모든 게시물을 확인할 수 있습니다.\n",
    "# 몇 번 스크롤을 내리면서 게시물을 수집할지 지정합니다.\n",
    "# 게시물이 양이 많을수록 스크롤 횟수를 늘려줍니다.\n",
    "scroll_limit = 2\n",
    "\n",
    "# 수집된 전체 게시물을 저장할 리스트를 생성합니다.\n",
    "# 중복된 게시물 수집을 방지하기위해 활용됩니다.\n",
    "total_post_list = []\n",
    "\n",
    "for i in range(scroll_limit+1):\n",
    "    # 현재 내려진 스크롤 횟수를 출력합니다.\n",
    "    print(\"Scroll 횟수 :\", i, end=\"\\r\")\n",
    "    time.sleep(5)\n",
    "    # 현재 화면상에 출현한 게시물 모두를 불러와 리스트에 저장합니다.\n",
    "    post_list = driver.find_elements(By.CLASS_NAME, \"_9AhH0\")\n",
    "    # 이미 수집된 게시물이 있는지 확인하고 새로운 게시물만 리스트에 저장합니다.\n",
    "    post_list = [post for post in post_list if post not in total_post_list]\n",
    "    # 수집할 게시물을 수집된 전체 게시물 리스트에 추가합니다.\n",
    "    total_post_list += post_list\n",
    "    # FOR 문을 활용해 게시물 지정을 반복합니다. (1.~4. 반복)\n",
    "    for post in post_list:\n",
    "        try:\n",
    "            # 1. 포스팅 이미지를 클릭합니다.\n",
    "            post.click()\n",
    "            time.sleep(7)\n",
    "            # 2. 포스팅 본문의 텍스트를 가져옵니다.\n",
    "            try:\n",
    "                content = driver.find_element(By.CLASS_NAME, \"C4VMK\").text\n",
    "                content = content.replace(\"\\n\", \" \")\n",
    "                print(content)\n",
    "                f.write(content + \"\\n\")\n",
    "            except:\n",
    "                None\n",
    "            # 3. 수집한 포스트 개수를 늘려줍니다.\n",
    "            post_count += 1\n",
    "            # 4. 우측 상단의 X를 눌러 팝업창을 닫습니다.\n",
    "            driver.find_element(By.CLASS_NAME, \"ckWGn\").click()\n",
    "        except:\n",
    "            continue\n",
    "    time.sleep(5)        \n",
    "    # 스크롤을 내려 추가로 게시물이 브라우저에 보이도록 합니다.\n",
    "    driver.execute_script(\"window.scrollTo(0, document.body.scrollHeight);\")\n",
    "    time.sleep(5)\n",
    "f.close()"
   ]
  },
  {
   "cell_type": "code",
   "execution_count": 82,
   "metadata": {},
   "outputs": [
    {
     "name": "stdout",
     "output_type": "stream",
     "text": [
      "> 수집한 총 게시물 개수 : 15\n"
     ]
    }
   ],
   "source": [
    "print(\"> 수집한 총 게시물 개수 :\", post_count)\n"
   ]
  },
  {
   "cell_type": "code",
   "execution_count": 83,
   "metadata": {},
   "outputs": [],
   "source": [
    "# Chrome Driver를 닫습니다.\n",
    "driver.close()"
   ]
  },
  {
   "cell_type": "code",
   "execution_count": 86,
   "metadata": {
    "scrolled": true
   },
   "outputs": [
    {
     "name": "stdout",
     "output_type": "stream",
     "text": [
      "hm_banana * 볼리비아전 편집하다가 ( ⁼̴̤̆◡̶͂⁼̴̤̆ ) 입꼬리 진짜💙 . 𖤐 𝘴𝘰𝘶𝘳𝘤𝘦 : kbs2 𖤐 𝘦𝘥𝘪𝘵 : @𝘩𝘮_𝘣𝘢𝘯𝘢𝘯𝘢 - - - #손흥민 #sonheungmin #heungminson #sonny #HM7 #국가대표손흥민🇰🇷 #대한민국vs볼리비아 #친선경기 #손흥민사랑함듕💙 17시간\n",
      "huieon94 #손흥민 시즌 첫 골과 멀티골 넣은 후 모습 입니다! 오늘은 정말 손흥민의 날이네요. 토트넘 4-0 크리스탈 팰리스 with @goal_korea #축스타그램 #일상 #데일리 #축구 #취재 #프리미어리그 #EPL #현장 #골닷컴 #토트넘 #크팰 #경기 #영상 #직촬 #instargood #football #tottenhamhotspur #match #sonheungmin #goal #son #good #⚽ 10시간\n",
      "hm__son7__ 아아아ㅠㅠ이렇게 웃으면ㅠㅠ사람 죽어요😭😭❤️ 출처 @goal_korea #손흥민 1시간\n",
      "hm7__son 뭔일이야ㅠㅠㅠㅠㅠㅠㅠㅠ 수정궁 상대로 A매치 끝나고 와서 이렇게 강하네 진짜ㅠㅠㅠㅠㅠㅠㅠㅜㅠ 골 기대 많이 안하고 있었는데 짜릿하다 초반부터💙💙💙💙 영상 올리려고 하고있는데 와중에 멀티골 실화냐,,,,,,,, ⠀⠀⠀⠀⠀⠀⠀⠀⠀ OMG SONNY'S SEASON FIRST GOAL🔥🔥🔥🔥AND HE JUST SCORED HIS SECOND GOAL WHEN I WAS UPLOADING THIS VIDEO OMG🤣🤣🤣😍😍😍 ⠀⠀⠀⠀⠀⠀⠀⠀⠀ #손흥민 #COYS 14시간\n",
      "kimjejelly 우리흥 시소코랑 핸드셰이크 🙌🏻하고... 토트넘 선수님들도 수고하셨네요👏🏻👏🏻👏🏻 #손흥민#빛흥민#우리흥#손세이셔널#sonheungmin#토트넘#tottenhamhotspur#SON7#🌟#⚽️ 출처 이건의발품스토리tv 🙏🏻 7시간\n",
      "serendipity_097 #토트넘 vs #크리스탈팰리스 #손흥민 #내선수손흥민 #토비 시즌 1호골🎉🎉 최고👍👍👍👍 15시간\n",
      "sonny7__ 행복해보여서 나도 행복해 ㅠㅠㅠㅠㅠㅠㅠㅠㅠ💙 12시간\n",
      "olympic 인증됨 여러분의 선택은?!😁 #김연아 #손흥민 #진종오 #최민정 #양학선 #기보배 #이상화 #박상영 #윤성빈 #장미란 2일\n",
      "hm__son7__ 골ㅠㅠㅠ흥민 오늘도 짱멋지다❤️ 두번째 포즈 웃긴데 선수님이 하니깐 멋있는....🤣🤦‍♀️ #손흥민 15시간\n",
      "son_7__8 손흥민 맹활약+포체티노 연설, 토트넘 반등 중심 역할 (英 매체)#포체티노#손흥민 #내선수_손흥민_애정해 #토트넘 3분\n"
     ]
    }
   ],
   "source": [
    "# 파일에 저장된 카페 게시글 내용을 확인합니다.\n",
    "f = open(\"instagram_post_\" + keyword.replace(\"#\", \"\") + \".txt\", encoding=\"utf-8\")\n",
    "for post in f.read().split(\"\\n\")[:10]:\n",
    "    print(post.strip())\n",
    "f.close()\n"
   ]
  },
  {
   "cell_type": "code",
   "execution_count": 92,
   "metadata": {},
   "outputs": [],
   "source": []
  },
  {
   "cell_type": "code",
   "execution_count": null,
   "metadata": {},
   "outputs": [],
   "source": [
    "#Q. 단순 Request를 이용해서는 수집 할 수 없을까?"
   ]
  }
 ],
 "metadata": {
  "kernelspec": {
   "display_name": "Python 3",
   "language": "python",
   "name": "python3"
  },
  "language_info": {
   "codemirror_mode": {
    "name": "ipython",
    "version": 3
   },
   "file_extension": ".py",
   "mimetype": "text/x-python",
   "name": "python",
   "nbconvert_exporter": "python",
   "pygments_lexer": "ipython3",
   "version": "3.6.8"
  }
 },
 "nbformat": 4,
 "nbformat_minor": 2
}
