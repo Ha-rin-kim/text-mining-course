{
 "cells": [
  {
   "cell_type": "markdown",
   "metadata": {},
   "source": [
    "# TEXT MINING for PRACTICE: 파일 입출력 (File I/O)\n",
    "---"
   ]
  },
  {
   "cell_type": "markdown",
   "metadata": {},
   "source": [
    "## 1-1. 텍스트 파일 읽기-1"
   ]
  },
  {
   "cell_type": "code",
   "execution_count": 1,
   "metadata": {},
   "outputs": [],
   "source": [
    "data = open('data/text1.txt', mode=\"r\")"
   ]
  },
  {
   "cell_type": "code",
   "execution_count": 2,
   "metadata": {},
   "outputs": [
    {
     "data": {
      "text/plain": [
       "<_io.TextIOWrapper name='data/text1.txt' mode='r' encoding='UTF-8'>"
      ]
     },
     "execution_count": 2,
     "metadata": {},
     "output_type": "execute_result"
    }
   ],
   "source": [
    "data"
   ]
  },
  {
   "cell_type": "code",
   "execution_count": 3,
   "metadata": {},
   "outputs": [
    {
     "data": {
      "text/plain": [
       "\"모든 게 궁금해 how's your day\""
      ]
     },
     "execution_count": 3,
     "metadata": {},
     "output_type": "execute_result"
    }
   ],
   "source": [
    "data.read()"
   ]
  },
  {
   "cell_type": "code",
   "execution_count": 4,
   "metadata": {},
   "outputs": [
    {
     "data": {
      "text/plain": [
       "''"
      ]
     },
     "execution_count": 4,
     "metadata": {},
     "output_type": "execute_result"
    }
   ],
   "source": [
    "data.read()"
   ]
  },
  {
   "cell_type": "code",
   "execution_count": 5,
   "metadata": {},
   "outputs": [
    {
     "data": {
      "text/plain": [
       "0"
      ]
     },
     "execution_count": 5,
     "metadata": {},
     "output_type": "execute_result"
    }
   ],
   "source": [
    "data.seek(0)"
   ]
  },
  {
   "cell_type": "code",
   "execution_count": 6,
   "metadata": {},
   "outputs": [
    {
     "data": {
      "text/plain": [
       "\"모든 게 궁금해 how's your day\""
      ]
     },
     "execution_count": 6,
     "metadata": {},
     "output_type": "execute_result"
    }
   ],
   "source": [
    "data.read()"
   ]
  },
  {
   "cell_type": "code",
   "execution_count": 7,
   "metadata": {},
   "outputs": [],
   "source": [
    "data.close()"
   ]
  },
  {
   "cell_type": "markdown",
   "metadata": {},
   "source": [
    "## 1-2. 텍스트 파일 읽기-2"
   ]
  },
  {
   "cell_type": "code",
   "execution_count": 8,
   "metadata": {},
   "outputs": [],
   "source": [
    "data = open('data/text2.txt', mode=\"r\")"
   ]
  },
  {
   "cell_type": "code",
   "execution_count": 9,
   "metadata": {},
   "outputs": [
    {
     "data": {
      "text/plain": [
       "[\"모든 게 궁금해 how's your day\\n\", 'Oh tell me (oh yeah yeah, ah yeh ah yeh)']"
      ]
     },
     "execution_count": 9,
     "metadata": {},
     "output_type": "execute_result"
    }
   ],
   "source": [
    "data.readlines()"
   ]
  },
  {
   "cell_type": "code",
   "execution_count": 10,
   "metadata": {},
   "outputs": [
    {
     "data": {
      "text/plain": [
       "[]"
      ]
     },
     "execution_count": 10,
     "metadata": {},
     "output_type": "execute_result"
    }
   ],
   "source": [
    "# Q. 만약 다시 readlines를 출력한다면?\n",
    "data.readlines()"
   ]
  },
  {
   "cell_type": "code",
   "execution_count": 11,
   "metadata": {},
   "outputs": [
    {
     "data": {
      "text/plain": [
       "0"
      ]
     },
     "execution_count": 11,
     "metadata": {},
     "output_type": "execute_result"
    }
   ],
   "source": [
    "data.seek(0)"
   ]
  },
  {
   "cell_type": "code",
   "execution_count": 12,
   "metadata": {},
   "outputs": [],
   "source": [
    "text = data.readlines()"
   ]
  },
  {
   "cell_type": "code",
   "execution_count": 13,
   "metadata": {},
   "outputs": [
    {
     "name": "stdout",
     "output_type": "stream",
     "text": [
      "<class 'list'>\n"
     ]
    }
   ],
   "source": [
    "print(type(text))"
   ]
  },
  {
   "cell_type": "code",
   "execution_count": 14,
   "metadata": {},
   "outputs": [],
   "source": [
    "data.close()"
   ]
  },
  {
   "cell_type": "markdown",
   "metadata": {},
   "source": [
    "## 1-3. 텍스트 파일 읽기-3"
   ]
  },
  {
   "cell_type": "code",
   "execution_count": 15,
   "metadata": {},
   "outputs": [
    {
     "name": "stdout",
     "output_type": "stream",
     "text": [
      "모든 게 궁금해 how's your day\n",
      "\n",
      "Oh tell me (oh yeah yeah, ah yeh ah yeh)\n",
      "\n",
      "뭐가 널 행복하게 하는지\n",
      "\n",
      "Oh text me (oh yeah yeah, ah yeh ah yeh)\n",
      "\n",
      "Your every picture\n",
      "\n",
      "내 머리맡에 두고 싶어 oh bae\n",
      "\n",
      "Come be my teacher\n",
      "\n",
      "네 모든 걸 다 가르쳐줘\n",
      "\n",
      "Your one, your two\n",
      "\n",
      "Listen my my baby 나는\n",
      "\n",
      "저 하늘을 높이 날고 있어\n",
      "\n",
      "(그때 니가 내게 줬던 두 날개로)\n",
      "\n",
      "이제 여긴 너무 높아\n",
      "\n",
      "난 내 눈에 널 맞추고 싶어\n",
      "\n",
      "Yeah you makin' me a boy with love\n",
      "\n",
      "Oh my my my, oh my my my\n",
      "\n",
      "I've waited all my life\n",
      "\n",
      "네 전부를 함께하고 싶어\n",
      "\n",
      "Oh my my my, oh my my my\n",
      "\n",
      "Looking for something right\n",
      "\n",
      "이제 조금은 나 알겠어\n",
      "\n",
      "than a moment, than a moment, love\n",
      "\n",
      "(Ooh ah ooh ah ooh ah ooh ah ah) I have waited longer\n",
      "\n",
      "(Ooh ah ooh ah ooh ah ooh ah ooh) \n",
      "\n",
      "For a boy with, for a boy with love\n",
      "\n",
      "널 알게 된 이후 ya 내 삶은 온통 너 ya\n",
      "\n",
      "사소한 게 사소하지 않게 만들어버린 너라는 별\n",
      "\n",
      "(Oh yeah) 하나부터 열까지 ay ay 모든 게 특별하지 ay ay\n",
      "\n",
      "너의 관심사 걸음걸이 말투와 \n",
      "\n",
      "사소한 작은 습관들까지 (oh ah)\n",
      "\n",
      "Ay 다 말하지 너무 작던 내가 영웅이 된 거라고 (oh nah)\n",
      "\n",
      "난 말하지 운명 따윈 처음부터 내 게 아니었다고 (oh nah)\n",
      "\n",
      "세계의 평화 (no way)\n",
      "\n",
      "거대한 질서 (no way)\n",
      "\n",
      "그저 널 지킬 거야 난 (boy with love)\n",
      "\n",
      "Listen my my baby 나는\n",
      "\n",
      "저 하늘을 높이 날고 있어\n",
      "\n",
      "(그때 니가 내게 줬던 두 날개로)\n",
      "\n",
      "이제 여긴 너무 높아\n",
      "\n",
      "난 내 눈에 널 맞추고 싶어\n",
      "\n",
      "Yeah you makin' me a boy with love\n",
      "\n",
      "Oh my my my, oh my my my\n",
      "\n",
      "You got me high so fast\n",
      "\n",
      "네 전부를 함께하고 싶어\n",
      "\n",
      "Oh my my my, oh my my my\n",
      "\n",
      "You got me fly so fast\n",
      "\n",
      "이제 조금은 나 알겠어\n",
      "\n",
      "than a boy with love \n",
      "\n",
      "(Ooh ah ooh ah ooh ah ooh ah ah) love is nothing stronger\n",
      "\n",
      "(Ooh ah ooh ah ooh ah ooh ah ooh) (than a boy with) than a boy with love\n",
      "\n",
      "툭 까놓고 말할게\n",
      "\n",
      "나도 모르게 힘이 들어가기도 했어\n",
      "\n",
      "높아버린 sky, 커져버린 hall\n",
      "\n",
      "때론 도망치게 해달라며 기도했어\n",
      "\n",
      "But 너의 상처는 나의 상처\n",
      "\n",
      "깨달았을 때 나 다짐했던걸\n",
      "\n",
      "니가 준 이카루스의 날개로\n",
      "\n",
      "태양이 아닌 너에게로\n",
      "\n",
      "Let me fly\n",
      "\n",
      "Oh my my my, oh my my my\n",
      "\n",
      "I've waited all my life\n",
      "\n",
      "네 전부를 함께하고 싶어\n",
      "\n",
      "Oh my my my, oh my my my\n",
      "\n",
      "Looking for something right\n",
      "\n",
      "이제 조금은 나 알겠어\n",
      "\n",
      "than a moment, than a moment, love\n",
      "\n",
      "(Ooh ah ooh ah ooh ah ooh ah ah) love is nothing stronger\n",
      "\n",
      "(Ooh ah ooh ah ooh ah ooh ah ooh) (than a boy with) than a boy with love\n"
     ]
    }
   ],
   "source": [
    "with open('data/text3.txt', mode=\"r\") as f :\n",
    "    for line in f.readlines():\n",
    "        print(line)"
   ]
  },
  {
   "cell_type": "markdown",
   "metadata": {},
   "source": [
    "## 텍스트 파일 쓰기"
   ]
  },
  {
   "cell_type": "code",
   "execution_count": 16,
   "metadata": {},
   "outputs": [],
   "source": [
    "with open('data/my_text.txt', mode=\"w\") as f :\n",
    "    text=\"안녕하세요, 비정형 데이터 화이팅!!\"\n",
    "    f.write(text)\n",
    "    #f.read()"
   ]
  },
  {
   "cell_type": "code",
   "execution_count": 17,
   "metadata": {},
   "outputs": [],
   "source": [
    "with open('data/my_text.txt', mode=\"a\") as f :\n",
    "    text=\"안녕하세요, 비정형 데이터 화이팅!!\"\n",
    "    f.write(text)"
   ]
  },
  {
   "cell_type": "code",
   "execution_count": 18,
   "metadata": {},
   "outputs": [
    {
     "name": "stdout",
     "output_type": "stream",
     "text": [
      "['우리 모두 화이팅!!']\n"
     ]
    }
   ],
   "source": [
    "with open('data/my_text.txt', mode=\"w+\") as f :\n",
    "    text=\"우리 모두 화이팅!!\"\n",
    "    f.write(text)\n",
    "    f.seek(0)\n",
    "    print(f.readlines())"
   ]
  },
  {
   "cell_type": "markdown",
   "metadata": {},
   "source": [
    "## 2-1. CSV 파일 읽기/쓰기"
   ]
  },
  {
   "cell_type": "code",
   "execution_count": 19,
   "metadata": {},
   "outputs": [
    {
     "name": "stdout",
     "output_type": "stream",
     "text": [
      "['서중원', '123-123-123', '5000000']\n",
      "['손흥민', '456-456-456', '5000000000']\n",
      "['호날두', '789-789-789', '500000000000']\n"
     ]
    }
   ],
   "source": [
    "import csv\n",
    "\n",
    "with open('data/bankaccount.csv', 'r') as f:\n",
    "    csv_reader = csv.reader(f, delimiter=',')\n",
    "    for row in csv_reader:\n",
    "        print(row)"
   ]
  },
  {
   "cell_type": "code",
   "execution_count": 20,
   "metadata": {},
   "outputs": [],
   "source": [
    "with open('data/bankaccount2.csv', 'w') as f:\n",
    "    csv_reader = csv.writer(f)\n",
    "    csv_reader.writerow(['박지성', '123-123-123', '5000000'])"
   ]
  },
  {
   "cell_type": "code",
   "execution_count": 21,
   "metadata": {},
   "outputs": [],
   "source": [
    "with open('data/bankaccount3.csv', 'w') as f:\n",
    "    fieldnames = ['이름', '계좌번호', '잔고']\n",
    "    writer = csv.DictWriter(f, fieldnames=fieldnames)\n",
    "    writer.writeheader()\n",
    "    writer.writerow({'이름': '류현진', '계좌번호': '000-000-000', '잔고': '1000000000000'})"
   ]
  },
  {
   "cell_type": "code",
   "execution_count": 22,
   "metadata": {},
   "outputs": [
    {
     "name": "stdout",
     "output_type": "stream",
     "text": [
      "류현진, 000-000-000, 1000000000000 \n"
     ]
    }
   ],
   "source": [
    "with open('data/bankaccount3.csv', mode='r') as f:\n",
    "    csv_reader = csv.DictReader(f)\n",
    "    for row in csv_reader:\n",
    "        print(f\"{row['이름']}, {row['계좌번호']}, {row['잔고']} \")"
   ]
  },
  {
   "cell_type": "markdown",
   "metadata": {},
   "source": [
    "## 3-1. 엑셀파일 읽기"
   ]
  },
  {
   "cell_type": "code",
   "execution_count": 23,
   "metadata": {},
   "outputs": [
    {
     "name": "stdout",
     "output_type": "stream",
     "text": [
      "Requirement already satisfied: openpyxl in /Users/seojungwon/anaconda3/lib/python3.6/site-packages (2.5.14)\r\n",
      "Requirement already satisfied: jdcal in /Users/seojungwon/anaconda3/lib/python3.6/site-packages (from openpyxl) (1.4)\r\n",
      "Requirement already satisfied: et-xmlfile in /Users/seojungwon/anaconda3/lib/python3.6/site-packages (from openpyxl) (1.0.1)\r\n"
     ]
    }
   ],
   "source": [
    "import sys\n",
    "!{sys.executable} -m pip install openpyxl"
   ]
  },
  {
   "cell_type": "code",
   "execution_count": 24,
   "metadata": {},
   "outputs": [
    {
     "name": "stdout",
     "output_type": "stream",
     "text": [
      "None\n",
      "한국\n",
      "중국\n",
      "독일\n",
      "1월\n",
      "22000\n",
      "44000\n",
      "23000\n",
      "2월\n",
      "15000\n",
      "30000\n",
      "25000\n",
      "3월\n",
      "16000\n",
      "32000\n",
      "26000\n",
      "4월\n",
      "14000\n",
      "28000\n",
      "24000\n",
      "5월\n",
      "13000\n",
      "26000\n",
      "43000\n",
      "6월\n",
      "19000\n",
      "40000\n",
      "59000\n",
      "7월\n",
      "12000\n",
      "50000\n",
      "32000\n",
      "8월\n",
      "13000\n",
      "66000\n",
      "23000\n",
      "9월\n",
      "10000\n",
      "99000\n",
      "40000\n",
      "10월\n",
      "11000\n",
      "111000\n",
      "31000\n",
      "11월\n",
      "12000\n",
      "122000\n",
      "22000\n",
      "12월\n",
      "22000\n",
      "122000\n",
      "42000\n",
      "총\n",
      "179000\n",
      "770000\n",
      "390000\n"
     ]
    }
   ],
   "source": [
    "from openpyxl import load_workbook\n",
    "\n",
    "load_wb = load_workbook(\"data/sample.xlsx\", data_only=True)\n",
    "load_ws = load_wb['Sheet1']\n",
    "for row in load_ws.rows:\n",
    "    for cell in row:\n",
    "        print(cell.value)"
   ]
  },
  {
   "cell_type": "code",
   "execution_count": 25,
   "metadata": {},
   "outputs": [],
   "source": [
    "## Q. Dictionary에 해당 값을 저장하려면 어떻게 해야할까?"
   ]
  },
  {
   "cell_type": "markdown",
   "metadata": {},
   "source": [
    "## 3-2. 엑셀파일 쓰기"
   ]
  },
  {
   "cell_type": "code",
   "execution_count": 26,
   "metadata": {},
   "outputs": [],
   "source": [
    "from openpyxl import Workbook\n",
    " \n",
    "write_wb = Workbook()\n",
    " \n",
    "write_ws = write_wb.active\n",
    "\n",
    "#각 셀에 또는 행에 접근하는 방법\n",
    "write_ws['A1'] = 'A1에 접근'\n",
    "write_ws.append([1,2,3,4,5])\n",
    "write_ws.cell(10,1,'10행1열에 직접 접근')\n",
    "\n",
    "write_wb.save('data/result.xlsx')"
   ]
  }
 ],
 "metadata": {
  "kernelspec": {
   "display_name": "Python 3",
   "language": "python",
   "name": "python3"
  },
  "language_info": {
   "codemirror_mode": {
    "name": "ipython",
    "version": 3
   },
   "file_extension": ".py",
   "mimetype": "text/x-python",
   "name": "python",
   "nbconvert_exporter": "python",
   "pygments_lexer": "ipython3",
   "version": "3.6.8"
  }
 },
 "nbformat": 4,
 "nbformat_minor": 2
}
