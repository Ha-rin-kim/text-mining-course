{
 "cells": [
  {
   "cell_type": "markdown",
   "metadata": {},
   "source": [
    "# TEXT MINING for PRACTICE: 정규식 (regular expression)\n",
    "---"
   ]
  },
  {
   "cell_type": "code",
   "execution_count": 116,
   "metadata": {},
   "outputs": [],
   "source": [
    "text1 = \"전화번호는 010-0000-0000입니다.\"\n",
    "text2 = \"나이는 30이고 전화번호는 01000000000입니다.\""
   ]
  },
  {
   "cell_type": "code",
   "execution_count": 46,
   "metadata": {},
   "outputs": [
    {
     "name": "stdout",
     "output_type": "stream",
     "text": [
      "01000000000\n"
     ]
    }
   ],
   "source": [
    "number = \"\"\n",
    "for c in text1:\n",
    "    if \"0\"<= c <= \"9\" :\n",
    "        number+= c\n",
    "print(number)"
   ]
  },
  {
   "cell_type": "code",
   "execution_count": 47,
   "metadata": {},
   "outputs": [],
   "source": [
    "#text2 의 경우는?"
   ]
  },
  {
   "cell_type": "markdown",
   "metadata": {},
   "source": [
    "## 정규식\n",
    "\n",
    "자세한 내용은 [점프 투 파이썬](https://wikidocs.net/1669) 참고"
   ]
  },
  {
   "cell_type": "markdown",
   "metadata": {},
   "source": [
    "| 번호 | 메타문자 | 메타문자 이름 | 의미 |\n",
    "| --- | --- | --- | --- |\n",
    "| 1 | ^ | Caret 캐릿 | 정규식의 시작을 의미 |\n",
    "| 2 | $ | Dollar 달러 사인 | 정규식의 끝을 의미 |\n",
    "| 3 | \\[ \\] | Bracket (Square brackets) 대괄호 | 문자셋 \\[ \\] 안에 있는 문자에 대해 확인 |\n",
    "| 4 | ( ) | Parenthesis 소괄호 | 문자열을 확인 |\n",
    "| 5 | ? | Question mark 물음표 | 물음표 다음에 0번 또는 1번 나오는 문자에 대해 확인 |\n",
    "| 6 | + | Plus 더하기 | 물음표 다음에 1번 이상 나오는 문자에 대해 확인 |\n",
    "| 7 | * | Multiply 곱하기(별) | 물음표 다음에 0번 이상 나오는 문자에 대해 확인 |\n",
    "| 8 | . | Dot 점 | 줄바꿈 문자 \\\\n 제외한 모든문자 |\n",
    "| 9 | | | Pipe 파이프(작대기) | OR 연산 |\n",
    "| 10 | \\ | Escaping 백슬래쉬 | 특수문자를 일반문자로 고려하려할 때 |\n",
    "| 11 | ! | Exclamation 느낌표 | NOT 연산 |\n",
    "| 12 | \\{ \\} | Brace (Curly brackets) 중괄호 | 중괄호 안에 있는 문자에 대해 반복 |\n"
   ]
  },
  {
   "cell_type": "markdown",
   "metadata": {},
   "source": [
    "| 번호 | 문자 | 의미 |\n",
    "| --- | --- | --- |\n",
    "| 1 | \\d | 숫자 [0-9]와 동일한 표현 |\n",
    "| 2 | \\D | 숫자가 아닌 것 [^0-9]와 동일한 표현 |\n",
    "| 3 | \\s | 공백문자 [\\t\\n\\r\\f\\v]와 동일한 표현 |\n",
    "| 4 | \\S | 공백문자가 아닌것 [^\\t\\n\\r\\f\\v]와 동일한 표현 |\n",
    "| 5 | \\w | 문자+숫자 (alphanumeric), 언더스코어(_) [a-zA-Z0-9_]와 동일한 표현 |\n",
    "| 6 | \\W | 문자+숫자 (alphanumeric), 언더스코어(_)가 아닌것 [^a-zA-Z0-9_]와 동일한 표현 |\n",
    "\n"
   ]
  },
  {
   "cell_type": "code",
   "execution_count": 147,
   "metadata": {},
   "outputs": [],
   "source": [
    "text1 = \"전화번호는 010-0000-0000입니다.\"\n",
    "text2 = \"나이는 30이고 전화번호는 01000000000입니다.\"\n",
    "text3 = \"전화번호는 018-000-0000입니다.\"\n",
    "text4 = \"나의 전화번호는 010-0000-0000이고 그 분의 전화번호는 010-1111-1111입니다.\"\n",
    "text5 = \"나의 전화번호는 (010)4642-8710\""
   ]
  },
  {
   "cell_type": "code",
   "execution_count": 124,
   "metadata": {},
   "outputs": [
    {
     "name": "stdout",
     "output_type": "stream",
     "text": [
      "010-0000-0000\n"
     ]
    }
   ],
   "source": [
    "import re\n",
    "p = re.compile(r'\\d\\d\\d-\\d\\d\\d\\d-\\d\\d\\d\\d')\n",
    "s = p.search(text1)\n",
    "print(s.group())    "
   ]
  },
  {
   "cell_type": "code",
   "execution_count": 125,
   "metadata": {},
   "outputs": [
    {
     "name": "stdout",
     "output_type": "stream",
     "text": [
      "010-0000-0000\n"
     ]
    }
   ],
   "source": [
    "p = re.compile(r'\\d\\d\\d-\\d\\d\\d\\d-\\d\\d\\d\\d')\n",
    "s = p.search(text4)\n",
    "print(s.group())   "
   ]
  },
  {
   "cell_type": "code",
   "execution_count": 126,
   "metadata": {},
   "outputs": [
    {
     "name": "stdout",
     "output_type": "stream",
     "text": [
      "['010-0000-0000', '010-1111-1111']\n"
     ]
    }
   ],
   "source": [
    "p = re.compile(r'\\d\\d\\d-\\d\\d\\d\\d-\\d\\d\\d\\d')\n",
    "m = p.findall(text4)\n",
    "print(m)   "
   ]
  },
  {
   "cell_type": "code",
   "execution_count": 127,
   "metadata": {},
   "outputs": [
    {
     "name": "stdout",
     "output_type": "stream",
     "text": [
      "['010-0000-0000', '010-1111-1111']\n"
     ]
    }
   ],
   "source": [
    "p = re.compile(r'\\d{3}-\\d{4}-\\d{4}')\n",
    "m = p.findall(text4)\n",
    "print(m)"
   ]
  },
  {
   "cell_type": "code",
   "execution_count": 128,
   "metadata": {},
   "outputs": [],
   "source": [
    "## Q. 두번째 자릿수가 3개인 것과 4개인 것을 한번에 처리하는 방법은?"
   ]
  },
  {
   "cell_type": "code",
   "execution_count": 149,
   "metadata": {},
   "outputs": [],
   "source": [
    "## Q. -표시가 있는 것 과 없는 것을 둘 다 처리하려면?\n"
   ]
  },
  {
   "cell_type": "code",
   "execution_count": 112,
   "metadata": {},
   "outputs": [],
   "source": [
    "text1 = \"저의 이메일은 test@test.com 입니다.\"\n",
    "text2 = \"그녀의 이메일은 test@test.net 입니다.\"\n",
    "text3 = \"그의 이메일은 test@test.co.kr 입니다.\"\n",
    "text4 = \"이상한 이메일은 #!#$!test@co 입니다.\""
   ]
  },
  {
   "cell_type": "code",
   "execution_count": 113,
   "metadata": {},
   "outputs": [
    {
     "name": "stdout",
     "output_type": "stream",
     "text": [
      "['test@test.com']\n"
     ]
    }
   ],
   "source": [
    "p = re.compile(r'\\S+@\\S+')  \n",
    "m = p.findall(text1)\n",
    "print(m)   "
   ]
  },
  {
   "cell_type": "code",
   "execution_count": 114,
   "metadata": {},
   "outputs": [
    {
     "name": "stdout",
     "output_type": "stream",
     "text": [
      "['#!#$!test@co']\n"
     ]
    }
   ],
   "source": [
    "p = re.compile(r'\\S+@\\S+')  \n",
    "m = p.findall(text4)\n",
    "print(m)   "
   ]
  },
  {
   "cell_type": "code",
   "execution_count": 150,
   "metadata": {},
   "outputs": [
    {
     "name": "stdout",
     "output_type": "stream",
     "text": [
      "[]\n"
     ]
    }
   ],
   "source": [
    "p = re.compile(r'\\w+@[a-zA-Z]+[\\.a-zA-Z]{2,4}')  \n",
    "m = p.findall(text4)\n",
    "print(m)   "
   ]
  }
 ],
 "metadata": {
  "kernelspec": {
   "display_name": "Python 3",
   "language": "python",
   "name": "python3"
  },
  "language_info": {
   "codemirror_mode": {
    "name": "ipython",
    "version": 3
   },
   "file_extension": ".py",
   "mimetype": "text/x-python",
   "name": "python",
   "nbconvert_exporter": "python",
   "pygments_lexer": "ipython3",
   "version": "3.6.8"
  }
 },
 "nbformat": 4,
 "nbformat_minor": 2
}
