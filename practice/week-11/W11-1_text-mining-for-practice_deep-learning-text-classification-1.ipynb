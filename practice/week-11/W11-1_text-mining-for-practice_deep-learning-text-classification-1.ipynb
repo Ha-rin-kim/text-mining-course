{
 "cells": [
  {
   "cell_type": "markdown",
   "metadata": {},
   "source": [
    "# TEXT MINING for PRACTICE: text classification using Deep Learning\n",
    "- Keras를 이용한 텍스트마이닝\n",
    "---"
   ]
  },
  {
   "cell_type": "markdown",
   "metadata": {},
   "source": [
    "# 1. 패키지 설치"
   ]
  },
  {
   "cell_type": "code",
   "execution_count": 1,
   "metadata": {},
   "outputs": [
    {
     "name": "stdout",
     "output_type": "stream",
     "text": [
      "Uninstalling tensorflow-2.0.0rc1:\n",
      "  Successfully uninstalled tensorflow-2.0.0rc1\n"
     ]
    }
   ],
   "source": [
    "import sys\n",
    "!{sys.executable} -m pip uninstall tensorflow -y"
   ]
  },
  {
   "cell_type": "code",
   "execution_count": 2,
   "metadata": {},
   "outputs": [
    {
     "name": "stdout",
     "output_type": "stream",
     "text": [
      "Requirement already satisfied: tf-nightly-2.0-preview in /Users/seojungwon/anaconda3/lib/python3.6/site-packages (2.0.0.dev20191002)\n",
      "Requirement already satisfied: tb-nightly<2.2.0a0,>=2.1.0a0 in /Users/seojungwon/anaconda3/lib/python3.6/site-packages (from tf-nightly-2.0-preview) (2.1.0a20191121)\n",
      "Requirement already satisfied: absl-py>=0.7.0 in /Users/seojungwon/anaconda3/lib/python3.6/site-packages (from tf-nightly-2.0-preview) (0.7.0)\n",
      "Requirement already satisfied: numpy<2.0,>=1.16.0 in /Users/seojungwon/anaconda3/lib/python3.6/site-packages (from tf-nightly-2.0-preview) (1.17.4)\n",
      "Requirement already satisfied: opt-einsum>=2.3.2 in /Users/seojungwon/anaconda3/lib/python3.6/site-packages (from tf-nightly-2.0-preview) (3.1.0)\n",
      "Requirement already satisfied: wrapt>=1.11.1 in /Users/seojungwon/anaconda3/lib/python3.6/site-packages (from tf-nightly-2.0-preview) (1.11.1)\n",
      "Requirement already satisfied: google-pasta>=0.1.6 in /Users/seojungwon/anaconda3/lib/python3.6/site-packages (from tf-nightly-2.0-preview) (0.1.8)\n",
      "Requirement already satisfied: six>=1.10.0 in /Users/seojungwon/anaconda3/lib/python3.6/site-packages (from tf-nightly-2.0-preview) (1.12.0)\n",
      "Requirement already satisfied: wheel>=0.26; python_version >= \"3\" in /Users/seojungwon/anaconda3/lib/python3.6/site-packages (from tf-nightly-2.0-preview) (0.32.3)\n",
      "Requirement already satisfied: tensorflow-estimator-2.0-preview in /Users/seojungwon/anaconda3/lib/python3.6/site-packages (from tf-nightly-2.0-preview) (2.0.0)\n",
      "Requirement already satisfied: astor>=0.6.0 in /Users/seojungwon/anaconda3/lib/python3.6/site-packages (from tf-nightly-2.0-preview) (0.7.1)\n",
      "Requirement already satisfied: protobuf>=3.6.1 in /Users/seojungwon/anaconda3/lib/python3.6/site-packages (from tf-nightly-2.0-preview) (3.6.1)\n",
      "Requirement already satisfied: termcolor>=1.1.0 in /Users/seojungwon/anaconda3/lib/python3.6/site-packages (from tf-nightly-2.0-preview) (1.1.0)\n",
      "Requirement already satisfied: keras-preprocessing>=1.0.5 in /Users/seojungwon/anaconda3/lib/python3.6/site-packages (from tf-nightly-2.0-preview) (1.0.5)\n",
      "Requirement already satisfied: grpcio>=1.8.6 in /Users/seojungwon/anaconda3/lib/python3.6/site-packages (from tf-nightly-2.0-preview) (1.16.1)\n",
      "Requirement already satisfied: keras-applications>=1.0.8 in /Users/seojungwon/anaconda3/lib/python3.6/site-packages (from tf-nightly-2.0-preview) (1.0.8)\n",
      "Requirement already satisfied: gast==0.2.2 in /Users/seojungwon/anaconda3/lib/python3.6/site-packages (from tf-nightly-2.0-preview) (0.2.2)\n",
      "Requirement already satisfied: setuptools>=41.0.0 in /Users/seojungwon/anaconda3/lib/python3.6/site-packages (from tb-nightly<2.2.0a0,>=2.1.0a0->tf-nightly-2.0-preview) (41.6.0)\n",
      "Requirement already satisfied: requests<3,>=2.21.0 in /Users/seojungwon/anaconda3/lib/python3.6/site-packages (from tb-nightly<2.2.0a0,>=2.1.0a0->tf-nightly-2.0-preview) (2.21.0)\n",
      "Requirement already satisfied: werkzeug>=0.11.15 in /Users/seojungwon/anaconda3/lib/python3.6/site-packages (from tb-nightly<2.2.0a0,>=2.1.0a0->tf-nightly-2.0-preview) (0.14.1)\n",
      "Requirement already satisfied: markdown>=2.6.8 in /Users/seojungwon/anaconda3/lib/python3.6/site-packages (from tb-nightly<2.2.0a0,>=2.1.0a0->tf-nightly-2.0-preview) (3.0.1)\n",
      "Requirement already satisfied: google-auth-oauthlib<0.5,>=0.4.1 in /Users/seojungwon/anaconda3/lib/python3.6/site-packages (from tb-nightly<2.2.0a0,>=2.1.0a0->tf-nightly-2.0-preview) (0.4.1)\n",
      "Requirement already satisfied: google-auth<2,>=1.6.3 in /Users/seojungwon/anaconda3/lib/python3.6/site-packages (from tb-nightly<2.2.0a0,>=2.1.0a0->tf-nightly-2.0-preview) (1.6.3)\n",
      "Requirement already satisfied: h5py in /Users/seojungwon/anaconda3/lib/python3.6/site-packages (from keras-applications>=1.0.8->tf-nightly-2.0-preview) (2.9.0)\n",
      "Requirement already satisfied: chardet<3.1.0,>=3.0.2 in /Users/seojungwon/anaconda3/lib/python3.6/site-packages (from requests<3,>=2.21.0->tb-nightly<2.2.0a0,>=2.1.0a0->tf-nightly-2.0-preview) (3.0.4)\n",
      "Requirement already satisfied: urllib3<1.25,>=1.21.1 in /Users/seojungwon/.local/lib/python3.6/site-packages (from requests<3,>=2.21.0->tb-nightly<2.2.0a0,>=2.1.0a0->tf-nightly-2.0-preview) (1.22)\n",
      "Requirement already satisfied: certifi>=2017.4.17 in /Users/seojungwon/anaconda3/lib/python3.6/site-packages (from requests<3,>=2.21.0->tb-nightly<2.2.0a0,>=2.1.0a0->tf-nightly-2.0-preview) (2019.6.16)\n",
      "Requirement already satisfied: idna<2.9,>=2.5 in /Users/seojungwon/anaconda3/lib/python3.6/site-packages (from requests<3,>=2.21.0->tb-nightly<2.2.0a0,>=2.1.0a0->tf-nightly-2.0-preview) (2.8)\n",
      "Requirement already satisfied: requests-oauthlib>=0.7.0 in /Users/seojungwon/anaconda3/lib/python3.6/site-packages (from google-auth-oauthlib<0.5,>=0.4.1->tb-nightly<2.2.0a0,>=2.1.0a0->tf-nightly-2.0-preview) (1.3.0)\n",
      "Requirement already satisfied: cachetools>=2.0.0 in /Users/seojungwon/anaconda3/lib/python3.6/site-packages (from google-auth<2,>=1.6.3->tb-nightly<2.2.0a0,>=2.1.0a0->tf-nightly-2.0-preview) (2.1.0)\n",
      "Requirement already satisfied: pyasn1-modules>=0.2.1 in /Users/seojungwon/anaconda3/lib/python3.6/site-packages (from google-auth<2,>=1.6.3->tb-nightly<2.2.0a0,>=2.1.0a0->tf-nightly-2.0-preview) (0.2.3)\n",
      "Requirement already satisfied: rsa>=3.1.4 in /Users/seojungwon/anaconda3/lib/python3.6/site-packages (from google-auth<2,>=1.6.3->tb-nightly<2.2.0a0,>=2.1.0a0->tf-nightly-2.0-preview) (3.4.2)\n",
      "Requirement already satisfied: oauthlib>=3.0.0 in /Users/seojungwon/anaconda3/lib/python3.6/site-packages (from requests-oauthlib>=0.7.0->google-auth-oauthlib<0.5,>=0.4.1->tb-nightly<2.2.0a0,>=2.1.0a0->tf-nightly-2.0-preview) (3.1.0)\n",
      "Requirement already satisfied: pyasn1<0.5.0,>=0.4.1 in /Users/seojungwon/anaconda3/lib/python3.6/site-packages (from pyasn1-modules>=0.2.1->google-auth<2,>=1.6.3->tb-nightly<2.2.0a0,>=2.1.0a0->tf-nightly-2.0-preview) (0.4.5)\n"
     ]
    }
   ],
   "source": [
    "!{sys.executable} -m pip install tf-nightly-2.0-preview"
   ]
  },
  {
   "cell_type": "code",
   "execution_count": 3,
   "metadata": {},
   "outputs": [
    {
     "name": "stdout",
     "output_type": "stream",
     "text": [
      "Collecting tensorflow==2.0.0-rc1\n",
      "  Using cached https://files.pythonhosted.org/packages/03/13/b8964a1e3e4b01025c4a3d09cdeb3c4634fb93f3726b934a3e2b66dba924/tensorflow-2.0.0rc1-cp36-cp36m-macosx_10_11_x86_64.whl\n",
      "Requirement already satisfied: keras-preprocessing>=1.0.5 in /Users/seojungwon/anaconda3/lib/python3.6/site-packages (from tensorflow==2.0.0-rc1) (1.0.5)\n",
      "Requirement already satisfied: wheel>=0.26 in /Users/seojungwon/anaconda3/lib/python3.6/site-packages (from tensorflow==2.0.0-rc1) (0.32.3)\n",
      "Requirement already satisfied: numpy<2.0,>=1.16.0 in /Users/seojungwon/anaconda3/lib/python3.6/site-packages (from tensorflow==2.0.0-rc1) (1.17.4)\n",
      "Requirement already satisfied: google-pasta>=0.1.6 in /Users/seojungwon/anaconda3/lib/python3.6/site-packages (from tensorflow==2.0.0-rc1) (0.1.8)\n",
      "Requirement already satisfied: opt-einsum>=2.3.2 in /Users/seojungwon/anaconda3/lib/python3.6/site-packages (from tensorflow==2.0.0-rc1) (3.1.0)\n",
      "Requirement already satisfied: tf-estimator-nightly<1.14.0.dev2019080602,>=1.14.0.dev2019080601 in /Users/seojungwon/anaconda3/lib/python3.6/site-packages (from tensorflow==2.0.0-rc1) (1.14.0.dev2019080601)\n",
      "Requirement already satisfied: keras-applications>=1.0.8 in /Users/seojungwon/anaconda3/lib/python3.6/site-packages (from tensorflow==2.0.0-rc1) (1.0.8)\n",
      "Requirement already satisfied: gast>=0.2.0 in /Users/seojungwon/anaconda3/lib/python3.6/site-packages (from tensorflow==2.0.0-rc1) (0.2.2)\n",
      "Requirement already satisfied: termcolor>=1.1.0 in /Users/seojungwon/anaconda3/lib/python3.6/site-packages (from tensorflow==2.0.0-rc1) (1.1.0)\n",
      "Requirement already satisfied: wrapt>=1.11.1 in /Users/seojungwon/anaconda3/lib/python3.6/site-packages (from tensorflow==2.0.0-rc1) (1.11.1)\n",
      "Requirement already satisfied: absl-py>=0.7.0 in /Users/seojungwon/anaconda3/lib/python3.6/site-packages (from tensorflow==2.0.0-rc1) (0.7.0)\n",
      "Requirement already satisfied: six>=1.10.0 in /Users/seojungwon/anaconda3/lib/python3.6/site-packages (from tensorflow==2.0.0-rc1) (1.12.0)\n",
      "Requirement already satisfied: grpcio>=1.8.6 in /Users/seojungwon/anaconda3/lib/python3.6/site-packages (from tensorflow==2.0.0-rc1) (1.16.1)\n",
      "Requirement already satisfied: protobuf>=3.6.1 in /Users/seojungwon/anaconda3/lib/python3.6/site-packages (from tensorflow==2.0.0-rc1) (3.6.1)\n",
      "Requirement already satisfied: astor>=0.6.0 in /Users/seojungwon/anaconda3/lib/python3.6/site-packages (from tensorflow==2.0.0-rc1) (0.7.1)\n",
      "Collecting tb-nightly<1.15.0a20190807,>=1.15.0a20190806 (from tensorflow==2.0.0-rc1)\n",
      "  Using cached https://files.pythonhosted.org/packages/bc/88/24b5fb7280e74c7cf65bde47c171547fd02afb3840cff41bcbe9270650f5/tb_nightly-1.15.0a20190806-py3-none-any.whl\n",
      "Requirement already satisfied: h5py in /Users/seojungwon/anaconda3/lib/python3.6/site-packages (from keras-applications>=1.0.8->tensorflow==2.0.0-rc1) (2.9.0)\n",
      "Requirement already satisfied: setuptools in /Users/seojungwon/anaconda3/lib/python3.6/site-packages (from protobuf>=3.6.1->tensorflow==2.0.0-rc1) (41.6.0)\n",
      "Requirement already satisfied: werkzeug>=0.11.15 in /Users/seojungwon/anaconda3/lib/python3.6/site-packages (from tb-nightly<1.15.0a20190807,>=1.15.0a20190806->tensorflow==2.0.0-rc1) (0.14.1)\n",
      "Requirement already satisfied: markdown>=2.6.8 in /Users/seojungwon/anaconda3/lib/python3.6/site-packages (from tb-nightly<1.15.0a20190807,>=1.15.0a20190806->tensorflow==2.0.0-rc1) (3.0.1)\n",
      "\u001b[31mtf-nightly 2.1.0.dev20191121 has requirement keras-preprocessing>=1.1.0, but you'll have keras-preprocessing 1.0.5 which is incompatible.\u001b[0m\n",
      "\u001b[31mtf-nightly 2.1.0.dev20191121 has requirement protobuf>=3.8.0, but you'll have protobuf 3.6.1 which is incompatible.\u001b[0m\n",
      "\u001b[31mtf-nightly 2.1.0.dev20191121 has requirement tb-nightly<2.2.0a0,>=2.1.0a0, but you'll have tb-nightly 1.15.0a20190806 which is incompatible.\u001b[0m\n",
      "\u001b[31mtf-nightly-2-0-preview 2.0.0.dev20191002 has requirement tb-nightly<2.2.0a0,>=2.1.0a0, but you'll have tb-nightly 1.15.0a20190806 which is incompatible.\u001b[0m\n",
      "Installing collected packages: tb-nightly, tensorflow\n",
      "  Found existing installation: tb-nightly 2.1.0a20191121\n",
      "    Uninstalling tb-nightly-2.1.0a20191121:\n",
      "      Successfully uninstalled tb-nightly-2.1.0a20191121\n",
      "Successfully installed tb-nightly-1.15.0a20190806 tensorflow-2.0.0rc1\n",
      "Requirement already satisfied: tensorflow_hub in /Users/seojungwon/anaconda3/lib/python3.6/site-packages (0.7.0)\n",
      "Requirement already satisfied: tensorflow_datasets in /Users/seojungwon/anaconda3/lib/python3.6/site-packages (1.3.0)\n",
      "Requirement already satisfied: tf-nightly-2.0-preview in /Users/seojungwon/anaconda3/lib/python3.6/site-packages (2.0.0.dev20191002)\n",
      "Requirement already satisfied: numpy in /Users/seojungwon/anaconda3/lib/python3.6/site-packages (1.17.4)\n",
      "Requirement already satisfied: six>=1.10.0 in /Users/seojungwon/anaconda3/lib/python3.6/site-packages (from tensorflow_hub) (1.12.0)\n",
      "Requirement already satisfied: protobuf>=3.4.0 in /Users/seojungwon/anaconda3/lib/python3.6/site-packages (from tensorflow_hub) (3.6.1)\n",
      "Requirement already satisfied: promise in /Users/seojungwon/anaconda3/lib/python3.6/site-packages (from tensorflow_datasets) (2.2.1)\n",
      "Requirement already satisfied: attrs in /Users/seojungwon/anaconda3/lib/python3.6/site-packages (from tensorflow_datasets) (18.2.0)\n",
      "Requirement already satisfied: wrapt in /Users/seojungwon/anaconda3/lib/python3.6/site-packages (from tensorflow_datasets) (1.11.1)\n",
      "Requirement already satisfied: dill in /Users/seojungwon/anaconda3/lib/python3.6/site-packages (from tensorflow_datasets) (0.3.0)\n",
      "Requirement already satisfied: future in /Users/seojungwon/anaconda3/lib/python3.6/site-packages (from tensorflow_datasets) (0.17.1)\n",
      "Requirement already satisfied: tensorflow-metadata in /Users/seojungwon/anaconda3/lib/python3.6/site-packages (from tensorflow_datasets) (0.15.1)\n",
      "Requirement already satisfied: tqdm in /Users/seojungwon/anaconda3/lib/python3.6/site-packages (from tensorflow_datasets) (4.29.1)\n",
      "Requirement already satisfied: requests>=2.19.0 in /Users/seojungwon/anaconda3/lib/python3.6/site-packages (from tensorflow_datasets) (2.21.0)\n",
      "Requirement already satisfied: termcolor in /Users/seojungwon/anaconda3/lib/python3.6/site-packages (from tensorflow_datasets) (1.1.0)\n",
      "Requirement already satisfied: absl-py in /Users/seojungwon/anaconda3/lib/python3.6/site-packages (from tensorflow_datasets) (0.7.0)\n",
      "Requirement already satisfied: grpcio>=1.8.6 in /Users/seojungwon/anaconda3/lib/python3.6/site-packages (from tf-nightly-2.0-preview) (1.16.1)\n",
      "Requirement already satisfied: astor>=0.6.0 in /Users/seojungwon/anaconda3/lib/python3.6/site-packages (from tf-nightly-2.0-preview) (0.7.1)\n",
      "Requirement already satisfied: tensorflow-estimator-2.0-preview in /Users/seojungwon/anaconda3/lib/python3.6/site-packages (from tf-nightly-2.0-preview) (2.0.0)\n",
      "Requirement already satisfied: keras-preprocessing>=1.0.5 in /Users/seojungwon/anaconda3/lib/python3.6/site-packages (from tf-nightly-2.0-preview) (1.0.5)\n",
      "Requirement already satisfied: gast==0.2.2 in /Users/seojungwon/anaconda3/lib/python3.6/site-packages (from tf-nightly-2.0-preview) (0.2.2)\n",
      "Requirement already satisfied: google-pasta>=0.1.6 in /Users/seojungwon/anaconda3/lib/python3.6/site-packages (from tf-nightly-2.0-preview) (0.1.8)\n",
      "Requirement already satisfied: wheel>=0.26; python_version >= \"3\" in /Users/seojungwon/anaconda3/lib/python3.6/site-packages (from tf-nightly-2.0-preview) (0.32.3)\n",
      "Collecting tb-nightly<2.2.0a0,>=2.1.0a0 (from tf-nightly-2.0-preview)\n",
      "  Using cached https://files.pythonhosted.org/packages/d6/41/902d59191391f947fb82248dd866914491b445a9f6cfdf442d56a6e384aa/tb_nightly-2.1.0a20191121-py3-none-any.whl\n",
      "Requirement already satisfied: opt-einsum>=2.3.2 in /Users/seojungwon/anaconda3/lib/python3.6/site-packages (from tf-nightly-2.0-preview) (3.1.0)\n",
      "Requirement already satisfied: keras-applications>=1.0.8 in /Users/seojungwon/anaconda3/lib/python3.6/site-packages (from tf-nightly-2.0-preview) (1.0.8)\n",
      "Requirement already satisfied: setuptools in /Users/seojungwon/anaconda3/lib/python3.6/site-packages (from protobuf>=3.4.0->tensorflow_hub) (41.6.0)\n",
      "Requirement already satisfied: googleapis-common-protos in /Users/seojungwon/anaconda3/lib/python3.6/site-packages (from tensorflow-metadata->tensorflow_datasets) (1.6.0)\n"
     ]
    },
    {
     "name": "stdout",
     "output_type": "stream",
     "text": [
      "Requirement already satisfied: certifi>=2017.4.17 in /Users/seojungwon/anaconda3/lib/python3.6/site-packages (from requests>=2.19.0->tensorflow_datasets) (2019.6.16)\n",
      "Requirement already satisfied: chardet<3.1.0,>=3.0.2 in /Users/seojungwon/anaconda3/lib/python3.6/site-packages (from requests>=2.19.0->tensorflow_datasets) (3.0.4)\n",
      "Requirement already satisfied: urllib3<1.25,>=1.21.1 in /Users/seojungwon/.local/lib/python3.6/site-packages (from requests>=2.19.0->tensorflow_datasets) (1.22)\n",
      "Requirement already satisfied: idna<2.9,>=2.5 in /Users/seojungwon/anaconda3/lib/python3.6/site-packages (from requests>=2.19.0->tensorflow_datasets) (2.8)\n",
      "Requirement already satisfied: markdown>=2.6.8 in /Users/seojungwon/anaconda3/lib/python3.6/site-packages (from tb-nightly<2.2.0a0,>=2.1.0a0->tf-nightly-2.0-preview) (3.0.1)\n",
      "Requirement already satisfied: google-auth-oauthlib<0.5,>=0.4.1 in /Users/seojungwon/anaconda3/lib/python3.6/site-packages (from tb-nightly<2.2.0a0,>=2.1.0a0->tf-nightly-2.0-preview) (0.4.1)\n",
      "Requirement already satisfied: google-auth<2,>=1.6.3 in /Users/seojungwon/anaconda3/lib/python3.6/site-packages (from tb-nightly<2.2.0a0,>=2.1.0a0->tf-nightly-2.0-preview) (1.6.3)\n",
      "Requirement already satisfied: werkzeug>=0.11.15 in /Users/seojungwon/anaconda3/lib/python3.6/site-packages (from tb-nightly<2.2.0a0,>=2.1.0a0->tf-nightly-2.0-preview) (0.14.1)\n",
      "Requirement already satisfied: h5py in /Users/seojungwon/anaconda3/lib/python3.6/site-packages (from keras-applications>=1.0.8->tf-nightly-2.0-preview) (2.9.0)\n",
      "Requirement already satisfied: requests-oauthlib>=0.7.0 in /Users/seojungwon/anaconda3/lib/python3.6/site-packages (from google-auth-oauthlib<0.5,>=0.4.1->tb-nightly<2.2.0a0,>=2.1.0a0->tf-nightly-2.0-preview) (1.3.0)\n",
      "Requirement already satisfied: rsa>=3.1.4 in /Users/seojungwon/anaconda3/lib/python3.6/site-packages (from google-auth<2,>=1.6.3->tb-nightly<2.2.0a0,>=2.1.0a0->tf-nightly-2.0-preview) (3.4.2)\n",
      "Requirement already satisfied: pyasn1-modules>=0.2.1 in /Users/seojungwon/anaconda3/lib/python3.6/site-packages (from google-auth<2,>=1.6.3->tb-nightly<2.2.0a0,>=2.1.0a0->tf-nightly-2.0-preview) (0.2.3)\n",
      "Requirement already satisfied: cachetools>=2.0.0 in /Users/seojungwon/anaconda3/lib/python3.6/site-packages (from google-auth<2,>=1.6.3->tb-nightly<2.2.0a0,>=2.1.0a0->tf-nightly-2.0-preview) (2.1.0)\n",
      "Requirement already satisfied: oauthlib>=3.0.0 in /Users/seojungwon/anaconda3/lib/python3.6/site-packages (from requests-oauthlib>=0.7.0->google-auth-oauthlib<0.5,>=0.4.1->tb-nightly<2.2.0a0,>=2.1.0a0->tf-nightly-2.0-preview) (3.1.0)\n",
      "Requirement already satisfied: pyasn1>=0.1.3 in /Users/seojungwon/anaconda3/lib/python3.6/site-packages (from rsa>=3.1.4->google-auth<2,>=1.6.3->tb-nightly<2.2.0a0,>=2.1.0a0->tf-nightly-2.0-preview) (0.4.5)\n",
      "\u001b[31mtf-nightly 2.1.0.dev20191121 has requirement keras-preprocessing>=1.1.0, but you'll have keras-preprocessing 1.0.5 which is incompatible.\u001b[0m\n",
      "\u001b[31mtf-nightly 2.1.0.dev20191121 has requirement protobuf>=3.8.0, but you'll have protobuf 3.6.1 which is incompatible.\u001b[0m\n",
      "\u001b[31mtensorflow 2.0.0rc1 has requirement tb-nightly<1.15.0a20190807,>=1.15.0a20190806, but you'll have tb-nightly 2.1.0a20191121 which is incompatible.\u001b[0m\n",
      "\u001b[31mtb-nightly 2.1.0a20191121 has requirement grpcio>=1.24.3, but you'll have grpcio 1.16.1 which is incompatible.\u001b[0m\n",
      "Installing collected packages: tb-nightly\n",
      "  Found existing installation: tb-nightly 1.15.0a20190806\n",
      "    Uninstalling tb-nightly-1.15.0a20190806:\n",
      "      Successfully uninstalled tb-nightly-1.15.0a20190806\n",
      "Successfully installed tb-nightly-2.1.0a20191121\n"
     ]
    }
   ],
   "source": [
    "!{sys.executable} -m pip install tensorflow==2.0.0-rc1\n",
    "!{sys.executable} -m pip install tensorflow_hub tensorflow_datasets tf-nightly-2.0-preview numpy"
   ]
  },
  {
   "cell_type": "markdown",
   "metadata": {},
   "source": [
    "# 2. 구성 설정 / 확인"
   ]
  },
  {
   "cell_type": "code",
   "execution_count": 4,
   "metadata": {},
   "outputs": [
    {
     "name": "stdout",
     "output_type": "stream",
     "text": [
      "버전:  2.0.0-rc1\n",
      "즉시 실행 모드:  True\n",
      "허브 버전:  0.7.0\n",
      "GPU  사용 불가능\n"
     ]
    }
   ],
   "source": [
    "from __future__ import absolute_import, division, print_function, unicode_literals\n",
    "\n",
    "import numpy as np\n",
    "\n",
    "\n",
    "import tensorflow as tf\n",
    "\n",
    "import tensorflow_hub as hub\n",
    "import tensorflow_datasets as tfds\n",
    "\n",
    "print(\"버전: \", tf.__version__)\n",
    "print(\"즉시 실행 모드: \", tf.executing_eagerly())\n",
    "print(\"허브 버전: \", hub.__version__)\n",
    "print(\"GPU \", \"사용 가능\" if tf.config.experimental.list_physical_devices(\"GPU\") else \"사용 불가능\")"
   ]
  },
  {
   "cell_type": "markdown",
   "metadata": {},
   "source": [
    "# 3. 데이터셋 다운로드"
   ]
  },
  {
   "cell_type": "code",
   "execution_count": 5,
   "metadata": {},
   "outputs": [],
   "source": [
    "# 훈련 세트를 6대 4로 나눕니다.\n",
    "# 결국 훈련에 15,000개 샘플, 검증에 10,000개 샘플, 테스트에 25,000개 샘플을 사용하게 됩니다.\n",
    "train_validation_split = tfds.Split.TRAIN.subsplit([6, 4])\n",
    "\n",
    "(train_data, validation_data), test_data = tfds.load(\n",
    "    name=\"imdb_reviews\", \n",
    "    split=(train_validation_split, tfds.Split.TEST),\n",
    "    as_supervised=True)"
   ]
  },
  {
   "cell_type": "code",
   "execution_count": 6,
   "metadata": {},
   "outputs": [
    {
     "data": {
      "text/plain": [
       "<tf.Tensor: id=224, shape=(10,), dtype=string, numpy=\n",
       "array([b\"As a lifelong fan of Dickens, I have invariably been disappointed by adaptations of his novels.<br /><br />Although his works presented an extremely accurate re-telling of human life at every level in Victorian Britain, throughout them all was a pervasive thread of humour that could be both playful or sarcastic as the narrative dictated. In a way, he was a literary caricaturist and cartoonist. He could be serious and hilarious in the same sentence. He pricked pride, lampooned arrogance, celebrated modesty, and empathised with loneliness and poverty. It may be a clich\\xc3\\xa9, but he was a people's writer.<br /><br />And it is the comedy that is so often missing from his interpretations. At the time of writing, Oliver Twist is being dramatised in serial form on BBC television. All of the misery and cruelty is their, but non of the humour, irony, and savage lampoonery. The result is just a dark, dismal experience: the story penned by a journalist rather than a novelist. It's not really Dickens at all.<br /><br />'Oliver!', on the other hand, is much closer to the mark. The mockery of officialdom is perfectly interpreted, from the blustering beadle to the drunken magistrate. The classic stand-off between the beadle and Mr Brownlow, in which the law is described as 'a ass, a idiot' couldn't have been better done. Harry Secombe is an ideal choice.<br /><br />But the blinding cruelty is also there, the callous indifference of the state, the cold, hunger, poverty and loneliness are all presented just as surely as The Master would have wished.<br /><br />And then there is crime. Ron Moody is a treasure as the sleazy Jewish fence, whilst Oliver Reid has Bill Sykes to perfection.<br /><br />Perhaps not surprisingly, Lionel Bart - himself a Jew from London's east-end - takes a liberty with Fagin by re-interpreting him as a much more benign fellow than was Dicken's original. In the novel, he was utterly ruthless, sending some of his own boys to the gallows in order to protect himself (though he was also caught and hanged). Whereas in the movie, he is presented as something of a wayward father-figure, a sort of charitable thief rather than a corrupter of children, the latter being a long-standing anti-semitic sentiment. Otherwise, very few liberties are taken with Dickens's original. All of the most memorable elements are included. Just enough menace and violence is retained to ensure narrative fidelity whilst at the same time allowing for children' sensibilities. Nancy is still beaten to death, Bullseye narrowly escapes drowning, and Bill Sykes gets a faithfully graphic come-uppance.<br /><br />Every song is excellent, though they do incline towards schmaltz. Mark Lester mimes his wonderfully. Both his and my favourite scene is the one in which the world comes alive to 'who will buy'. It's schmaltzy, but it's Dickens through and through.<br /><br />I could go on. I could commend the wonderful set-pieces, the contrast of the rich and poor. There is top-quality acting from more British regulars than you could shake a stick at.<br /><br />I ought to give it 10 points, but I'm feeling more like Scrooge today. Soak it up with your Christmas dinner. No original has been better realised.\",\n",
       "       b\"Oh yeah! Jenna Jameson did it again! Yeah Baby! This movie rocks. It was one of the 1st movies i saw of her. And i have to say i feel in love with her, she was great in this move.<br /><br />Her performance was outstanding and what i liked the most was the scenery and the wardrobe it was amazing you can tell that they put a lot into the movie the girls cloth were amazing.<br /><br />I hope this comment helps and u can buy the movie, the storyline is awesome is very unique and i'm sure u are going to like it. Jenna amazed us once more and no wonder the movie won so many awards. Her make-up and wardrobe is very very sexy and the girls on girls scene is amazing. specially the one where she looks like an angel. It's a must see and i hope u share my interests\",\n",
       "       b\"I saw this film on True Movies (which automatically made me sceptical) but actually - it was good. Why? Not because of the amazing plot twists or breathtaking dialogue (of which there is little) but because actually, despite what people say I thought the film was accurate in it's depiction of teenagers dealing with pregnancy.<br /><br />It's NOT Dawson's Creek, they're not graceful, cool witty characters who breeze through sexuality with effortless knowledge. They're kids and they act like kids would. <br /><br />They're blunt, awkward and annoyingly confused about everything. Yes, this could be by accident and they could just be bad actors but I don't think so. Dermot Mulroney gives (when not trying to be cool) a very believable performance and I loved him for it. Patricia Arquette IS whiny and annoying, but she was pregnant and a teenagers? The combination of the two isn't exactly lavender on your pillow. The plot was VERY predictable and but so what? I believed them, his stress and inability to cope - her brave, yet slightly misguided attempts to bring them closer together. I think the characters, acted by anyone else, WOULD indeed have been annoying and unbelievable but they weren't. It reflects the surreality of the situation they're in, that he's sitting in class and she walks on campus with the baby. I felt angry at her for that, I felt angry at him for being such a child and for blaming her. I felt it all.<br /><br />In the end, I loved it and would recommend it.<br /><br />Watch out for the scene where Dermot Mulroney runs from the disastrous counselling session - career performance.\",\n",
       "       b'This was a wonderfully clever and entertaining movie that I shall never tire of watching many, many times. The casting was magnificent in matching up the young with the older characters. There are those of us out here who really do appreciate good actors and an intelligent story format. As for Judi Dench, she is beautiful and a gift to any kind of production in which she stars. I always make a point to see Judi Dench in all her performances. She is a superb actress and a pleasure to watch as each transformation of her character comes to life. I can only be grateful when I see such an outstanding picture for most of the motion pictures made more recently lack good characters, good scripts and good acting. The movie public needs heroes, not deviant manikins, who lack ingenuity and talent. How wonderful to see old favorites like Leslie Caron, Olympia Dukakis and Cleo Laine. I would like to see this movie win the awards it deserves. Thank you again for a tremendous night of entertainment. I congratulate the writer, director, producer, and all those who did such a fine job.',\n",
       "       b'I have no idea what the other reviewer is talking about- this was a wonderful movie, and created a sense of the era that feels like time travel. The characters are truly young, Mary is a strong match for Byron, Claire is juvenile and a tad annoying, Polidori is a convincing beaten-down sycophant... all are beautiful, curious, and decadent... not the frightening wrecks they are in Gothic.<br /><br />Gothic works as an independent piece of shock film, and I loved it for different reasons, but this works like a Merchant and Ivory film, and was from my readings the best capture of what the summer must have felt like. Romantic, yes, but completely rekindles my interest in the lives of Shelley and Byron every time I think about the film. One of my all-time favorites.',\n",
       "       b\"This was soul-provoking! I am an Iranian, and living in th 21st century, I didn't know that such big tribes have been living in such conditions at the time of my grandfather!<br /><br />You see that today, or even in 1925, on one side of the world a lady or a baby could have everything served for him or her clean and on-demand, but here 80 years ago, people ventured their life to go to somewhere with more grass. It's really interesting that these Persians bear those difficulties to find pasture for their sheep, but they lose many the sheep on their way.<br /><br />I praise the Americans who accompanied this tribe, they were as tough as Bakhtiari people.\",\n",
       "       b'Just because someone is under the age of 10 does not mean they are stupid. If your child likes this film you\\'d better have him/her tested. I am continually amazed at how so many people can be involved in something that turns out so bad. This \"film\" is a showcase for digital wizardry AND NOTHING ELSE. The writing is horrid. I can\\'t remember when I\\'ve heard such bad dialogue. The songs are beyond wretched. The acting is sub-par but then the actors were not given much. Who decided to employ Joey Fatone? He cannot sing and he is ugly as sin.<br /><br />The worst thing is the obviousness of it all. It is as if the writers went out of their way to make it all as stupid as possible. Great children\\'s movies are wicked, smart and full of wit - films like Shrek and Toy Story in recent years, Willie Wonka and The Witches to mention two of the past. But in the continual dumbing-down of American more are flocking to dreck like Finding Nemo (yes, that\\'s right), the recent Charlie & The Chocolate Factory and eye-crossing trash like Red Riding Hood.',\n",
       "       b\"I absolutely LOVED this movie when I was a kid. I cried every time I watched it. It wasn't weird to me. I totally identified with the characters. I would love to see it again (and hope I wont be disappointed!). Pufnstuf rocks!!!! I was really drawn in to the fantasy world. And to me the movie was loooong. I wonder if I ever saw the series and have confused them? The acting I thought was strong. I loved Jack Wilde. He was so dreamy to an 10 year old (when I first saw the movie, not in 1970. I can still remember the characters vividly. The flute was totally believable and I can still 'feel' the evil woods. Witchy poo was scary - I wouldn't want to cross her path.\",\n",
       "       b'A very close and sharp discription of the bubbling and dynamic emotional world of specialy one 18year old guy, that makes his first experiences in his gay love to an other boy, during an vacation with a part of his family.<br /><br />I liked this film because of his extremly clear and surrogated storytelling , with all this \"Sound-close-ups\" and quiet moments wich had been full of intensive moods.<br /><br />',\n",
       "       b\"This is the most depressing film I have ever seen. I first saw it as a child and even thinking about it now really upsets me. I know it was set in a time when life was hard and I know these people were poor and the crops were vital. Yes, I get all that. What I find hard to take is I can't remember one single light moment in the entire film. Maybe it was true to life, I don't know. I'm quite sure the acting was top notch and the direction and quality of filming etc etc was wonderful and I know that every film can't have a happy ending but as a family film it is dire in my opinion.<br /><br />I wouldn't recommend it to anyone who wants to be entertained by a film. I can't stress enough how this film affected me as a child. I was talking about it recently and all the sad memories came flooding back. I think it would have all but the heartless reaching for the Prozac.\"],\n",
       "      dtype=object)>"
      ]
     },
     "execution_count": 6,
     "metadata": {},
     "output_type": "execute_result"
    }
   ],
   "source": [
    "train_examples_batch, train_labels_batch = next(iter(train_data.batch(10)))\n",
    "train_examples_batch"
   ]
  },
  {
   "cell_type": "code",
   "execution_count": 7,
   "metadata": {},
   "outputs": [
    {
     "data": {
      "text/plain": [
       "<tf.Tensor: id=225, shape=(10,), dtype=int64, numpy=array([1, 1, 1, 1, 1, 1, 0, 1, 1, 0])>"
      ]
     },
     "execution_count": 7,
     "metadata": {},
     "output_type": "execute_result"
    }
   ],
   "source": [
    "train_labels_batch"
   ]
  },
  {
   "cell_type": "markdown",
   "metadata": {},
   "source": [
    "# 4. 단어 임베딩 사용하기 (20차원으로 축소)"
   ]
  },
  {
   "cell_type": "code",
   "execution_count": 8,
   "metadata": {},
   "outputs": [
    {
     "data": {
      "text/plain": [
       "<tf.Tensor: id=405, shape=(3, 20), dtype=float32, numpy=\n",
       "array([[ 3.9819887 , -4.4838037 ,  5.177359  , -2.3643482 , -3.2938678 ,\n",
       "        -3.5364532 , -2.4786978 ,  2.5525482 ,  6.688532  , -2.3076782 ,\n",
       "        -1.9807833 ,  1.1315885 , -3.0339816 , -0.7604128 , -5.743445  ,\n",
       "         3.4242578 ,  4.790099  , -4.03061   , -5.992149  , -1.7297493 ],\n",
       "       [ 3.4232912 , -4.230874  ,  4.1488533 , -0.29553518, -6.802391  ,\n",
       "        -2.5163853 , -4.4002395 ,  1.905792  ,  4.7512794 , -0.40538004,\n",
       "        -4.3401685 ,  1.0361497 ,  0.9744097 ,  0.71507156, -6.2657013 ,\n",
       "         0.16533905,  4.560262  , -1.3106939 , -3.1121316 , -2.1338716 ],\n",
       "       [ 3.8508697 , -5.003031  ,  4.8700504 , -0.04324996, -5.893603  ,\n",
       "        -5.2983093 , -4.004676  ,  4.1236343 ,  6.267754  ,  0.11632943,\n",
       "        -3.5934832 ,  0.8023905 ,  0.56146765,  0.9192484 , -7.3066816 ,\n",
       "         2.8202746 ,  6.2000837 , -3.5709393 , -4.564525  , -2.305622  ]],\n",
       "      dtype=float32)>"
      ]
     },
     "execution_count": 8,
     "metadata": {},
     "output_type": "execute_result"
    }
   ],
   "source": [
    "embedding = \"https://tfhub.dev/google/tf2-preview/gnews-swivel-20dim/1\"\n",
    "hub_layer = hub.KerasLayer(embedding, input_shape=[], \n",
    "                           dtype=tf.string, trainable=True)\n",
    "hub_layer(train_examples_batch[:3])"
   ]
  },
  {
   "cell_type": "markdown",
   "metadata": {},
   "source": [
    "# 5. 모델 구성"
   ]
  },
  {
   "cell_type": "code",
   "execution_count": 9,
   "metadata": {},
   "outputs": [
    {
     "name": "stdout",
     "output_type": "stream",
     "text": [
      "Model: \"sequential\"\n",
      "_________________________________________________________________\n",
      "Layer (type)                 Output Shape              Param #   \n",
      "=================================================================\n",
      "keras_layer (KerasLayer)     (None, 20)                400020    \n",
      "_________________________________________________________________\n",
      "dense (Dense)                (None, 16)                336       \n",
      "_________________________________________________________________\n",
      "dense_1 (Dense)              (None, 1)                 17        \n",
      "=================================================================\n",
      "Total params: 400,373\n",
      "Trainable params: 400,373\n",
      "Non-trainable params: 0\n",
      "_________________________________________________________________\n"
     ]
    }
   ],
   "source": [
    "model = tf.keras.Sequential()\n",
    "model.add(hub_layer)\n",
    "model.add(tf.keras.layers.Dense(16, activation='relu'))\n",
    "model.add(tf.keras.layers.Dense(1, activation='sigmoid'))\n",
    "\n",
    "model.summary()"
   ]
  },
  {
   "cell_type": "markdown",
   "metadata": {},
   "source": [
    "# 6. 훈련"
   ]
  },
  {
   "cell_type": "code",
   "execution_count": 10,
   "metadata": {},
   "outputs": [],
   "source": [
    "model.compile(optimizer='adam',\n",
    "              loss='binary_crossentropy',\n",
    "              metrics=['accuracy'])"
   ]
  },
  {
   "cell_type": "code",
   "execution_count": 11,
   "metadata": {},
   "outputs": [
    {
     "name": "stdout",
     "output_type": "stream",
     "text": [
      "Epoch 1/20\n"
     ]
    },
    {
     "name": "stderr",
     "output_type": "stream",
     "text": [
      "WARNING: Logging before flag parsing goes to stderr.\n",
      "W1122 18:10:08.745627 4749467072 deprecation.py:323] From /Users/seojungwon/anaconda3/lib/python3.6/site-packages/tensorflow_core/python/ops/nn_impl.py:183: where (from tensorflow.python.ops.array_ops) is deprecated and will be removed in a future version.\n",
      "Instructions for updating:\n",
      "Use tf.where in 2.0, which has the same broadcast rule as np.where\n"
     ]
    },
    {
     "name": "stdout",
     "output_type": "stream",
     "text": [
      "30/30 [==============================] - 7s 227ms/step - loss: 0.7972 - accuracy: 0.4959 - val_loss: 0.0000e+00 - val_accuracy: 0.0000e+00\n",
      "Epoch 2/20\n",
      "30/30 [==============================] - 5s 177ms/step - loss: 0.6951 - accuracy: 0.5749 - val_loss: 0.6628 - val_accuracy: 0.6049\n",
      "Epoch 3/20\n",
      "30/30 [==============================] - 5s 172ms/step - loss: 0.6513 - accuracy: 0.6293 - val_loss: 0.6305 - val_accuracy: 0.6501\n",
      "Epoch 4/20\n",
      "30/30 [==============================] - 5s 162ms/step - loss: 0.6171 - accuracy: 0.6687 - val_loss: 0.6031 - val_accuracy: 0.6824\n",
      "Epoch 5/20\n",
      "30/30 [==============================] - 7s 248ms/step - loss: 0.5893 - accuracy: 0.7005 - val_loss: 0.5760 - val_accuracy: 0.7104\n",
      "Epoch 6/20\n",
      "30/30 [==============================] - 9s 288ms/step - loss: 0.5601 - accuracy: 0.7302 - val_loss: 0.5487 - val_accuracy: 0.7350\n",
      "Epoch 7/20\n",
      "30/30 [==============================] - 6s 208ms/step - loss: 0.5276 - accuracy: 0.7577 - val_loss: 0.5174 - val_accuracy: 0.7640\n",
      "Epoch 8/20\n",
      "30/30 [==============================] - 7s 230ms/step - loss: 0.4957 - accuracy: 0.7811 - val_loss: 0.4874 - val_accuracy: 0.7853\n",
      "Epoch 9/20\n",
      "30/30 [==============================] - 6s 187ms/step - loss: 0.4611 - accuracy: 0.8031 - val_loss: 0.4563 - val_accuracy: 0.8027\n",
      "Epoch 10/20\n",
      "30/30 [==============================] - 5s 181ms/step - loss: 0.4247 - accuracy: 0.8253 - val_loss: 0.4293 - val_accuracy: 0.8179\n",
      "Epoch 11/20\n",
      "30/30 [==============================] - 7s 223ms/step - loss: 0.3941 - accuracy: 0.8427 - val_loss: 0.4036 - val_accuracy: 0.8312\n",
      "Epoch 12/20\n",
      "30/30 [==============================] - 6s 188ms/step - loss: 0.3623 - accuracy: 0.8569 - val_loss: 0.3821 - val_accuracy: 0.8388\n",
      "Epoch 13/20\n",
      "30/30 [==============================] - 7s 219ms/step - loss: 0.3359 - accuracy: 0.8682 - val_loss: 0.3645 - val_accuracy: 0.8488\n",
      "Epoch 14/20\n",
      "30/30 [==============================] - 5s 181ms/step - loss: 0.3132 - accuracy: 0.8783 - val_loss: 0.3497 - val_accuracy: 0.8536\n",
      "Epoch 15/20\n",
      "30/30 [==============================] - 5s 172ms/step - loss: 0.2899 - accuracy: 0.8885 - val_loss: 0.3378 - val_accuracy: 0.8582\n",
      "Epoch 16/20\n",
      "30/30 [==============================] - 5s 163ms/step - loss: 0.2770 - accuracy: 0.8963 - val_loss: 0.3279 - val_accuracy: 0.8618\n",
      "Epoch 17/20\n",
      "30/30 [==============================] - 5s 159ms/step - loss: 0.2584 - accuracy: 0.9043 - val_loss: 0.3209 - val_accuracy: 0.8635\n",
      "Epoch 18/20\n",
      "30/30 [==============================] - 5s 167ms/step - loss: 0.2398 - accuracy: 0.9110 - val_loss: 0.3149 - val_accuracy: 0.8660\n",
      "Epoch 19/20\n",
      "30/30 [==============================] - 5s 170ms/step - loss: 0.2276 - accuracy: 0.9159 - val_loss: 0.3091 - val_accuracy: 0.8687\n",
      "Epoch 20/20\n",
      "30/30 [==============================] - 5s 167ms/step - loss: 0.2147 - accuracy: 0.9215 - val_loss: 0.3052 - val_accuracy: 0.8716\n"
     ]
    }
   ],
   "source": [
    "history = model.fit(train_data.shuffle(10000).batch(512),\n",
    "                    epochs=20,\n",
    "                    validation_data=validation_data.batch(512),\n",
    "                    verbose=1)"
   ]
  },
  {
   "cell_type": "markdown",
   "metadata": {},
   "source": [
    "# 7. 검증"
   ]
  },
  {
   "cell_type": "code",
   "execution_count": 12,
   "metadata": {},
   "outputs": [
    {
     "name": "stdout",
     "output_type": "stream",
     "text": [
      "49/49 - 3s - loss: 0.3210 - accuracy: 0.8603\n",
      "loss: 0.321\n",
      "accuracy: 0.860\n"
     ]
    }
   ],
   "source": [
    "results = model.evaluate(test_data.batch(512), verbose=2)\n",
    "for name, value in zip(model.metrics_names, results):\n",
    "    print(\"%s: %.3f\" % (name, value))"
   ]
  },
  {
   "cell_type": "code",
   "execution_count": null,
   "metadata": {},
   "outputs": [],
   "source": []
  }
 ],
 "metadata": {
  "kernelspec": {
   "display_name": "Python 3",
   "language": "python",
   "name": "python3"
  },
  "language_info": {
   "codemirror_mode": {
    "name": "ipython",
    "version": 3
   },
   "file_extension": ".py",
   "mimetype": "text/x-python",
   "name": "python",
   "nbconvert_exporter": "python",
   "pygments_lexer": "ipython3",
   "version": "3.6.8"
  }
 },
 "nbformat": 4,
 "nbformat_minor": 2
}
