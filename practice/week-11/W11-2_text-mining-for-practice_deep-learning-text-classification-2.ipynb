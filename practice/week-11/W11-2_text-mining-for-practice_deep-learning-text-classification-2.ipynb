{
 "cells": [
  {
   "cell_type": "markdown",
   "metadata": {},
   "source": [
    "# TEXT MINING for PRACTICE: text classification using Deep Learning\n",
    "- Keras를 이용한 텍스트마이닝\n",
    "---"
   ]
  },
  {
   "cell_type": "markdown",
   "metadata": {},
   "source": [
    "# 1 . 패키지 설정"
   ]
  },
  {
   "cell_type": "code",
   "execution_count": 1,
   "metadata": {},
   "outputs": [
    {
     "name": "stdout",
     "output_type": "stream",
     "text": [
      "2.0.0-rc1\n"
     ]
    }
   ],
   "source": [
    "from __future__ import absolute_import, division, print_function, unicode_literals\n",
    "\n",
    "import tensorflow as tf\n",
    "from tensorflow import keras\n",
    "\n",
    "import numpy as np\n",
    "\n",
    "print(tf.__version__)"
   ]
  },
  {
   "cell_type": "markdown",
   "metadata": {},
   "source": [
    "# 2. 정리된 데이터셋 다운로드"
   ]
  },
  {
   "cell_type": "code",
   "execution_count": 2,
   "metadata": {},
   "outputs": [
    {
     "name": "stdout",
     "output_type": "stream",
     "text": [
      "Downloading data from https://storage.googleapis.com/tensorflow/tf-keras-datasets/imdb.npz\n",
      "17465344/17464789 [==============================] - 2s 0us/step\n"
     ]
    }
   ],
   "source": [
    "imdb = keras.datasets.imdb\n",
    "\n",
    "(train_data, train_labels), (test_data, test_labels) = imdb.load_data(num_words=10000)"
   ]
  },
  {
   "cell_type": "code",
   "execution_count": 3,
   "metadata": {},
   "outputs": [
    {
     "name": "stdout",
     "output_type": "stream",
     "text": [
      "훈련 샘플: 25000, 레이블: 25000\n"
     ]
    }
   ],
   "source": [
    "print(\"훈련 샘플: {}, 레이블: {}\".format(len(train_data), len(train_labels)))\n"
   ]
  },
  {
   "cell_type": "code",
   "execution_count": 4,
   "metadata": {},
   "outputs": [
    {
     "name": "stdout",
     "output_type": "stream",
     "text": [
      "[1, 14, 22, 16, 43, 530, 973, 1622, 1385, 65, 458, 4468, 66, 3941, 4, 173, 36, 256, 5, 25, 100, 43, 838, 112, 50, 670, 2, 9, 35, 480, 284, 5, 150, 4, 172, 112, 167, 2, 336, 385, 39, 4, 172, 4536, 1111, 17, 546, 38, 13, 447, 4, 192, 50, 16, 6, 147, 2025, 19, 14, 22, 4, 1920, 4613, 469, 4, 22, 71, 87, 12, 16, 43, 530, 38, 76, 15, 13, 1247, 4, 22, 17, 515, 17, 12, 16, 626, 18, 2, 5, 62, 386, 12, 8, 316, 8, 106, 5, 4, 2223, 5244, 16, 480, 66, 3785, 33, 4, 130, 12, 16, 38, 619, 5, 25, 124, 51, 36, 135, 48, 25, 1415, 33, 6, 22, 12, 215, 28, 77, 52, 5, 14, 407, 16, 82, 2, 8, 4, 107, 117, 5952, 15, 256, 4, 2, 7, 3766, 5, 723, 36, 71, 43, 530, 476, 26, 400, 317, 46, 7, 4, 2, 1029, 13, 104, 88, 4, 381, 15, 297, 98, 32, 2071, 56, 26, 141, 6, 194, 7486, 18, 4, 226, 22, 21, 134, 476, 26, 480, 5, 144, 30, 5535, 18, 51, 36, 28, 224, 92, 25, 104, 4, 226, 65, 16, 38, 1334, 88, 12, 16, 283, 5, 16, 4472, 113, 103, 32, 15, 16, 5345, 19, 178, 32]\n"
     ]
    }
   ],
   "source": [
    "print(train_data[0])\n"
   ]
  },
  {
   "cell_type": "code",
   "execution_count": 5,
   "metadata": {},
   "outputs": [
    {
     "data": {
      "text/plain": [
       "(218, 189)"
      ]
     },
     "execution_count": 5,
     "metadata": {},
     "output_type": "execute_result"
    }
   ],
   "source": [
    "len(train_data[0]), len(train_data[1])\n"
   ]
  },
  {
   "cell_type": "code",
   "execution_count": 6,
   "metadata": {},
   "outputs": [
    {
     "name": "stdout",
     "output_type": "stream",
     "text": [
      "Downloading data from https://storage.googleapis.com/tensorflow/tf-keras-datasets/imdb_word_index.json\n",
      "1646592/1641221 [==============================] - 0s 0us/step\n"
     ]
    }
   ],
   "source": [
    "# 단어와 정수 인덱스를 매핑한 딕셔너리\n",
    "word_index = imdb.get_word_index()\n",
    "\n",
    "# 처음 몇 개 인덱스는 사전에 정의되어 있습니다\n",
    "word_index = {k:(v+3) for k,v in word_index.items()}\n",
    "word_index[\"<PAD>\"] = 0\n",
    "word_index[\"<START>\"] = 1\n",
    "word_index[\"<UNK>\"] = 2  # unknown\n",
    "word_index[\"<UNUSED>\"] = 3\n",
    "\n",
    "reverse_word_index = dict([(value, key) for (key, value) in word_index.items()])\n",
    "\n",
    "def decode_review(text):\n",
    "    return ' '.join([reverse_word_index.get(i, '?') for i in text])"
   ]
  },
  {
   "cell_type": "code",
   "execution_count": 7,
   "metadata": {
    "scrolled": true
   },
   "outputs": [
    {
     "data": {
      "text/plain": [
       "\"<START> this film was just brilliant casting location scenery story direction everyone's really suited the part they played and you could just imagine being there robert <UNK> is an amazing actor and now the same being director <UNK> father came from the same scottish island as myself so i loved the fact there was a real connection with this film the witty remarks throughout the film were great it was just brilliant so much that i bought the film as soon as it was released for <UNK> and would recommend it to everyone to watch and the fly fishing was amazing really cried at the end it was so sad and you know what they say if you cry at a film it must have been good and this definitely was also <UNK> to the two little boy's that played the <UNK> of norman and paul they were just brilliant children are often left out of the <UNK> list i think because the stars that play them all grown up are such a big profile for the whole film but these children are amazing and should be praised for what they have done don't you think the whole story was so lovely because it was true and was someone's life after all that was shared with us all\""
      ]
     },
     "execution_count": 7,
     "metadata": {},
     "output_type": "execute_result"
    }
   ],
   "source": [
    "decode_review(train_data[0])"
   ]
  },
  {
   "cell_type": "markdown",
   "metadata": {},
   "source": [
    "# 3. 데이터셋 정리"
   ]
  },
  {
   "cell_type": "code",
   "execution_count": 8,
   "metadata": {},
   "outputs": [],
   "source": [
    "train_data = keras.preprocessing.sequence.pad_sequences(train_data,\n",
    "                                                        value=word_index[\"<PAD>\"],\n",
    "                                                        padding='post',\n",
    "                                                        maxlen=256)\n",
    "\n",
    "test_data = keras.preprocessing.sequence.pad_sequences(test_data,\n",
    "                                                       value=word_index[\"<PAD>\"],\n",
    "                                                       padding='post',\n",
    "                                                       maxlen=256)"
   ]
  },
  {
   "cell_type": "code",
   "execution_count": 9,
   "metadata": {},
   "outputs": [
    {
     "data": {
      "text/plain": [
       "(256, 256)"
      ]
     },
     "execution_count": 9,
     "metadata": {},
     "output_type": "execute_result"
    }
   ],
   "source": [
    "len(train_data[0]), len(train_data[1])"
   ]
  },
  {
   "cell_type": "code",
   "execution_count": 10,
   "metadata": {
    "scrolled": true
   },
   "outputs": [
    {
     "name": "stdout",
     "output_type": "stream",
     "text": [
      "[   1   14   22   16   43  530  973 1622 1385   65  458 4468   66 3941\n",
      "    4  173   36  256    5   25  100   43  838  112   50  670    2    9\n",
      "   35  480  284    5  150    4  172  112  167    2  336  385   39    4\n",
      "  172 4536 1111   17  546   38   13  447    4  192   50   16    6  147\n",
      " 2025   19   14   22    4 1920 4613  469    4   22   71   87   12   16\n",
      "   43  530   38   76   15   13 1247    4   22   17  515   17   12   16\n",
      "  626   18    2    5   62  386   12    8  316    8  106    5    4 2223\n",
      " 5244   16  480   66 3785   33    4  130   12   16   38  619    5   25\n",
      "  124   51   36  135   48   25 1415   33    6   22   12  215   28   77\n",
      "   52    5   14  407   16   82    2    8    4  107  117 5952   15  256\n",
      "    4    2    7 3766    5  723   36   71   43  530  476   26  400  317\n",
      "   46    7    4    2 1029   13  104   88    4  381   15  297   98   32\n",
      " 2071   56   26  141    6  194 7486   18    4  226   22   21  134  476\n",
      "   26  480    5  144   30 5535   18   51   36   28  224   92   25  104\n",
      "    4  226   65   16   38 1334   88   12   16  283    5   16 4472  113\n",
      "  103   32   15   16 5345   19  178   32    0    0    0    0    0    0\n",
      "    0    0    0    0    0    0    0    0    0    0    0    0    0    0\n",
      "    0    0    0    0    0    0    0    0    0    0    0    0    0    0\n",
      "    0    0    0    0]\n"
     ]
    }
   ],
   "source": [
    "print(train_data[0])"
   ]
  },
  {
   "cell_type": "markdown",
   "metadata": {},
   "source": [
    "# 4. 모델 정의"
   ]
  },
  {
   "cell_type": "code",
   "execution_count": 11,
   "metadata": {
    "scrolled": true
   },
   "outputs": [
    {
     "name": "stdout",
     "output_type": "stream",
     "text": [
      "Model: \"sequential\"\n",
      "_________________________________________________________________\n",
      "Layer (type)                 Output Shape              Param #   \n",
      "=================================================================\n",
      "embedding (Embedding)        (None, None, 16)          160000    \n",
      "_________________________________________________________________\n",
      "global_average_pooling1d (Gl (None, 16)                0         \n",
      "_________________________________________________________________\n",
      "dense (Dense)                (None, 16)                272       \n",
      "_________________________________________________________________\n",
      "dense_1 (Dense)              (None, 1)                 17        \n",
      "=================================================================\n",
      "Total params: 160,289\n",
      "Trainable params: 160,289\n",
      "Non-trainable params: 0\n",
      "_________________________________________________________________\n"
     ]
    }
   ],
   "source": [
    "# 입력 크기는 영화 리뷰 데이터셋에 적용된 어휘 사전의 크기입니다(10,000개의 단어)\n",
    "vocab_size = 10000\n",
    "\n",
    "model = keras.Sequential()\n",
    "model.add(keras.layers.Embedding(vocab_size, 16, input_shape=(None,)))\n",
    "model.add(keras.layers.GlobalAveragePooling1D())\n",
    "model.add(keras.layers.Dense(16, activation='relu'))\n",
    "model.add(keras.layers.Dense(1, activation='sigmoid'))\n",
    "\n",
    "model.summary()"
   ]
  },
  {
   "cell_type": "markdown",
   "metadata": {},
   "source": [
    "# 5. 모델 훈련"
   ]
  },
  {
   "cell_type": "code",
   "execution_count": 12,
   "metadata": {},
   "outputs": [],
   "source": [
    "model.compile(optimizer='adam',\n",
    "              loss='binary_crossentropy',\n",
    "              metrics=['accuracy'])"
   ]
  },
  {
   "cell_type": "code",
   "execution_count": 13,
   "metadata": {},
   "outputs": [],
   "source": [
    "x_val = train_data[:10000]\n",
    "partial_x_train = train_data[10000:]\n",
    "\n",
    "y_val = train_labels[:10000]\n",
    "partial_y_train = train_labels[10000:]"
   ]
  },
  {
   "cell_type": "code",
   "execution_count": 14,
   "metadata": {},
   "outputs": [
    {
     "name": "stderr",
     "output_type": "stream",
     "text": [
      "WARNING: Logging before flag parsing goes to stderr.\n",
      "W1122 02:11:46.359302 4517920192 deprecation.py:323] From /Users/seojungwon/anaconda3/lib/python3.6/site-packages/tensorflow_core/python/ops/nn_impl.py:183: where (from tensorflow.python.ops.array_ops) is deprecated and will be removed in a future version.\n",
      "Instructions for updating:\n",
      "Use tf.where in 2.0, which has the same broadcast rule as np.where\n"
     ]
    },
    {
     "name": "stdout",
     "output_type": "stream",
     "text": [
      "Train on 15000 samples, validate on 10000 samples\n",
      "Epoch 1/40\n",
      "15000/15000 [==============================] - 2s 136us/sample - loss: 0.6914 - accuracy: 0.5769 - val_loss: 0.6886 - val_accuracy: 0.6724\n",
      "Epoch 2/40\n",
      "15000/15000 [==============================] - 1s 34us/sample - loss: 0.6839 - accuracy: 0.7147 - val_loss: 0.6785 - val_accuracy: 0.6917\n",
      "Epoch 3/40\n",
      "15000/15000 [==============================] - 1s 35us/sample - loss: 0.6686 - accuracy: 0.7399 - val_loss: 0.6595 - val_accuracy: 0.7484\n",
      "Epoch 4/40\n",
      "15000/15000 [==============================] - 1s 34us/sample - loss: 0.6420 - accuracy: 0.7757 - val_loss: 0.6293 - val_accuracy: 0.7538\n",
      "Epoch 5/40\n",
      "15000/15000 [==============================] - 1s 38us/sample - loss: 0.6038 - accuracy: 0.7982 - val_loss: 0.5897 - val_accuracy: 0.7923\n",
      "Epoch 6/40\n",
      "15000/15000 [==============================] - 1s 36us/sample - loss: 0.5572 - accuracy: 0.8167 - val_loss: 0.5448 - val_accuracy: 0.8092\n",
      "Epoch 7/40\n",
      "15000/15000 [==============================] - 1s 37us/sample - loss: 0.5065 - accuracy: 0.8385 - val_loss: 0.4997 - val_accuracy: 0.8261\n",
      "Epoch 8/40\n",
      "15000/15000 [==============================] - 1s 36us/sample - loss: 0.4581 - accuracy: 0.8542 - val_loss: 0.4581 - val_accuracy: 0.8406\n",
      "Epoch 9/40\n",
      "15000/15000 [==============================] - 1s 41us/sample - loss: 0.4140 - accuracy: 0.8668 - val_loss: 0.4232 - val_accuracy: 0.8492\n",
      "Epoch 10/40\n",
      "15000/15000 [==============================] - 1s 37us/sample - loss: 0.3767 - accuracy: 0.8785 - val_loss: 0.3936 - val_accuracy: 0.8569\n",
      "Epoch 11/40\n",
      "15000/15000 [==============================] - 1s 38us/sample - loss: 0.3450 - accuracy: 0.8874 - val_loss: 0.3711 - val_accuracy: 0.8610\n",
      "Epoch 12/40\n",
      "15000/15000 [==============================] - 1s 38us/sample - loss: 0.3190 - accuracy: 0.8935 - val_loss: 0.3527 - val_accuracy: 0.8679\n",
      "Epoch 13/40\n",
      "15000/15000 [==============================] - 1s 38us/sample - loss: 0.2971 - accuracy: 0.8991 - val_loss: 0.3383 - val_accuracy: 0.8714\n",
      "Epoch 14/40\n",
      "15000/15000 [==============================] - 1s 40us/sample - loss: 0.2776 - accuracy: 0.9051 - val_loss: 0.3269 - val_accuracy: 0.8726\n",
      "Epoch 15/40\n",
      "15000/15000 [==============================] - 1s 37us/sample - loss: 0.2610 - accuracy: 0.9105 - val_loss: 0.3171 - val_accuracy: 0.8767\n",
      "Epoch 16/40\n",
      "15000/15000 [==============================] - 1s 39us/sample - loss: 0.2461 - accuracy: 0.9154 - val_loss: 0.3095 - val_accuracy: 0.8788\n",
      "Epoch 17/40\n",
      "15000/15000 [==============================] - 1s 42us/sample - loss: 0.2326 - accuracy: 0.9199 - val_loss: 0.3034 - val_accuracy: 0.8798\n",
      "Epoch 18/40\n",
      "15000/15000 [==============================] - 1s 42us/sample - loss: 0.2204 - accuracy: 0.9245 - val_loss: 0.2982 - val_accuracy: 0.8818\n",
      "Epoch 19/40\n",
      "15000/15000 [==============================] - 1s 41us/sample - loss: 0.2102 - accuracy: 0.9279 - val_loss: 0.2945 - val_accuracy: 0.8828\n",
      "Epoch 20/40\n",
      "15000/15000 [==============================] - 1s 67us/sample - loss: 0.1993 - accuracy: 0.9328 - val_loss: 0.2908 - val_accuracy: 0.8840\n",
      "Epoch 21/40\n",
      "15000/15000 [==============================] - 1s 58us/sample - loss: 0.1899 - accuracy: 0.9359 - val_loss: 0.2883 - val_accuracy: 0.8848\n",
      "Epoch 22/40\n",
      "15000/15000 [==============================] - 1s 34us/sample - loss: 0.1810 - accuracy: 0.9407 - val_loss: 0.2865 - val_accuracy: 0.8848\n",
      "Epoch 23/40\n",
      "15000/15000 [==============================] - 1s 37us/sample - loss: 0.1729 - accuracy: 0.9449 - val_loss: 0.2858 - val_accuracy: 0.8831\n",
      "Epoch 24/40\n",
      "15000/15000 [==============================] - 1s 38us/sample - loss: 0.1651 - accuracy: 0.9478 - val_loss: 0.2857 - val_accuracy: 0.8859\n",
      "Epoch 25/40\n",
      "15000/15000 [==============================] - 1s 43us/sample - loss: 0.1581 - accuracy: 0.9498 - val_loss: 0.2848 - val_accuracy: 0.8871\n",
      "Epoch 26/40\n",
      "15000/15000 [==============================] - 1s 46us/sample - loss: 0.1510 - accuracy: 0.9544 - val_loss: 0.2853 - val_accuracy: 0.8852\n",
      "Epoch 27/40\n",
      "15000/15000 [==============================] - 1s 55us/sample - loss: 0.1448 - accuracy: 0.9561 - val_loss: 0.2855 - val_accuracy: 0.8855\n",
      "Epoch 28/40\n",
      "15000/15000 [==============================] - 1s 46us/sample - loss: 0.1387 - accuracy: 0.9576 - val_loss: 0.2865 - val_accuracy: 0.8858\n",
      "Epoch 29/40\n",
      "15000/15000 [==============================] - 1s 66us/sample - loss: 0.1329 - accuracy: 0.9607 - val_loss: 0.2885 - val_accuracy: 0.8844\n",
      "Epoch 30/40\n",
      "15000/15000 [==============================] - 1s 55us/sample - loss: 0.1276 - accuracy: 0.9633 - val_loss: 0.2896 - val_accuracy: 0.8856\n",
      "Epoch 31/40\n",
      "15000/15000 [==============================] - 1s 48us/sample - loss: 0.1230 - accuracy: 0.9647 - val_loss: 0.2923 - val_accuracy: 0.8855\n",
      "Epoch 32/40\n",
      "15000/15000 [==============================] - 1s 45us/sample - loss: 0.1184 - accuracy: 0.9661 - val_loss: 0.2959 - val_accuracy: 0.8842\n",
      "Epoch 33/40\n",
      "15000/15000 [==============================] - 1s 47us/sample - loss: 0.1128 - accuracy: 0.9693 - val_loss: 0.2965 - val_accuracy: 0.8848\n",
      "Epoch 34/40\n",
      "15000/15000 [==============================] - 1s 53us/sample - loss: 0.1083 - accuracy: 0.9707 - val_loss: 0.2985 - val_accuracy: 0.8834\n",
      "Epoch 35/40\n",
      "15000/15000 [==============================] - 1s 50us/sample - loss: 0.1042 - accuracy: 0.9709 - val_loss: 0.3011 - val_accuracy: 0.8833\n",
      "Epoch 36/40\n",
      "15000/15000 [==============================] - 1s 48us/sample - loss: 0.0998 - accuracy: 0.9733 - val_loss: 0.3042 - val_accuracy: 0.8826\n",
      "Epoch 37/40\n",
      "15000/15000 [==============================] - 1s 45us/sample - loss: 0.0961 - accuracy: 0.9760 - val_loss: 0.3085 - val_accuracy: 0.8813\n",
      "Epoch 38/40\n",
      "15000/15000 [==============================] - 1s 48us/sample - loss: 0.0923 - accuracy: 0.9764 - val_loss: 0.3133 - val_accuracy: 0.8794\n",
      "Epoch 39/40\n",
      "15000/15000 [==============================] - 1s 46us/sample - loss: 0.0887 - accuracy: 0.9778 - val_loss: 0.3143 - val_accuracy: 0.8826\n",
      "Epoch 40/40\n",
      "15000/15000 [==============================] - 1s 46us/sample - loss: 0.0851 - accuracy: 0.9789 - val_loss: 0.3187 - val_accuracy: 0.8808\n"
     ]
    }
   ],
   "source": [
    "history = model.fit(partial_x_train,\n",
    "                    partial_y_train,\n",
    "                    epochs=40,\n",
    "                    batch_size=512,\n",
    "                    validation_data=(x_val, y_val),\n",
    "                    verbose=1)"
   ]
  },
  {
   "cell_type": "code",
   "execution_count": 15,
   "metadata": {},
   "outputs": [
    {
     "name": "stdout",
     "output_type": "stream",
     "text": [
      "25000/1 - 2s - loss: 0.3410 - accuracy: 0.8709\n",
      "[0.3399423012638092, 0.87092]\n"
     ]
    }
   ],
   "source": [
    "results = model.evaluate(test_data,  test_labels, verbose=2)\n",
    "\n",
    "print(results)"
   ]
  },
  {
   "cell_type": "code",
   "execution_count": 16,
   "metadata": {},
   "outputs": [
    {
     "data": {
      "text/plain": [
       "dict_keys(['loss', 'accuracy', 'val_loss', 'val_accuracy'])"
      ]
     },
     "execution_count": 16,
     "metadata": {},
     "output_type": "execute_result"
    }
   ],
   "source": [
    "history_dict = history.history\n",
    "history_dict.keys()\n"
   ]
  },
  {
   "cell_type": "markdown",
   "metadata": {},
   "source": [
    "# 6. 훈련과정 시각화"
   ]
  },
  {
   "cell_type": "code",
   "execution_count": 18,
   "metadata": {},
   "outputs": [
    {
     "data": {
      "image/png": "[encoded data removed]",
      "text/plain": [
       "<Figure size 432x288 with 1 Axes>"
      ]
     },
     "metadata": {
      "needs_background": "light"
     },
     "output_type": "display_data"
    }
   ],
   "source": [
    "%matplotlib inline\n",
    "\n",
    "import matplotlib.pyplot as plt\n",
    "\n",
    "acc = history_dict['accuracy']\n",
    "val_acc = history_dict['val_accuracy']\n",
    "loss = history_dict['loss']\n",
    "val_loss = history_dict['val_loss']\n",
    "\n",
    "epochs = range(1, len(acc) + 1)\n",
    "\n",
    "# \"bo\"는 \"파란색 점\"입니다\n",
    "plt.plot(epochs, loss, 'bo', label='Training loss')\n",
    "# b는 \"파란 실선\"입니다\n",
    "plt.plot(epochs, val_loss, 'b', label='Validation loss')\n",
    "plt.title('Training and validation loss')\n",
    "plt.xlabel('Epochs')\n",
    "plt.ylabel('Loss')\n",
    "plt.legend()\n",
    "\n",
    "plt.show()"
   ]
  },
  {
   "cell_type": "code",
   "execution_count": 19,
   "metadata": {},
   "outputs": [
    {
     "data": {
      "image/png": "[encoded data removed]",
      "text/plain": [
       "<Figure size 432x288 with 1 Axes>"
      ]
     },
     "metadata": {
      "needs_background": "light"
     },
     "output_type": "display_data"
    }
   ],
   "source": [
    "plt.clf()   # 그림을 초기화합니다\n",
    "\n",
    "plt.plot(epochs, acc, 'bo', label='Training acc')\n",
    "plt.plot(epochs, val_acc, 'b', label='Validation acc')\n",
    "plt.title('Training and validation accuracy')\n",
    "plt.xlabel('Epochs')\n",
    "plt.ylabel('Accuracy')\n",
    "plt.legend()\n",
    "\n",
    "plt.show()"
   ]
  },
  {
   "cell_type": "code",
   "execution_count": null,
   "metadata": {},
   "outputs": [],
   "source": []
  }
 ],
 "metadata": {
  "kernelspec": {
   "display_name": "Python 3",
   "language": "python",
   "name": "python3"
  },
  "language_info": {
   "codemirror_mode": {
    "name": "ipython",
    "version": 3
   },
   "file_extension": ".py",
   "mimetype": "text/x-python",
   "name": "python",
   "nbconvert_exporter": "python",
   "pygments_lexer": "ipython3",
   "version": "3.6.8"
  }
 },
 "nbformat": 4,
 "nbformat_minor": 2
}
