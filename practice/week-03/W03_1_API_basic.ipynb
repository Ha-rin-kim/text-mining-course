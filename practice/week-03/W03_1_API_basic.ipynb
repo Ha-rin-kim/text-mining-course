{
 "cells": [
  {
   "cell_type": "markdown",
   "metadata": {},
   "source": [
    "# TEXT MINING for PRACTICE: API를 이용한 데이터 수집\n",
    "---"
   ]
  },
  {
   "cell_type": "markdown",
   "metadata": {},
   "source": [
    "## 1. 추가 인증 없이 데이터 요청이 가능한 경우"
   ]
  },
  {
   "cell_type": "code",
   "execution_count": 2,
   "metadata": {},
   "outputs": [],
   "source": [
    "import pprint\n",
    "import requests\n",
    "import json"
   ]
  },
  {
   "cell_type": "markdown",
   "metadata": {},
   "source": [
    "### 1-1. 유명인의 명언을 제공해주는 API를 활용해 봅시다! \n",
    "https://quotes.rest/"
   ]
  },
  {
   "cell_type": "code",
   "execution_count": 3,
   "metadata": {},
   "outputs": [],
   "source": [
    "url = \"https://quotes.rest/qod\""
   ]
  },
  {
   "cell_type": "code",
   "execution_count": 4,
   "metadata": {},
   "outputs": [
    {
     "data": {
      "text/plain": [
       "{'success': {'total': 1},\n",
       " 'contents': {'quotes': [{'quote': 'Winning is not everything, but the effort to win is.',\n",
       "    'length': '52',\n",
       "    'author': 'Zig Ziglar',\n",
       "    'tags': ['effort', 'inspire', 'tod', 'winning'],\n",
       "    'category': 'inspire',\n",
       "    'date': '2019-10-17',\n",
       "    'permalink': 'https://theysaidso.com/quote/zig-ziglar-winning-is-not-everything-but-the-effort-to-win-is',\n",
       "    'title': 'Inspiring Quote of the day',\n",
       "    'background': 'https://theysaidso.com/img/bgs/man_on_the_mountain.jpg',\n",
       "    'id': 'wPkodOctkz8HYuyIo1e8FgeF'}],\n",
       "  'copyright': '2017-19 theysaidso.com'}}"
      ]
     },
     "execution_count": 4,
     "metadata": {},
     "output_type": "execute_result"
    }
   ],
   "source": [
    "res = requests.get(url).text\n",
    "json.loads(res)"
   ]
  },
  {
   "cell_type": "code",
   "execution_count": 5,
   "metadata": {
    "scrolled": true
   },
   "outputs": [
    {
     "name": "stdout",
     "output_type": "stream",
     "text": [
      "[{'author': 'Zig Ziglar',\n",
      "  'background': 'https://theysaidso.com/img/bgs/man_on_the_mountain.jpg',\n",
      "  'category': 'inspire',\n",
      "  'date': '2019-10-17',\n",
      "  'id': 'wPkodOctkz8HYuyIo1e8FgeF',\n",
      "  'length': '52',\n",
      "  'permalink': 'https://theysaidso.com/quote/zig-ziglar-winning-is-not-everything-but-the-effort-to-win-is',\n",
      "  'quote': 'Winning is not everything, but the effort to win is.',\n",
      "  'tags': ['effort', 'inspire', 'tod', 'winning'],\n",
      "  'title': 'Inspiring Quote of the day'}]\n"
     ]
    }
   ],
   "source": [
    "data = json.loads(res)['contents']\n",
    "pprint.pprint(data['quotes'])"
   ]
  },
  {
   "cell_type": "code",
   "execution_count": 6,
   "metadata": {},
   "outputs": [
    {
     "name": "stdout",
     "output_type": "stream",
     "text": [
      "Zig Ziglar said, \"Winning is not everything, but the effort to win is.\".\n"
     ]
    }
   ],
   "source": [
    "# 변수 사용의 안 좋은 예\n",
    "print(f\"{data['quotes'][0]['author']} said, \\\"{data['quotes'][0]['quote']}\\\".\")"
   ]
  },
  {
   "cell_type": "code",
   "execution_count": 7,
   "metadata": {},
   "outputs": [
    {
     "name": "stdout",
     "output_type": "stream",
     "text": [
      "Zig Ziglar said, \"Winning is not everything, but the effort to win is.\".\n"
     ]
    }
   ],
   "source": [
    "# 좋은 예\n",
    "for quote in data['quotes']:\n",
    "    print(f\"{quote['author']} said, \\\"{quote['quote']}\\\".\")"
   ]
  },
  {
   "cell_type": "code",
   "execution_count": 8,
   "metadata": {
    "scrolled": true
   },
   "outputs": [
    {
     "data": {
      "text/html": [
       "<img src=\"https://theysaidso.com/img/bgs/man_on_the_mountain.jpg\"/>"
      ],
      "text/plain": [
       "<IPython.core.display.Image object>"
      ]
     },
     "execution_count": 8,
     "metadata": {},
     "output_type": "execute_result"
    }
   ],
   "source": [
    "from IPython.display import Image\n",
    "Image(url=data['quotes'][0]['background'])"
   ]
  },
  {
   "cell_type": "code",
   "execution_count": 9,
   "metadata": {},
   "outputs": [
    {
     "data": {
      "text/plain": [
       "{'success': {'total': 1},\n",
       " 'contents': {'quotes': [{'quote': 'Winning is not everything, but the effort to win is.',\n",
       "    'length': '52',\n",
       "    'author': 'Zig Ziglar',\n",
       "    'tags': ['effort', 'inspire', 'tod', 'winning'],\n",
       "    'category': 'inspire',\n",
       "    'date': '2019-10-17',\n",
       "    'permalink': 'https://theysaidso.com/quote/zig-ziglar-winning-is-not-everything-but-the-effort-to-win-is',\n",
       "    'title': 'Inspiring Quote of the day',\n",
       "    'background': 'https://theysaidso.com/img/bgs/man_on_the_mountain.jpg',\n",
       "    'id': 'wPkodOctkz8HYuyIo1e8FgeF'}],\n",
       "  'copyright': '2017-19 theysaidso.com'}}"
      ]
     },
     "execution_count": 9,
     "metadata": {},
     "output_type": "execute_result"
    }
   ],
   "source": [
    "#사용자 인증을 하지 않는 API의 경우, 분/시간 당 요청수가 많이 제한됩니다...\n",
    "res = requests.get(url).text\n",
    "json.loads(res)"
   ]
  },
  {
   "cell_type": "markdown",
   "metadata": {},
   "source": [
    "### 1-2. 가상의 유저 프로필을 제공해주는 API를 살펴봅시다\n",
    "https://randomuser.me"
   ]
  },
  {
   "cell_type": "code",
   "execution_count": 10,
   "metadata": {},
   "outputs": [
    {
     "name": "stdout",
     "output_type": "stream",
     "text": [
      "{'info': {'page': 1,\n",
      "          'results': 1,\n",
      "          'seed': '8818d7c58f7e6096',\n",
      "          'version': '1.3'},\n",
      " 'results': [{'cell': '49364903',\n",
      "              'dob': {'age': 37, 'date': '1982-12-06T10:02:50.231Z'},\n",
      "              'email': 'irmelin.lu@example.com',\n",
      "              'gender': 'female',\n",
      "              'id': {'name': 'FN', 'value': '06128216853'},\n",
      "              'location': {'city': 'Midsund',\n",
      "                           'coordinates': {'latitude': '53.8587',\n",
      "                                           'longitude': '39.2064'},\n",
      "                           'country': 'Norway',\n",
      "                           'postcode': '0161',\n",
      "                           'state': 'Oslo',\n",
      "                           'street': {'name': 'Lysebuveien', 'number': 8562},\n",
      "                           'timezone': {'description': 'Tokyo, Seoul, Osaka, '\n",
      "                                                       'Sapporo, Yakutsk',\n",
      "                                        'offset': '+9:00'}},\n",
      "              'login': {'md5': '4a1b9f94abad37097fab1b7e8aa48515',\n",
      "                        'password': 'banzai',\n",
      "                        'salt': 'BTSK6bby',\n",
      "                        'sha1': '5b7b295d6256674fc6d169db90273cf231f20950',\n",
      "                        'sha256': '8d6c8d6b630cbdeebe121a2f95cfd57a0a903ddf9a13281de58ac9f8464ede15',\n",
      "                        'username': 'sadgoose860',\n",
      "                        'uuid': '688ed889-e7bb-49e0-861b-5dbfcee44973'},\n",
      "              'name': {'first': 'Irmelin', 'last': 'Lu', 'title': 'Mrs'},\n",
      "              'nat': 'NO',\n",
      "              'phone': '89225423',\n",
      "              'picture': {'large': 'https://randomuser.me/api/portraits/women/74.jpg',\n",
      "                          'medium': 'https://randomuser.me/api/portraits/med/women/74.jpg',\n",
      "                          'thumbnail': 'https://randomuser.me/api/portraits/thumb/women/74.jpg'},\n",
      "              'registered': {'age': 1, 'date': '2018-10-13T23:02:21.065Z'}}]}\n"
     ]
    }
   ],
   "source": [
    "res = requests.get('https://randomuser.me/api/')\n",
    "\n",
    "pprint.pprint(json.loads(res.text))"
   ]
  },
  {
   "cell_type": "code",
   "execution_count": 11,
   "metadata": {},
   "outputs": [
    {
     "name": "stdout",
     "output_type": "stream",
     "text": [
      "10\n"
     ]
    }
   ],
   "source": [
    "# 대부분의 API는 여러개의 결과를 한번에 응답할 수 있도록 추가 파라미터를 받습니다.\n",
    "res = requests.get('https://randomuser.me/api/?results=10')\n",
    "\n",
    "print(len(json.loads(res.text)['results']))"
   ]
  },
  {
   "cell_type": "markdown",
   "metadata": {},
   "source": [
    "### 1-3. 이미지 데이터를 API로 받아보자"
   ]
  },
  {
   "cell_type": "code",
   "execution_count": 12,
   "metadata": {},
   "outputs": [
    {
     "name": "stdout",
     "output_type": "stream",
     "text": [
      "<Response [200]>\n"
     ]
    }
   ],
   "source": [
    "url = \"https://source.unsplash.com/random/300x300\"\n",
    "res = requests.get(url)\n",
    "print(res)\n"
   ]
  },
  {
   "cell_type": "code",
   "execution_count": 13,
   "metadata": {},
   "outputs": [
    {
     "data": {
      "text/plain": [
       "b'\\xff\\xd8\\xff\\xe0\\x00\\x10JFIF\\x00\\x01\\x01\\x01\\x00H\\x00H\\x00\\x00\\xff\\xe2\\x02\\x1cICC_PROFILE\\x00\\x01\\x01\\x00\\x00\\x02\\x0clcms\\x02\\x10\\x00\\x00mntrRGB XYZ \\x07\\xdc\\x00\\x01\\x00\\x19\\x00\\x03\\x00)\\x009acspAPPL\\x00\\x00\\x00\\x00\\x00\\x00\\x00\\x00\\x00\\x00\\x00\\x00\\x00\\x00\\x00\\x00\\x00\\x00\\x00\\x00\\x00\\x00\\x00\\x00\\x00\\x00\\xf6\\xd6\\x00\\x01\\x00\\x00\\x00\\x00\\xd3-lcms\\x00\\x00\\x00\\x00\\x00\\x00\\x00\\x00\\x00\\x00\\x00\\x00\\x00\\x00\\x00\\x00\\x00\\x00\\x00\\x00\\x00\\x00\\x00\\x00\\x00\\x00\\x00\\x00\\x00\\x00\\x00\\x00\\x00\\x00\\x00\\x00\\x00\\x00\\x00\\x00\\x00\\x00\\x00\\x00\\x00\\x00\\x00\\ndesc\\x00\\x00\\x00\\xfc\\x00\\x00\\x00^cprt\\x00\\x00\\x01\\\\\\x00\\x00\\x00\\x0bwtpt\\x00\\x00\\x01h\\x00\\x00\\x00\\x14bkpt\\x00\\x00\\x01|\\x00\\x00\\x00\\x14rXYZ\\x00\\x00\\x01\\x90\\x00\\x00\\x00\\x14gXYZ\\x00\\x00\\x01\\xa4\\x00\\x00\\x00\\x14bXYZ\\x00\\x00\\x01\\xb8\\x00\\x00\\x00\\x14rTRC\\x00\\x00\\x01\\xcc\\x00\\x00\\x00@gTRC\\x00\\x00\\x01\\xcc\\x00\\x00\\x00@bTRC\\x00\\x00\\x01\\xcc\\x00\\x00\\x00@desc\\x00\\x00\\x00\\x00\\x00\\x00\\x00\\x03c2\\x00\\x00\\x00\\x00\\x00\\x00\\x00\\x00\\x00\\x00\\x00\\x00\\x00\\x00\\x00\\x00\\x00\\x00\\x00\\x00\\x00\\x00\\x00\\x00\\x00\\x00\\x00\\x00\\x00\\x00\\x00\\x00\\x00\\x00\\x00\\x00\\x00\\x00\\x00\\x00\\x00\\x00\\x00\\x00\\x00\\x00\\x00\\x00\\x00\\x00\\x00\\x00\\x00\\x00\\x00\\x00\\x00\\x00\\x00\\x00\\x00\\x00\\x00\\x00\\x00\\x00\\x00\\x00\\x00\\x00\\x00\\x00\\x00\\x00\\x00\\x00\\x00\\x00\\x00\\x00\\x00\\x00text\\x00\\x00\\x00\\x00IX\\x00\\x00XYZ \\x00\\x00\\x00\\x00\\x00\\x00\\xf6\\xd6\\x00\\x01\\x00\\x00\\x00\\x00\\xd3-XYZ \\x00\\x00\\x00\\x00\\x00\\x00\\x03\\x16\\x00\\x00\\x033\\x00\\x00\\x02\\xa4XYZ \\x00\\x00\\x00\\x00\\x00\\x00o\\xa2\\x00\\x008\\xf5\\x00\\x00\\x03\\x90XYZ \\x00\\x00\\x00\\x00\\x00\\x00b\\x99\\x00\\x00\\xb7\\x85\\x00\\x00\\x18\\xdaXYZ \\x00\\x00\\x00\\x00\\x00\\x00$\\xa0\\x00\\x00\\x0f\\x84\\x00\\x00\\xb6\\xcfcurv\\x00\\x00\\x00\\x00\\x00\\x00\\x00\\x1a\\x00\\x00\\x00\\xcb\\x01\\xc9\\x03c\\x05\\x92\\x08k\\x0b\\xf6\\x10?\\x15Q\\x1b4!\\xf1)\\x902\\x18;\\x92F\\x05Qw]\\xedkpz\\x05\\x89\\xb1\\x9a|\\xaci\\xbf}\\xd3\\xc3\\xe90\\xff\\xff\\xff\\xdb\\x00\\x84\\x00\\x02\\x03\\x03\\x03\\x04\\x03\\x04\\x05\\x05\\x04\\x06\\x06\\x06\\x06\\x06\\x08\\x08\\x07\\x07\\x08\\x08\\r\\t\\n\\t\\n\\t\\r\\x13\\x0c\\x0e\\x0c\\x0c\\x0e\\x0c\\x13\\x11\\x14\\x11\\x0f\\x11\\x14\\x11\\x1e\\x18\\x15\\x15\\x18\\x1e#\\x1d\\x1c\\x1d#*%%*525EE\\\\\\x01\\x02\\x03\\x03\\x03\\x04\\x03\\x04\\x05\\x05\\x04\\x06\\x06\\x06\\x06\\x06\\x08\\x08\\x07\\x07\\x08\\x08\\r\\t\\n\\t\\n\\t\\r\\x13\\x0c\\x0e\\x0c\\x0c\\x0e\\x0c\\x13\\x11\\x14\\x11\\x0f\\x11\\x14\\x11\\x1e\\x18\\x15\\x15\\x18\\x1e#\\x1d\\x1c\\x1d#*%%*525EE\\\\\\xff\\xc0\\x00\\x11\\x08\\x01,\\x01,\\x03\\x01\"\\x00\\x02\\x11\\x01\\x03\\x11\\x01\\xff\\xc4\\x00\\xa8\\x00\\x00\\x02\\x02\\x03\\x01\\x01\\x01\\x01\\x00\\x00\\x00\\x00\\x00\\x00\\x00\\x00\\x06\\x07\\x05\\x08\\x03\\x04\\t\\x02\\x01\\x00\\n\\x10\\x00\\x02\\x01\\x04\\x00\\x04\\x04\\x05\\x02\\x05\\x02\\x04\\x05\\x05\\x00\\x00\\x01\\x02\\x03\\x00\\x04\\x05\\x11\\x06\\x12!1\\x07\\x13AQ\\x14\"2aq\\x81\\x91\\x15#BR\\xa13r\\x08\\x16\\xb1\\xc1\\x17$b\\x82\\xb24C\\x92\\xd1\\xe1\\x01\\x00\\x02\\x03\\x01\\x01\\x01\\x01\\x00\\x00\\x00\\x00\\x00\\x00\\x00\\x00\\x00\\x05\\x06\\x03\\x04\\x07\\x02\\x01\\x00\\x08\\x11\\x00\\x02\\x02\\x02\\x01\\x03\\x03\\x02\\x03\\x07\\x04\\x02\\x03\\x01\\x00\\x00\\x01\\x02\\x00\\x03\\x04\\x11\\x12\\x05!1\\x13AQ\"a\\x06q\\x81\\x14#2BR\\xa1\\xb1\\x15r\\x91\\xc13\\x92\\x07CbS\\xff\\xda\\x00\\x0c\\x03\\x01\\x00\\x02\\x11\\x03\\x11\\x00?\\x00\\xe3\\xc2\\r\\x9a\\xce+\\x12\\xd6mt\\xa5\\xe3\\x00\\x99\\t\\x91\\x93Q\\xf2\\x8e\\xecuV\\x9f\\xc1>\\x13|\\xb7\\x15\\xe3 \\xe4\\xda\\xc4D\\x8fUj\\x08M\\xdeV4\\xf4^\\xa6\\xbb-\\xff\\x00\\x0c\\x1c(\"\\xb5\\xba\\xca\\xc9\\x1fW\\xe8\\x94W\\x12\\xafS&\\x8a\\xfd\\x87\\xd6\\xdf\\xa4\\x93:\\xe3\\x8d\\xd1\\xef\\x7f\\x0c\\xff\\x00\\xbb_\\xd6t&\\x1bt\\x8a4\\x8dF\\x95\\x14(\\xfd*A\\x12\\xb2*V\\xe2\\xa5h\\xc5\\xa6&\\x12cT\\xad\\xa0\\x95\\x91V\\xb6\\x02\\xd7\\x05\\xa4\\xa1& \\xb5\\x93\\x96\\xb3\\x05\\xafz\\xae9Ix\\xcd2\\x95\\x17{\"\\xc1m,\\x87\\xd0T\\xebh\\nF\\xf8\\x89\\x9d\\x8a\\xc7\\x117\\xce\\x01\\xe5&\\xbd.\\x00$\\xcf==\\x90\\x07\\xbc\\xe6\\'\\x8d\\xbcF\\xd7\\x99_\\x86W\\xd8\\x04\\x93U4\\x9eT&\\x8as\\xf9\\x06\\xc8e\\xee\\xae\\t\\xdf3\\x9d~(Buy\\x1a8Pm\\x9d\\x82\\x8f\\xd6\\xb3\\xeb\\xee6\\xdc\\xed\\xf2f\\x95\\x8bPJj\\xac|w\\x96\\xa7\\xc0\\xbe\\x1ak\\xec\\xab]\\xbalsi\\x7f\\x02\\xbb\\x1dgj!\\xb6\\x8d\\x00\\xec*\\xa9\\xf8!\\xc2ka\\x88\\x81\\x8ak\\xe5\\x15s\\n\\x81N\\xd8U\\xfaX\\xe8=\\xcfs\\x11z\\x9d\\xde\\xbec\\xb7\\xb2\\xf6Y\\x16c\\xaf&:\\x90\\xe6J\\xf4\\xe0\\x05\\xab\\xfc\\xa0\\x8fN-s\\xd3\\x8b[\\t\\xdc\\xf4\\xf9Mr7/\\x96|\\x8f\\x13]\\xb0;\\xf9\\xf9\\x12\\xba\\'\\xe2\\xef\\x10%\\x86\\x12p\\x1b\\xa9R\\x05s\\x9b\\x811\\xad\\x90\\xe2H\\x81\\x1b\\n\\xdc\\xcciO\\xabZl\\xb2\\xbaD\\xd3\\x7f\\rP(\\xa6\\xdc\\x86\\x96>\\xeb\\x1e-\\xb8~(\\xc0\\xf9\\xb9\\x015Y\\xe6\\x86Q\\x90\\xd0\\xf5\\xab\\x81\\x9f\\x91\\x0f:\\x8e\\xc0U~[E\\x92\\xf0\\x1dv5\\xf1Q\\xae\\x03\\xda\\x1f\\xa1\\xdb\\x89\\xb1\\xbd\\xe1V\\x1a\\xc5\\x84\\x01\\x8f\\xa5\\x1cY\\xc8\\x16d\\xd9\\x03\\xaa\\xf7\\x1b\\x07f\\xbe\\xe3a\\x1c\\x9c\\xba\\xf4\\xad\\x1b\\xb8\\x9a?+`\\xe9\\x82\\xf5\\x1e\\xa0\\xff\\x00\\xfa\\xaf\\xae\\x1a\\xc7a\\xf2\\xa6E\\x8e\\xe5\\xf3P\\xfcX\\xbf\\xdc\\xc7\\xce\"\\xd5\\x9a\\xe6m\\x82>}\\x80is\\xe2\\xc2\\xc7\\x8d\\xbe\\xc3dN.;\\xd5\\x87\\x13l$\\x82D\\x12\\x07O\\x8a\\x93|\\xa3c\\xe6\\x06\\x9a\\xb87\\x923\\xa9\\x19K\\x1dh\\x81\\xe9A\\xbe+\\xf0\\xed\\x95\\xdf\\x08e\\xb2R\\xc6\\xf2K\\x140Al\\xc5\\xfeH\\xb9\\xe5\\xdb\\xe9}7\\xbe\\xf5\\xc6^\\xbf\\xd2\\xf1,\\xe4\\x00B\\x84\\x9f\\xccq\\xff\\x00\\xb9G\\xa6l~%\\xcf\\xa4\\xa1&\\xd5\\xb1@\\xfb\\x86\\x0f\\xfe\\x04\\x18\\xe3\\x88-\\xee2\\x99\\tb\\x8e4\\tm\\x8a2\"\\x00\\x02\\x99\\xad\\x14\\xb0 U\\x07fl/\\x16\\xc7\\'e\\x12\\xf5\\xff\\x00kt5~<>\\xe1D\\x8f\\xc3\\x90\\xf2H\\xf3]d#\\x13\\xce\\xed\\xee\\x17\\x95T}\\x94U5\\xf1\\x07\\x1a\\xc1\\xe3\\x9f]A(\\xd5\\x01\\xc74\\xe0\\xe3h\\xf8PA\\x96\\xff\\x00lL\\x9e\\xab\\x9a=\\x8b\\xf0;\\xff\\x00\\xf25.\\x9f\\x0c\\xdc\\x07\\x89\\xe3\\xdf\\xd2C\\xa54g\\xb6IF\\xf5\\xd1\\x85Uo\\x0e\\xf3\\x1f\\x11aa)n\\xa0yR~V\\xad\\xd5\\xa1\\xe6\\x88\\x8f\\xed4\\xcf\\x8f`\\xb2\\xa1\\x10\\xf3kjo0`cU\\x14\\x9du\\x1d\\x8de1$h\\xc0\\xfa\\x8a\\x91\\xbd\\xb8X\\xd5\\xce\\xfe\\x91@\\xd3\\xde4\\xdeY\\x07\\xa1\\x1d\\xeb\\x97\\xb6\\xaa\\x8e\\x87\\x9958\\xd99\\x0b\\xc8\\x9d,Gq\\xc5\\x8cW\\x96w\\xc8\\xa3\\xb8\\xe7_\\xb3-Q\\x9b\\xb5$\\xab\\xfb\\xf4?\\x91]\\x1c\\xca\\xe3\\xf7\\x14\\xce=A5E\\xf8\\x8f\\x1b\\xf0\\xb7\\xf71\\x01\\xf2\\xb7\\xf3\\x12\\x93s\\xb7\\xeb#\\xeb[\\xecf\\x85\\xd3\\xc0Z\\x9a\\xbe[\\xd6\\x88\\x8b\\xd8\\x98\\xa4\\x8aE:\\xf0\\xd3Ksb\\xddz\\xc3\\xfeE$\\xf5L\\x9e\\x17\\x9eO8\\xa8\\xfe\\xa1\\xca\\xd4\\x172\\xa3egC\\xbck\\xe9\\x99\\x02\\xab\\xf4\\xc7Jc\\x02[P\\xfc\\x8e\\x07F\\xefL\\xacf(\\x0bQ\\xa2\\x0fSZ\\xb8\\xbcd\\x93B\\xcb\\xae\\xaaA\\x14^\\x16T\\xf9y5\\xaa\\xa5\\x87K&\\xc9\\x1f\\x945\\xd4o\\x0e\\x15U\\xbb\\x8f3\\x94\\x81H5\\xf6g\\x0b\\x13\\x13\\xe8+\\xd7R*\\x1f\"\\xe7\\x91#\\x1d\\xdc\\xea\\x89\\xa8\\xe4\\xc2f\\xda\\xdb\\x80!\\xcf\\x05b\\xe4\\xba\\x94\\xb0]\\xbc\\xd2\\x08\\xd3\\xf5\\xaf\\xe8\\xb3\\xc3\\xac\\x04xn\\x11\\xc7\\xdb*\\xe8\\x98\\xc35r\\x1f\\xc0\\x8e\\x109\\x1e%\\xc7BSi\\x00\\x0e\\xff\\x00\\x93]\\xcdD\\n\\x02\\xa8\\xd0P\\x00\\xfc\\nf\\xe8\\xe9\\xb3u\\xc7\\xf9\\x8f\\x15\\xfc\\x84\\x07\\xf8\\xaa\\xed66(\\xff\\x00\\xebNM\\xfe\\xe6\\x99\\x95kqV\\xb1\\xaa\\xd6\\xe2\\x8ah-3\\xc0\\x93\\xf0\\x15\\x98-z\\x02\\xb2\\x81\\\\\\x96\\x92\\x84\\x9e9k\\xe9\\xe8+8Z\\xd0\\xbc\\x90$f\\xb9\\xe5;\\xe3\\x052\\x99$\\x85N\\xcdsS\\xc6\\xae1&\\x19 I\\t/\\xd2\\xadg\\x1b\\xe6V8\\x9fM\\\\\\x91\\xe3\\x9c\\xc3^\\xe6\\x1dy\\xb6\\x10\\xd2\\xfe~Q\\xd1\\xad}\\xe3\\x16\\x1e\\x10\\n\\xae\\xdeO\\x88\\xbd\\x06\\x98^\\x1c\\xe1[1\\xc5P\\xedv\\x91\\x10\\x7fZWO\\'$&\\xae\\'\\x81\\xf6\\xb0[*\\xdcI\\xdd\\xdbt\\x0f\\x1c)\\xb97\\xe3q\\x8c#\\x9am*;\\xebBu\\x9f\\x87\\xad`\\xc7baN\\x83\\xe5\\x15\\x1d\\x95\\xe2(a\\x1fX\\xa4\\xceo\\x8e \\xb6\\x81@q\\xa05U+\\x88\\xbcByL\\x88\\xafL\\xb9=N\\x9a\\x97\\xb1\\xd9\\x81\\xfa\\x7f\\xe1\\xdc\\xac\\x97\\x05\\x97\\x8a\\xfb\\x99y\\xf1\\xfcYo4\\xac<\\xc1\\xde\\x8c\\xee\\xf3\\xf0$\\x1c\\xe5\\xc6\\x80\\xae[`8\\xaaX\\xe5%\\xa5&\\x98\\x17\\xdcs$\\xe8\\xca\\x1c\\xf2 ?\\xae\\xaa\\xa5]YZ\\xa0H\\xef\\n\\xe4~\\x18d\\xb8\\x85o\\xa6\\x07x\\xbd\\xc5F\\xff\\x00*-\\x91\\xf6\\x89\\xf35K\\xf8g`,\\xf1s\\xdf8\\xf9\\xa4\\xe8\\xb5Z\\xe6i2Y(\\xb6v\\xf3\\xcaw\\xf8\\xab\\xa5`\\xb1\\x0cb\\xdb\\xc2>HW\\x94\\x9f\\xbdQ\\xa9\\xcd\\x99\\ri\\xfd!w\\xa4U\\x88\\x94(\\xed\\xef!r\\x17fH\\x1d\\xf7\\xf5\\x13@\\xd8\\xb3\\xcft\\xc7\\xd0\\x9a*\\xcb\\xc3\\xb8\\x15S\\xfaV\\xa1\\xb1V\\xaf\\x1b\\x0e\\x95u\\t\\xe7;p\\xbe\\x81\\x00\\xc6\\x9d\\x82\\xf4>\\xe2\\xa2\\xb3\\x13\\xf3Z\\xc0\\xea\\x08\\xf2\\xe3]\\x7f\\xb9;\\xfe\\xf59\\x0b\\x88\\xd0\\x9fu5\\n\\x1a;\\x9bxa\\x99\\x95B\\xa7M\\xa76\\xcf\\x7fJ\\xef3\\xf8\\x01\\xfb7\\xf7\\x12\\x97L\\xd9\\xb5\\xbf\\xde\\x9f\\xd8\\xee\\x15\\xe0rW\\x0cCK\\xb0H\\x07U\\x05\\xe3_\\x18&;\\x81 \\xc7\\xf21\\x97##H:\\x90\\x04P:\\xec\\xfe\\xf5\\'io2\\x80\\xec\\xba\\xe8\\x06\\xb5\\xaa\\x88\\xe2\\xfc\\xde\\n\\xce\\xf7\\x10\\xd9HVhN,\\xc5\\xe5\\xf9a\\xf6>%\\x9d\\xf6\\rQ\\xb4\\x9f\\xf4\\xdcZ\\x98vg\\xadO\\xe9\\xdf\\xfe\\xa5\\xfcz\\xd0u\\xfc\\xcc\\x84\\xd9)]\\xac\\x07\\xce\\xf4?\\xee5<,\\xc9\\x1b\\xfe\\x15\\x8a\\x19-\\x8c\\x12Z\\xf2F\\xd1\\x92~\\x96@\\xca\\xdd}\\xc1\\xaa\\xf1\\xe2f\\x07\\x96K\\xf8\\xb9z0\\xe7J\\xb3\\xfc\\x18T\\xe7\\xb8\\x98\\x00\\xa0k\\x16@\\x1e\\x80\\xda&\\x85Cx\\x95\\x8a\\x0fm\\x15\\xc0^\\xdf+~\\r\\x13\\xc6&\\xee\\x95A+\\xa3\\xc0v\\xf8\\xf6\\x8a\\xb9\\x8a\\xb8\\xbf\\x88\\xb2\\xd1X\\x90l\\xde\\xcf\\xc9\\xfa\\xa5\\x01\\xf0\\xd3 \\xd1^]\\xd91\\xd1mH\\x9f\\x95\\xef]\\x0e\\xc5]\\xf3\\xda\\xc7\\'\\xf7(S\\xf9\\xae`H_\\x0b\\xc5\\x91K\\xd9Va\\xbf\\xf6\\xb7C]\\x15\\xe1\\x89\\xd6H\\x1e0}\\x99k\\xce\\x9fa\\x01\\x93\\xdc\\x19/W\\xa5X\\xad\\x9a\\xec\\xc0\\x19\\xab\\x99\\xb8\\x94N\\xab\\xd7[ \\xd0$\\xd98\\xa2\\x95\\xed\\xc7tR\\xc2\\x9e\\xf9LJ\\xbas\\x05\\xd8q\\xfb\\x1aM\\xcd\\xc3r\\xc98\\x97\\x97\\xdc5G\\x92\\x97\\x06$w\\xd9\\x97z}\\xf8\\x8dZ\\x86\\xed\\xa1=\\xb5\\xecRY\\xda\\xbbkn@\"\\xaa\\xc7\\x1fX\\xb0\\xb9\\x92@\\xbf\\xfd;\\x85?uj\\xb7\\x18\\x9e\\x1d\\x7f9c~\\xa8\\xac\\x18P\\xcf\\x16p\\xd8\\xb8\\xba\\xb9%~I#(\\x7f#\\xb1\\xaaY\\x14]m\\x1e=\\xc4\\xbbNN5Y\\x05Co\\xe9?\\xdc\\xceq\\xcd\\x1f$\\xac=;\\x8a!\\xc0\\xdd\\x98/=~a\\xd3\\xf3Z\\xf7\\xf6\\xcf\\x14\\x8e\\x8c4\\xd1\\xb1C\\xfaTB;F\\xe8\\xe3\\xba\\x90h*1+\\xf7\\x87t6>%\\xeb\\xe0\\xbb\\xd4\\xb8Y\\x89^\\xaa\\x84\\x1fz\\x94\\xe7\\x0c\\xccO\\xb9\\xa5G\\x00M,\\xd9\\x19\\x921\\xa1<`\\x8e\\xb4\\xea\\xfe\\x194e\\x97g\\xa1\\xaf\\x14\\xb9\\x00k\\xb0&\\x15cPvb{\\xb0^\\xdf\\x94\\xe4\\x10\\xedZx\\xb8\\r\\xe6i\\x01\\xfa#\\xeak\\xdc\\xf2\\x04\\x89\\xda\\x8d\\xb8\\x1b\\x1a\\xf3i\\xb5\\xf3\\xdcJ\\xa8\\xbf\\x82j2x\\xd4\\xed\\xee{\\x0f\\xd6\\x05\\xe9\\xd4\\x87\\xc8\\x04\\xf8^\\xe7\\xf4\\x9d\\x85\\xff\\x00\\x86\\xce\\x1b[\\\\=\\xceRU\\xd3Lt\\x95}b\\x927\\xecj\\x9e\\xe3\\xb3\\xb6\\x9c9\\xc3V\\x96!\\x95\\x0cq\\x82\\x7f$V\\xde\\x0f\\x8e\\x9e\\xeaa\\xca\\xfb\\xd9\\xe9O\\x18\\x9c*\\xa2\\xba\\xf7\\xdc,\\xcd:\\x82\\xdd\\x91\\x97}\\xe4vg$K\\x92\\xa9[!h\\x17\\x11\\x7f4\\xc0\\x13LD\\x1b\\x00\\xd5\\xf2\\xd0*\\xac\\xf2\\x16\\xb3\\x05\\xac\\x81kZ\\xe2t\\x89\\t&\\xb8\\xe5%\\xe30\\xcf2\\xc6:\\x9aVf\\xf3qF\\n\\xf3V\\x9e{\\x88#\\x88\\x1f\\x9cU\\\\\\xceg\\xd5\\xd9\\xd8K\\xefTr2Ek\\x0b\\xe1`\\xb5\\xee;v\\x8b\\xbf\\x12\\xf8\\x8e(\\xa0\\x9b\\xe7\\xf4:\\xaelK3Mp\\xf2\\x1e\\xec\\xc4\\xd3\\xcb\\xc4,\\xe1\\xb9\\x98\\xa0o]R\\x13|\\xa8M)\\x1761h~\\xed#q\\x1e\\xc3SB\\xe9\\xf9\\xa4U\\xfb\\xd5\\x99\\xe1\\\\\\xc7\\xf0\\xfb\\x05\\x02MUd\\xb5\\x8c\\xc9p(\\xeei\\xcaF\\x80\\x1a\\x1bm\\xa4>\\x87\\xb4\\xd1:V\\x1a\\xae(,;\\xb4rgx\\xc2K\\x91\\xca\\x1a\\x95\\x12_\\xbc\\xb3\\x0e\\xa7d\\xd0\\xa4\\x97\\x0c}kw\\x1b\\xb6\\x98\\x93\\xe9UvY\\xb6c\\x18P\\xa9\\xa5\\x11\\x8fj\\xaf\\xbd\\xd1\\x94\\xa2D\\xb5\\x00}L9\\x7fz\\x87\\xc6\"\\xbc\\x8a)\\x80-|\\xc9@\\xfe\\xc1\\xfeMZ\\x07\\xc0\\x82\\xf2Oh\\x11\\x8d\\xb4t\\xb9\\xf3TuN\\x8bVs\\x07y\\x12Y\\xa5\\xb2\\x9d\\xb6\\xb6\\xe6\\x97q\\xe3\\xd6\\x18\\x17\\xa7\\xdc\\xd0\\xac<@\\xb6\\xb96\\x8c\\x1f\\xab\\xa1\\xa2\\xb4\\xdb\\xc4\\xc0\\xd6\\xe3s\\xa8\\xfc\\xcb5\\x1e8Mn\\xec:\\xec\\xd4\\xbd\\x9e\\x08\\xeb|\\xb5\\t\\x89\\xce\\xdb\\xc9\\xf0v\\xd1\\xb8\\'\\\\\\xcf\\xf6\\xa7]\\x85\\xdd\\xb4\\x89\\xa4a\\xb2i\\x8e\\xa2\\x8d\\x11\\xf2\\x8d\\xf5\\xef\\xb1\\x8a[\\xdbW\\x8b\\xa6\\xbd*\\x03\\x1d\\x10\\x9a\\xfa\\x08\\x99\\xca\\xb2E\\xb1\\xa2\\x01\\xe6\\xfc\\x9aw\\xe4\\xac<\\xd0\\xff\\x00/]R\"\\xf9\\xa1\\xb7\\x9c4\\x89\\xad\\x94\\x0c5\\xd8\\xef\\xa1\\xaa\\xb9\\xfb\\x15\\xac%\\xd0\\xd9]\\xec\\xd9\\x1d\\x802\\xc0\\xad\\xa9\\xb8\\x88\\x92\\xba*\\xa0~u\\xebJ\\xfe(\\xe1+l\\x9e\\'\\xc8*\\xa9=\\xe6F\\xd2\\xccN\\xddD)6\\xc6\\xc7\\xe4\\x9am\\xe0\\xaf\\x16X\\x8a\\xff\\x00j\\x8aM\\xf8\\xc1r\\xd8\\xce\\x1a\\xc5\\xe4-\\xe5qy\\xfcX\\x8bd\\t\\xb5o\">r\\xccO\\xb1=+\\xcc\\xd1\\xae\\x9e\\x02\\xf6m\\xa8_\\xcfr\\xbfIfn\\xbaywR\\x1c\\xb7\\xe5\\xc7p\\xcb\\xc1\\x9clV<.\\xc9\\xcc^f\\xbb\\x98O);.\\xf1\\x9eO\\xd8\\x01\\xa1O\\x0c\\xfe=oqW\\x11\\x11\\xddI\\x14\\x9f\\xf0\\xe2\\xd2|e\\xa5\\xc6>Y\\xd6W\\x8aH\\xe6\\xe7\\x1e\\xa2\\xea17_\\xb8\\xddX\\xf5@\\xc9Ep\\x9d[\\x0e\\x9e\\xe0\\xed\\x07x\\xaf\\xd6Q\\xeb\\xea\\xf9GD\\x11i \\x1f\\x83\\xdcN;x\\x89\\x89ee\\x97\\x97D\\x12\\x8dO\\x9f\\x0cs_\\x13\\x8c\\xb1\\x91\\x8f\\xcc\\x83\\xca\\x93\\xf2\\xb59\\xe2\\x87\\x0f\\xeak\\xc8\\xc2\\xf4p]j\\xbaxe~\\xd6\\xb9{\\xbb\\':\\x12jD\\x1fq\\xde\\x84\\xef\\xd2\\xcb\\xfc\\xfbF3\\xac\\x8c\\x0f\\xf6\\xf7\\x9dA\\xb6E\\x9a\\xdb\\x94\\x8d\\xea\\xb1\\xad\\x8a!s\\xcb\\xf5w\\xad<\\x05\\xca\\xc9\\x0cd\\x9f\\xa9th\\xc4\\xf2\\xd3\\x1e\\xc1\\xd1\\x88\\xc4:\\x92 \\xaaX$gz\\xa1\\xfc\\xe6<Mj\\xfa_O\\xf2)\\x8ePV\\x9c\\xd0s\\xc4\\xcb^\\x9dq\"x\\x1d\\xb9\\x83\\xb9\\xc9\\x1f\\x10q\\x06\\xd30\\xd2\\x05\\xd2\\\\.\\xff\\x00\\xf7\\nG\\x95\\xae\\x82x\\xa9\\xc3\\xc6\\\\|\\xce\\x89\\xf3B|\\xc5\\xaa\\x15p\\x9a}\\xfa\\x1aA\\xbd=<\\x97_c\\xdcMW\\n\\xdfW\\x19\\x0e\\xfcv1\\x9f\\xc0\\x99\\x96\\xb4\\xc8\\xdb\\x8e\\x9f#\\xeb\\x7ff\\xab\\xc5us\\x11\\x907A\\xcc\\xa0\\xd75\\xf1\\x93\\x18o\\xe1m\\xe8\\x16\\x02\\xba\\r\\x89\\x10\\xddXD\\xf2\\x1d\\xb6\\xb4\\x7fJ\\xf9\\x03\\x9e@B<\\xebR\\xa5\\xbe\\x08\\x9cR\\xbfb\\xfe\\\\K\\xdd\\x8d[\\x0f\\x0f-a\\x87/\\x8eW\\x1f$#\\x9d\\xaa\\xad\\xe2\\xe3\\x17\\x19~c\\xd5c\\xebN\\xb83\\x92Y\\ty\\x08\\x05\\xc6\\xb7\\xebUm?\\xbc\\xa9~>\\xa3/`\\xd5\\xc7\\x0e\\xd6\\xf7~\\xc2Z\\x9e!\\xcc\\xdc\\xe62B4\\x90\\xf2)\\xabi\\xe1\\xef\\x0bJm\\xa3mW3\\xb8?>\\x83%\\xfc\\xe96\\x19\\xbb\\x9a\\xeaO\\x0c\\xf1m\\x95\\xb5\\x84!&\\x07\\xb51b8bY\\xbc\\xc4\\xce\\xadS\\xaa*\"\\xf6\\x97+\\x11daH\\xd4\\xd3\\rR\\xab\\x9e;\\x8c \\x99\\xa2\\x01\\xfa\\x9auG\\x94\\x88\\xa2\\x92\\xe3\\xa8\\xa3|\\xf7\\x11\\xc5e|\\x891s2\\xc4\\x84\\xd5q\\xe2\\xfe.\\x8e\\xd6\\x19>mj\\x98\\xb9\\xdc\\xcc1\\xc6\\xc05Q>;\\xbb\\xf8\\x97\\x90\\x16\\xef\\xbd\\x01T\\xf2/(\\x87^al\\x1c?Z\\xe0\\x0f\\x88\\x0b\\x9c\\xe3\\xb4\\xb8\\x95\\x90MK\\xab\\xdc\\xd0kv\\xf9\\xe99~\\x85.ORvuZY\\x0b\\x9f\"\\xcd\\xfem\\xe8R\\x95\\xd6Ya\\x1b\\x8f\\xee\\x94\\xe2\\xe3\\xb7\\x1f\\xd2\\x00\\xe6n\\xfe&\\xfd\\xce\\xfa\\x03\\xa1C7-\\xa5\\x0b[)\\xb2I?\\x93Z\\xf0\\xc0\\xd7W<\\xbe\\x95\\'\\xf0\\xa4T\\xc5\\xa8\\xdd\\x94\\x83\\xef\\xb31Z\\xb9\\x8dK{\\xd6cw\\xccM\\x1e]b\\x12\\x1bU\\xf9;\\x8dP\\x03\\xc2\\x10\\xf4\\x1d\\xe8cTA\\xd9\\x9a\\xd5v\\xaf\\x10\\xa3\\xdak\\xc9=J\\xd8]\\x84`(R\\xe3\\x985z\\xb7\\x0c\\xf3\\xc6\\xa3\\xde\\xbe\\x08$\\xbc\\xce\\xa5\\xa8\\xe1\\x94\\xf3\\x07\\x98i\\xafb\\x9a\\xdb\\x1e\\xecw@\\x1c<\\x8a\\x96+\\xd3\\xb8\\xa6$R*\\xadO^\\x8bA\\x16\\xec\\xbc\\xd8\\xbf\\xbaU\\xb6\\x97g\\xb2\\x9a\\xaa7\\x17n\\xd7N\\xfb\\xea[t\\xe7\\xcf\\xde\\x7f!\\xd5OzAK\\xca\\xb2\\x12h\\x92\\xa0\\xe3#-\\xad\\x08\\xdf\\xc1g\\xe5\\xb4\\x89\\xd8\\x1f\\x99\\xfal\\xfa\\nr\\xf0\\xef\\x182_@\\x86S\\xf3\\x10\\x05S\\x86\\xbc\\x00\\xe8\\x1a\\xf5\\x8c\\xca\\xc8\\xb9\\x98\\x187DaR\\xd4\\xc5XJy5%\\x95\\xb6\\xc7r\\'i\\xd6\\xee\\x19\\x16\\xdd\\xfai\\x90\\x03H.&\\xb2\\xdd\\xf4\\xeaF\\xc3(\\x07\\xfe\\xaaj\\x03\\x19\\xc5^v9\\x14>\\xd8\\x01\\xaa`\\xdc\\xa4\\x97QYL\\xff\\x00_\\x96\\xbc\\xdfq\\xba\\xb7\\xd4.\\x1c*\\xff\\x00t\\x01\\xd0\\xf1\\x1d.\\xbc\\x1f\\xff\\x00\\x9f\\xfd\\xcc\\x9c5\\x94\\xfeb\\xc6\\xdd\\xf4+S\\xc5\\xaf\\x80^\\x18\\xc3\\xcb}s\\xff\\x00\\x95\\x13\\xdf\\x04@\\x85\\x8aM\\xfc\\xa2\\x1b\\xa7\\xba\\xecT\\x1aF\\xd6\\xf7;\\x1d;\\x91\\xfb\\xd6N>\\xb2\\x8b5\\xc3\\xd8{\\r\\xb4R]d\\xd9|\\xf1\\xe9\\xcb\\x10 W\\x19\\x07\\x9e:\\xa9\\xdf\\xf1\\xa9\\xed-\\xe1\\xd4*\\xea>\\xaa\\xe8~\\xea\\xc0I\\xf6\\xed\\x1dX\\x99\\xe0\\x97\\x8bx\\x94B\\x08Xe\\xb1\\x80\\x8dkM\\x1d\\xaa\\x02\\xbf\\x91O\\xa8\\x06\\xe3\\x15P<\\x1d\\xb6hm\\xb3v\\xe6\\xe2K\\x83\\x0e^\\xe1L\\xd2\\x1d\\xbc\\x87\\xfb\\x98\\xfa\\x93W&\\x15\\x0b\\x18\\xdd\\x10\\xe9\\xc4.\\x15 \\x1e\\xdcb\\x9f_Vn\\xad\\x95\\xbf<\\x87\\xf6\\x02!\\xfcH\\xc4\\x89\\xac\\xa3\\xb8\\x0b\\xd5:7\\xe2\\xb9\\x83\\x92\\x0f\\x85\\xe2\\x8b{\\xa5\\xe8\\xa90\\'\\xfd\\xad\\xd0\\xd7e\\xb3P\\xc5u\\x8f\\xb8\\x84\\xeb\\xaa\\x1a\\xe5W\\x1f\\xe3\\xa2\\x93\\x9b_R\\x92\\xadU\\xf3\\xfd\\x98\\x1e\\xf2\\xdfI\\xe5\\xc1\\x94\\x8e\\xd2\\xd9`3\\xd1\\xa4c\\xe7\\xf9X\\x06Zv\\xc7\\x91\\x85\\xa3M\\xb7}\\x1a\\xe6\\x8f\\x0bq\\x1c\\xbf\\xc2\\xe1Wo\\x9a\\x13\\xc8\\xdf\\xa5Y\\\\\\x17\\x13\\xc1q\\n\\xa3\\xbe\\x99F\\x85\\x0fN\\xa69\\xf1&1[\\xf8\\x7f\\x95\\x02\\xc5\\x12\\xde\\xa4\\xa8\\xcc\\xbd{\\x8a\\xceytj\\xbdZ\\xf1?$\\xaa\\x0bv\\xa3\\xa9\\xb8\\x96\\xd8!!\\xc1$Q\\xe4\\xccB\\xbb\\xdcL\\xbb\\xa4\\xde\\x96\\x05\\nN\\xe4/\\x16\\xdaG5\\xb4\\x9b\\x1b\\x04\\x10\\x7f\\x06\\xb9U\\x9d\\xb16\\xb7\\xb70\\xeb\\xfd9\\x0e\\xbf\\x06\\xba\\x83\\x94\\xcb\\xc761\\xdfc\\xa6\\xff\\x00c\\\\\\xff\\x00\\xe3\\x88P\\xdf\\xac\\xeb\\xdaA\\xa3K]B\\xe4g\\xad\\x87\\x98\\xdd\\xd31-\\xaa\\xab6;Da\\xd8 \\x8e\\xe3\\xa8\\xab\\x81\\xc3\\xb9\\xb6\\x9b\\x13n\\xeaGQ\\xa6\\xfc\\x8a\\xa8\\x8e\\xbab*z\\xc33si\\x01\\x8d\\x18\\xeb\\x98\\x9a\\xe2\\xab8\\x99j\\xea\\xcb\\x01+\\x7f\\x0f[\\x95\\xb6g\\xf5\\x90\\xd4\\x8d\\xf5\\xac\\xfeg\\xca\\xa4\\xee\\x880v\\x9c\\xec\\x10v\\x8dE8mq\\xb0\\xb4\\xd1\\x0e\\x95Y>\\xa7w>\\xe61\\xdaxW]k\\xfc\\xa2\\x06\\xf0\\xaf\\r\\xdc;\\xab7}\\xf6\\xab\\x02\\xaf\\x92\\xb4\\x8b\\xcb\\x07\\x97\\x94t\\xa9\\x1b;k[K\\x9f\\x98\\x80\\xba\\xefSX\\xf8\\xa3\\xbf\\xbf\\xea\\xdb@h\\x82\\x11\\x01Z=\\xcc=\\xe1,\\xbeKBW%\\x88\\xf4\\xab\\x0b\\x1f\\x17\\xdd:\\x82\\xecUT{\\xf74#g\\x84\\x85mW\\x90k\\xd4\\x81P\\xd7\\xb6\\xb2K*\\xc5\\x17E\\xa2j\\xcc\\xa2-YMV?\\x81%\\xb2\\xbc{\\x1f6\\x9d\\xf7\\xedK,\\xa6R;\\xa8\\xcbo\\xa9\\x15\\x8f/\\x86h\\xbeV\\x1dI\\xe9P\\x03\\x1f\\xcd\\x1b#\\x1e\\xc2\\xaa\\\\\\xecGxK\\x16\\x9a\\xd3\\\\b\\xb3\\'\\x04Q\\xab\\x15\\xd3(\\xeaO\\xde\\x91\\xb9\\x8b\\xa6\\x90\\xa2{\\x9d\\x9a~q\\x1c\\xb0Aj#F\\x04\\x9e\\xf5X\\xe6\\x97\\xcd\\xb9w\\xf4\\xdfO\\xc0\\xa1c\\xbb\\xca\\xddB\\xdeL\\x17\\xe2c\\x95\\xb9\"\\xfc\\xd1\\xdf\\x08\\xdaF\\xd2s?\\xad.\\'b\\xee\\x14S\\xaf\\r\\x046\\xb8\\xe6\\x99\\x9b\\xa8\\x1b\\xd5qkk@B\\x1d\\x13\\x1b\\xb3\\xd8\\xdf\\xa4\\x93\\xcf^\\xda$\\x1aR\\t\\x1d5H\\xab\\x8b\\xb4\\xea}w[\\xf9[\\xf3r\\xe4/m\\x93\\xba\\x16`J\\xd7\\x0c\\xc4\\x88\\xd6\\x88\\x14\\x99\\xa5q/1\\xa2\\xce\\x1d\\xb4i\\xae\\x0b\\x91\\xd0P{F\\xee\\xd4\\xf5\\xe1\\xbb4\\x86\\x05$zl\\xd4-\\xd9w&,\\x06\\xe3[\\x1c\\xe28\\x95=\\xaa\\x7f\\xe2H\\xa0\\xcby9\\xe5$z\\xf4\\xa2\\xef\\x86b\\x015\\xf5L\\x17\\xcc\\x81\\x10\\xb0&\\x02\\xe4\\xcb;\\x9aLe\\xae\\x04r\\x90zj\\x9eYH\\x8a)49a\\xe1\\xcd\\xf6FF\\xbc\\xc9Jl\\xed\\xbb\\x84\\xd6\\xe6q\\xf8\\xfe\\x9a\\x9b#\\xa8b\\xe3U\\xca\\xc7\\n\\x0f\\x8f\\x93\\x0bt\\xce\\x85\\xd4\\xfa\\x96O\\xa5\\x8dCX\\xc3\\xbb\\x1f\\x01G\\xcb\\x13\\xd8J\\xed5\\xeb1<\\xbe\\xb5\\xbf\\x8e\\x8e\\xe5%G(\\xda\\xdf\\xb5YI-\\xfe\\x02A\\x0e\\x03\\x87\\x16^^\\x8f<\\xab\\xce\\xcd\\xf7\\xe6n\\xd5\\xadu\\xc4\\xbcU\\x1a\\x95\\x9f\\x86\\x94\\x804y$\\xd1\\xa5\\xcf\\xf5\\xd7f\\x1e\\x9d+\\xa3\\xfdV*\\xb7\\xfcMI\\x7f\\xf8\\xe8%g\\xf6\\x9c\\xf2\\xad\\xee+\\xc7{\\x17\\xff\\x00n\\xd3\\xee\\x0b2\\xf6\\xed\\x18<\\xc4WC8g\\x9e\\xeb\\x10\\xac\\xeb\\xd4\\xc0B\\x126\\t\\x15\\xceK>/\\xc5\\xbb\\x84\\xb8\\x8a\\xe6\\xc9\\x98\\xe8\\xf9\\x88$A\\xfa\\x8a\\xb1\\x18\\x8f\\x10\\xf8\\x92\\xca\\xc8\\x0b9,\\xef\\xed\\x91u\\xd0i\\x90~WDU\\xa7\\xea\\xc5\\xf8-\\x95\\x1a\\xf4\\xc0\\xec\\xf8\\xfd\\x0c\\\\\\xbb\\xf0E\\xb4\\x9b_\\x17*\\xbc\\x8d\\xa1\\x05G\\xd2\\xe3\\xf3S\\xdeY+\\xbc~\\xcf1\\x1a\\xe9IO\\x10q\\xd9!m\\x8c\\xb8\\xb4g2#\\xc8\\x9c\\x89\\xf5k\\x97\\x98\\xb0\\xfc\\x01D\\x16\\x1e.\\xe0/\\x91c\\xbe\\xb5\\x92\\xcaU\\xe9\\xcf\\xf5\\xc6\\x7fn\\xa2\\xa3x\\xe3\\x88\\xa1\\x8e\\xdb\\x1d=\\x8d\\xec.Y\\xa4\\x03\\x91\\x83\\x02\\x1dJ\\x13\\xfb\\x1aik\\x85\\x98\\xff\\x00\\xbb \\x91\\xaf\\xf32\\x9a\\xf0\\xf21\\xf3\\x82\\xdf[(<\\xbf#\\xf4\\xcb\\x15\\xe1\\x9e\\x191\\x9f\\xc7m\\x84\\xaf!\\x8f+2\\x97\\x7f\\xa8\\xe8\\x0e\\xad\\xf7\\xa7.o*\\xb6\\xb0l\\x1e\\xd5S<9\\xe3+\\'\\xbd\\xe2(\\xb4\\xb1I%\\xf3N\\xa9\\xe6\\x17\\xda\\x90\\x14\\xe9\\x9a\\x898\\x9f>\\xf2!Pk\\x9b3\\xd6\\x8c%\\xf6:\\x95j\\xe8\\x96fu\\x9bv\\t^^O\\xb8\\x86G\\x8b\\xe0f<\\xce=\\xaa\\x8fx\\x8a\\xfeNY\\xa4V\\xdcs\\x1d\\xd4\\x8eF\\xf2S!!\\xc8\\xa5\\xef\\x10<\\xd7\\x16\\xaaY\\x8br\\xd2\\x9a\\xf5\\x96\\xb8\\x85#\\xdf\\xb1\\x9a%\\x9f\\x86i\\xc5Ft=\\x8a\\xf7\\x11O\\x8e\\xbf\\xf22\\x13\\xa0?,\\x87t\\xcb\\xb1\\xc9\\xb4lB\\xbe\\x8d#\\xaeT\\xc770\\xf459\\x15\\xcbt`j{k\\xe4C|\\x89C\\x12\\xd3Z\\x9a\\xcf\\xb1\\x8f\\x8b~+\\x95e\\xdc\\x87}*v>,f\\x1b\\x0cH\\xaa\\xe9\\xe7\\x96p7S\\xb6\\xaa\\xc8\\xfd\\xfa\\x1a\\xe8\\xdbb\\xa6\\x81\\x92\\xfa\\x14\\xbd\\x9b+,@\\xe2\\x86x\\xde\"z0\\xa5np\\x19\\xad\\xca\\xf7+^\\xe3\\x8c\\x9d{\\xd7\\xb9\\x97\\xe5\\xeb\\xebC\\xbdk\\x19\\x81&_\\xb3\\x16\\xa1K\\x80\\x07x\\x94\\xbaM\\x10j6\\x8aoa<\\xd2\\rP\\xc50\\xd2\\xfbI\\x9eX\\x85\\\\\\x89\\x0b\\x83\\x84\\xc5l\\xce}{\\xd36\\xde\\xf2\\x1f\\'\\x9d\\x13L\\xa7[\\xa5m\\x9d\\xfc~XRB\\xfb\\n\\xcc.I\\xdcq\\xb9$\\x9d\\x92+\\x83o}\\x08{\\xd2\\xdfs\\'r\\x99\\x0b\\xa9_^q={Sg\\x81nY\\xee\\x91$\\x90\\xabzRr\\x1b\\tbev\\xeb\\xb3\\xd6\\x8b\\xecn%\\xb4\\xbcGMh\\x1d\\xecU\\xea\\x91\\xc7}A\\x97\\x9a\\xc8 N\\x9b\\xe1n\\x94\\xc0\\x91\\xe8\\x13\\xad\\x13E\\xd1p\\xea\\x93\\xe6\\xaa\\x96&\\xab\\xb7\\x05\\xf1\\x1d\\x84\\xc43\\xc865\\xd2\\xae\\xbe\\x13+j\\xf1\\x02\\n\\x91\\xaa*\\x8f\\xb8\\x9d}e\\x1b\\xb4\\xad\\xf9\\xde\\x1e\\xbb^vq\\xd0\\xf5\\x15W\\xb32^\\xc1p\\xca\\xa7\\xe5\\x04\\xf3k\\xda\\xba\\x1b\\xc4\\xf2\\x89\\xe3`\\xbd\\x05T.%\\xb2\\x82\\x1bi\\x89\\xd71\\x1d*\\x9eF\\xf5\\xda\\x10\\xc4\\xb3\\x8a12\\x96q=\\xf6\\xa2a\\xbf\\x99\\xba\\nRl*\\x13S\\xd9\\xb9\\xfc\\xdb\\xe7Pv\\x10\\x9f\\xde\\x85n_I\\xaa\\xab_e\\x80\\\\\\x9bm\\'\\xfa\\x8c\\xda\\xc5D\\xf77\\xbc\\xa0o\\xad7\\xf2\\x0cm\\xac\\xc2?\\xedC\\x9c)\\x8f\\xea$\\xf5\\xa2\\x8c\\xad\\xb8grO\\xe2\\xaa\\xbd\\xa0\\x134l\\\\b\\x94\"\\x8e\\xdd\\xbb\\xc4\\xeb\\xa6\\x90\\xd6\\x92/\\x98B\\x8e\\xf4Cr\\xaa\\x8a\\xf5\\x8f\\x13\\x06\\xc1r:\\xb1\\xaf\\x95\\x83\\th\\xa1S2\\xdb\\xe3\\xf7*\\rSz(\\x846\\xc0z\\xb0\\xad<F<\\xcb\\'6\\xaave\\xe6w>\\x80\\xf2\\xaf\\xe9_\\x13\\xb2\\x07\\xc4\\xaboo\\xd6e\\xc7id\\x04\\xf6\\x14\\x7fo4\\xd7\\xb7)\\x041\\x12H\\xfd\\x07\\xdc\\xd4~\\x13\\x11-\\xd4\\xab\\x1a&\\xd9\\xbf`=I\\xa7\\x146v\\xd8\\xf8LP\\x8e\\xa7\\xebs\\xdd\\x8d\\n\\xce\\xcb\\xae\\x91\\xf2\\xfa\\xed\\x1f?\\x0f\\xf4K\\xf3Xl\\xf1\\xa4\\x1f\\xa8\\xfb\\x9f\\xb0\\x9ai\\x8c\\xc7c\\xa3\\x12\\xb9\\x13\\\\\\xff\\x00K\\x9e\\xaa\\x87\\xff\\x00H\\xff\\x00\\xbd~\\xe7\\x8aU\\xe7\\x93\\xab\\x1e\\xbdj*\\xe9\\xdaYUw\\xdbf\\xbd\\x19\\x91};\\xecVY\\x95m\\x97ZY\\x9c\\xb1\\x9f\\xaf:.\\x1e6\\x16\\x12UUJ\\x8b\\xe4\\x81\\xee~O\\xc9\\x9a\\xb7\\x99\\x85\\x84:\\x83\\xcb\\xf6\\x1d:\\xd2\\x9b)\\x9d\\x8aFw\\x1a\\xd3k\\xa5jq\\x1d\\xd8\\n\\xdf6\\xba\\xd2.\\xe2\\xef\\xe7#d\\x8d\\xd1|,\\x15q\\xcaT\\xea]S\\xd2:0\\x86\\xee\\xe1g\\x95{T\\xed\\x8a\\x88eI\\xe0v\\x86a\\xd9\\xd7\\xd7\\xecG\\xa8\\xa5\\x8aNL\\x80\\xf5\\xa3\\x0b[\\x86#\\xbd8UHU\\xe31\\xce\\xa9\\x98m~z\\xf0v\\x0f\\xb8?\"2\\xe6\\xcaX\\xdc\\xa0K\\xe4\\x10\\xceF\\x92D]#\\xfeG\\xa1\\xaf\\xb9|\\x95\\x95\\xd5\\x9e\\x0e\\xca\\xd2\\xd8\\xc7\\xf0\\x96\\xc5e;\\xd9\\x9ey\\x1c\\xb3I\\xd3\\xed\\xa0\\x05\\x05\\xde\\'\\x9dju\\xf5/QVO\\xc1\\xde\\x17\\xc7\\xe4[\\x03uujy\\xa4\\xe2h\\xd3\\xce\\xf4\\x10\\xda[\\xb4\\xf2\\xad\\x13\\xa6\\xb4\\xc7B\\xea[[\\xd7\\x1d\\xf6\\x1b\\x99\\xa7S\\xca\\xb7*\\xc1]\\x8a\\x85\\x94r\\x16k\\xb9\\x03\\xe7\\xe4\\xc5\\x8e\\x12\\xf9\\xf1\\xb9[K\\xb6\\x1eZ\\x95\\xe4mz\\x86\\xf54\\xf9\\xbb\\xcb\\x19\\xf5\\xd7c\\xde\\xaa\\x94\\x97q\\xc9\\x91\\xba\\x91\\x9b\\xf9W2\\xc8u\\xec\\x0bt?\\xa5:\\xacy\\xa3\\xb6\\x817\\xbeT\\x02\\xa2\\xea\\x8a\\x1e\\x94#\\xdeV\\xe8\\xacS\"\\xc0\\xc0lx\"l\\xdf\\x06\\x00\\x91P\\xb2*\\xc9\\x13/\\xda\\xa4\\xa7vg\\xd1\\xa8\\xbe\\x91\\xb5%qd\";\\xda\\xea\\xe1\\xbe\"&\\xfe\\x12$\\x95ME[\\xb6\\xd0\\x0fj9\\xcfD\\x16\\xe0\\xb0\\xec\\xd4\\xbdS\\xc91\\x1e\\x86\\x9eh~u\\x032\\x8c\\x94\\xf4\\xf2H\\xfb\\xea\\x12[\\x9d\\xfe\\x94]nC2R\\xfe)J=\\x12\\xdb\\xcaY\\xc5|\\xe3\\xb4\\xb9Sw\\x11\\xb3l\\x0b2\\xeb\\xd2\\xa4d\\x88\\xcayj\\x07\\x176\\xd9I\\xfcQ\\xc4q\\xff\\x005X~\\xb41\\x87\\x18]v\\xfd\\xa2\\x87-m\\xc9&\\xfd\\xe9o2r\\xc8E?3v\\xbb\\x95\\x97T\\xa2\\x9a\\x10d;\\xab\\xb8\\xb7\\x8d\\x98\\xa9\\xd4\\xb1Mn\\xad\\xec\\xd2\\xbf\\tzT\\xbe>\\xe5y\\xfb\\xf5\\xdd\\x04\\xcbs\\xf2hT0\\xbe\\x92)6\\xa6\\x8bSI\\xe5\\xbdN.\\xb7\\xe8\\xd6\\xe5\\x96[\\xd8|\\x92]\\xaa1\\xb2\\xb1s\\x15\\xf34\\xb4\\x86\\x937t\\xe3[\\xd5c[\\xf9=z\\x9a;\\xcc\\x00\\x06\\xa2\\xf9\\xad\\xc9&X(x\\x9e{;\\x98\\xccS\\x11\\xf6\\x15l8K\\xc5\\t\\xccJ\\xac\\xfa\\xd7\\xde\\xb9\\x94nds\\xebM\\x0e\\x1by\\xb6\\x17\\x9d\\xab\\xa5\\n\\xc6U\\xb1O\\x13\\xb1\\xb9\\xd2\\x9c\\x87\\x89\\x97\\x12\\x10\\xa8\\xdd66M*\\xf8\\xb7\\x8bCY3s\\xed\\xf9M,m\"`\\x06\\xf6\\xda\\x14\\x05\\xc4\\x97\\x07\\x9cE\\xbe\\xfdO\\xe0U<\\xa6^AA\\x83/S]=\\x86\\xb7\\x00K\\x16b\\xc7\\xb9;5\\x073\\x97\\x97U-3r\\xc6kK\\x1b\\x0f\\x9bq\\xb3U\\x8f\\xf0\\x99\\xcfM\\xa4=\\xeaO\\x81\\x1b\\xf8\\x9b\\xe5\\xb6\\xb5\\x00\\n\\xc7w\\x91\\xf3\\x8f\\xda\\xb4\\xde\\xd2C\\x08\\xe5\\x15\\x0c\\xd6\\x17\\x04},hK\\xa7\\xdeii\\xcf\\xd9$%\\xe4\\xc6F\\x08=Z\\x8d1\\xb6\\xfa*\\xa0V\\xbe3\\x87\\xae\\xa7\\xb9\\r\\xe5\\x12\\x16\\x9f\\xd8.\\x15\\xb8W\\x0e\\xf1\\xe8\\x0e\\xb50(\\xab9\\xf4\\x9c\\xb6\\xcfi\\xb1kg\\xf0\\xb8\\xf6`\\xbf6\\xb4\\xbf\\x96\\xad?\\x80\\xd4\\xa9\\x1f\\xa2\\r\\xb5\\x1c\\\\\\x80\\'\\x8e?\\xe9\\x8b\\xe6o\\xcf\\xa5\\x1a\\xe0\\xb0_\\x11qld\\x1f\\xea\\xc8\\x19\\xbf\\xda*4~!\\x98\\xf8\\x00\\x93*\\x8aM\\xb95\\xd6\\xbeY\\x82\\xaf\\xe6aN\\x1f\\x0c\\xb8\\xcc*\\xc8\\xe3SN\\xa1\\xdc\\xfa\\xaa\\xfa-\\x08JZFb)\\xbd\\xc42s\\x8eA\\xeah\\x1e+0\\x14t\\xf4\\xac\\xa735\\x9e\\xd7\\'\\xcb\\x19\\xfb;\\xa2\\xf4z1\\xf1)U\\x1fJ\\r\\x0f\\xbf\\xde\\x04\\xbc\\\\\\x9bj\\x03\\xca^\\xf9]A\\xd1\\xd8\\xfd\\xe9\\xad}\\x1f*\\x9dv\\x15[x\\x96g\\x0cB\\xfd\\xbbzu\\xf4\\xaa\\xb8\\xca,x\\xcf{\\x94N\\xd1k\\xc4\\x19.v\\x1c\\xa7\\xa8\\'\\xb1\\xe8@\\xf5\\x14\\xb1f\\x90\\xb1>\\xb5\\xb5\\x92\\x96F\\x90\\x9e\\xdb$\\xeb\\xdbu\\x04&q\\xdcV\\x91\\x8bHJ\\xc6\\xa6G\\xd4\\xf2Y\\xee<\\xb7%P\\xcb\\xcd\\xda\\xa7\\xe22!@j\\x12\\xd6\\xe9C\\x8d\\xea\\xa7\\x1euf\\xe9\\xf6\\xab\\xa0\\xe8\\xf8\\x89\\xf9(\\x18vra\\xac2\\x83\\x16\\xfe\\xddi\\xdf\\x92\\xca\\xe5\\xb85q\\xf8\\xfbk\\x96y>\\x01\\xee\\xf4\\x07\\xfaSd\\xa0\\xe5r\\xbfq\\x1dW\\xbb9S\\x94sv\\xf5\\x14\\xed\\xe2\\xdc\\xc4Y\\xce.\\xcb\\xe5,\\xad\\xe7{H \\x086>d\\x06\\x11\\n\\x16\\xfb\\x03D\\xe9\\xfa\\x9b\\x89]\\xa9S3\\x8e\\xa68qn\\\\Hh\\x8f\\xb3Xn\\xad\\xae c\\xc9#:<2z\\'\\xa1\\x1a\\xfb\\xd3\\x8f\\x0f,\\xf6\\x8c\\xd6\\x92\\xc8_\\x95y\\xe2c\\xea\\x07q\\xfaR\\x8a\\xd6\\xce@\\xdb\\xa3\\xdcn\\x7f\\xc9Y!\\xba\\xc6%\\xc4\\x9c\\xaa#\\xb8gexy{\\xb2k\\xa1\\xdfc\\xba\\xb3u|\\x81_\\xe5\\xf7\\x1f\\x9f\\xbf\\xe9\\x05Ug\\x0e6\\x00yv\\xd1\\xdf\\xb8\\xf6?\\x98\\x8cI\\xae\\xd3\\x9ck\\xd6\\xa2ng\\n6M@d\\xe7kw\\x1b\\xde\\x98\\x06Rhj\\xe7&\\xaf\\x11\\x14\\xb3f\\x0fp5\\x19\\x17\\xa8\\x02\\t\\xdf\\x91%\\xb2\\xa5%\\xb6\\x07\\xd4R\\xae\\xe4\\x10A\\xf6\\xa6&2E\\xbb\\x85\\xd7\\xbd\\x07\\xddB\\xde{\\xc6GQ\\xba%EF\\xb1\\xa8\\xb3\\x9c\\xfe\\xa3r\\x1e\\xf3=\\x8d\\xab\\xce4\\x17f\\x8d\\xe0\\xc3]\\x00\\xac\\x14\\xd1\\x97\\x03\\xe2\\x12\\xfa\\xc9%_\\xa9\\tV\\x15j\\xb1\\\\(\\xb2\\xda\\x83\\xcb\\xd4\\x1dU;\\xb2UX\\xafhS\\x17\\x15\\x9e\\xa5n\\xfd\\xc6\\xe5]\\xb0\\xb1\\x95XotP\\xdc\\xf6\\xf3)/\\xd3\\xda\\xac4\\xbc P1\\t\\xda\\x96\\xb9\\x9e\\x1b\\x01\\x1a@N\\xc0\\xaa\\xa6\\xca\\xdcy\\x84\\x96\\xbbQ\\x8f\\xbfh\\xad\\xca\\xdeFeS\\xb1\\xdbF\\x957E|\\xf7\\xd5~\\xcf\\x1b\\xbbY\\x88cB\\x82\\xe6B\\x06\\xea\\xcdX\\x81\\x18\\xb0o0F~@\\xba\\xb5B\\xa4\\x152\\xa6\\xf9\\xc7]\\xebA\\xdf\\xad~\\xaf\\x9eS5:\\xa8\\x02\\'\\x12\\xc6zG\\x15\\xb7\\xe6\\n\\xd5\\xf2\\x18\\n\\xd7ez\\xf7JO\\x99\\xe6\\xd8\\x0f\\x10\\x9a\\xd9\\x95\\x88\\xa7\\xbf\\x0f\\xdb#\\x84\"\\xabm\\xb9\\x91Z\\x9e|+s!\\x9e5\\xddB\\xef\\xe9\\x83<J\\xf9\\xb0\\xdc\\xb6\\x80Cm\\x8c\\xe6\\xd7\\xccEV+\\xfb\\x93s{,\\x84\\xf4\\xde\\x87\\xe0Sw\\x88re1\\xbc\\xa0\\xf5a\\xa1H\\xed\\x85RhR\\x12\\xc4\\xb1\\xf7\\x8b}J\\xd0\\xd7q\\x1e\\x04\\x8c\\xbe\\x97CU?\\xc3hd\\x99\\x13\\xd5\\x8d\\t\\x153\\xcd\\xaaf\\xf0\\xd4\\n\\x99\\x8bu\\xaeo\\xb3\\x8a\\xea3tl]T\\x1c\\xfb\\x99u\\xf8[\\x83b\\xb8\\xb7Nh\\xf7\\xb1L\\xdf\\xfc8\\x847\\xfaC\\xf6\\xa6\\xaf\\x87\\xf6\\x90\\xb4\\x11o^\\x95b^\\xd2\\xd87j\\xabE%\\xfb\\x98\\xc3\\x97\\xd4\\x05\\x7fJ\\x89S\\xb1\\xbc\\x03\\x04+\\xbf,~\\xd5\\xbf\\x99\\xc3\\xc3a`\\xef\\xadiI\\xab3+\\xd9B\\xbbmUs\\xf1\\x139ll%E\\xd0\\x1a\\xab\\xd6T\\xa8\\x90-y\\x96\\xdbd\\xabv\\xf6\\xe6\\xe2\\xfa$\\x1dL\\x8d\\xcc\\xd5c\\xec!He,\\x07@\\xbc\\xabHN\\x14\\x91d\\xbd27\\x7fJ}-\\xccgl\\x0e\\x82\\x03\\xba\\xa7\\x90\\x84`\\xe4k\\xcf\\xa6\\xdf\\xd8C\\xdd\\x14\\x8f\\xf5\\xce\\x9f\\xc8\\xf67\\xd6?\\xe4\\xc8\\x1b\\xd6\\xf3.\\xdb}\\x85a\\x90\\xa2)\\xeb\\xae\\x9e\\xfa\\xa8\\xee\\x19\\xb0\\xcc\\xf1m\\xf5\\xd1\\xb4\\x94ZX\\xc3!V\\x9f\\x97\\x9aGoe\\x06\\x9e\\xf1\\xf8Q\\xc3*\\x81\\xa7I\\xee\\x9cug\\x9aVo\\xf04+\\x18\\xca\\xa7\\x85\\x87\\xd4m7\\xf4\\x8e\\xe4~s\\xf6\\x15\\x7f\\x88p\\x92\\xb5Z\\x91\\x9f]\\xb9x\\x07\\xf2\\x95\\x9e\\xfe{~S\\xb6N\\xddF\\xc5 3VI:\\xb9\\x00\\x9d\\x82u\\xf8\\xae\\x88d8[\\x82-\\xadYE\\x85\\x9c`t\\xe6e\\x1d)S\\x93\\xc5\\xf8p\\xd8\\xa9\\xaeO\\x91on\\x84\\x8f\\x8a\\x92A\\n\\xbb\\x8fD$\\x8d\\xd5:\\xf2En8\\xab\\x1e\\xf2\\xe2uz,S\\xeaTT|\\xefs\\x97\\x19||\\xb1\\xb6\\xf4\\x0fJ\\x0b+\\xcb\\xd1\\x94\\xd5\\xb5\\xce[p\\xed\\xcc\\xaeq\\xd7Kx7\\xb1\\xe4\\xb0f\\x1f\\xf4\\xdd+.8?-%\\xa3]\\xdbZ\\xbc\\x90\\x96#L\\x85\\x0f\\xeckE\\xc5\\xea\\t\\xc0\\x0b>\\x8f\\xf7v\\x8ayx\\xd8\\xd9\\x0eM\\x16\\x06\\'\\xda(\\x16%\\'\\xa5l)pEl<(\\x92\\x14;\\x8d\\xc7tn\\x86\\xbf(\\xd2\\x8aaW\\x89\\x19X\\x9a\\xdf\\xb1\\x1f\\x10\\xab\\x05\\x0b\\xded\\xecm\\x07Sqs\\x0c@{\\xf9\\x8e\\x16\\xaf>Bl}\\xb4~,\\xdeGo\\xb4\\x93%kan\\xcaAH\\xf51o\\xfe1\\xd5_\\xf0\\xa7\\x04\\x99n4\\xb1\\x0f+\\xc7\\x15\\x94W\\x19\\t]4\\x18-\\x8cf~\\x9b\\xf5%k?\\xfc\\xc7\\x9c\\xbf\\xc2\\xcc\\xb3\\xda\\x88\\xad\\xef2\\xf3\\xdc\\xcb?\\xa3\\xcf\\xe5\\x82\\x14\\xfd\\xd5X\\x93V\\x95w\\xa6\\xe4<\\x81\\xaf\\xef3\\xae\\xa3\\xb1g\\x0e\\x04\\xfd<\\x8b{\\r\\x9d\\t\\x964Nf t\\xa9\\xdb[O\\x8f\\x9a\\xde\\xde+t\\r,\\x9ePm\\x90I\\x93J\\x01\\xf4\\xef\\xd8\\xd6\\x82\\xc2\"\\x8c\\'71\\xf54W\\xc3\\x91c[2\\x89{3E\\x03\\xa3\\x8eq\\xe8\\xfa\\xda\\x7f\\x9a.\\xc4\\xaa\\x93\\xee\"of!\\x7f\\x97qu\\x9f\\xb5\\xbb\\xb0\\xf8\\xacl\\xb1?\\x9fe#s\\x96\\xe8A^\\x8c\\x00\\xa4\\xe4\\xf7O\\xefVV\\xf5\\xd2\\xe2\\xec\\xc91\\x1f\\x11\\x170\\x91\\xa4\\xeb\\xce\\x87\\xbe\\xfb\\x93\\xef\\xf8\\xaa\\xdd\\x9e\\xc6Kf\\xed,dIj\\xf22\\xc320e:\\xf4\\xd8\\xf5\\xae\\xc2llH\\x8d\\xba:$|\\x08m\\xc1r\\xb3\\xce\\x07\\x7f\\x9e\\x99|I\\x85k|\\x88~],\\x89\\xb1K\\x0f\\x0e\\xd0\\xbd\\xe8\\xff\\x00}^n*\\xc1-\\xd6\\x0e\\t\\xd4|\\xe8\\xb4\\x1b.\\xd1]\\xcb\\xf7\\x861\\xe9\\xf5\\xb1\\xdb\\xed\\xdcDG\\x867\\xe6\\xd39-\\xa3\\xfd\\x13\\x8ee\\xfc\\xd7D\\xb8t\\xa1\\xe6Oz\\xe6+\\x93cuez\\x9d\\x0c3\\x00\\xdf\\x86\\xae\\x84\\xe0r\\n\\xff\\x00\\x0f27F\\n\\x7fzV\\xea)\\xbb\\x03\\x8f\\xe6\\xff\\x00\"1t\\x9b\\x08\\xa9\\xab?\\xc8v?#\\x1d\\xbf\\x0f\\x19\\x04\\x15\\xa5\\x0f\\x10\\xe3\\x122t:58|\\xc0\\xcf\\xd2\\x80x\\x8f\\xba\\x8a\\x0c\\x81\\xb7\\x0f\\x92%\\x12\\xf1\\x17\\x05\\x1ce\\x1c\\x0f\\xaa\\x92\\xb1\\xe3\\x14\\xc6\\xbb\\xf6\\xabc\\xe2\"\\x03\\x145_^\"9\\x7f\\x14\\xd9\\x8a\\xed\\xe8(\\xdcY\\xcb\\xad\\r\\xa4\\xeas\\x95\\x08/D\\x10\\xc6\\x0f\\xa5\\x0b\\xc4t\\xd4C\\x14\\x84\\x0e\\xf4\\xf1p:\\xed3\\xdaXI\\x13\\x12\\xea\\xbd%\\x98j\\xd1i\\xc85\\xbb\\x15\\xde\\xaa\\x81\\x16\\x01\\xda\\\\\\x06\\xb2\\xdd\\xe6\\xa4\\xd0\\x04\"\\x9a\\x1c \\x85\\xa42~\\x82\\x95\\x17W\\r#\\x80=i\\xef\\xc3\\xd0\\x8bk>v\\xec\\x8b\\xb3_X\\x1b\\xd2\\x1b\\xf2`\\xdc\\xab\\xd6\\xb0\\xdcd\\xa6v\\xeb\\xcc\\xb8X\\xf7\\xd1\\x07_\\xc9\\xa0\\x9b\\xa99c\\xd5m<\\xad$\\x8c\\xe7\\xbb\\x12M\\x0c\\xdf\\xcf\\xd0\\xd7\\x08\\xba\\xd0\\x89\\x95#]x\\x07\\xdc\\xcd\\xbck\\xf3N~\\xfd\\x05Z\\x8e\\x0e\\xe1\\x1b\\xbb\\x8b\\xc8n\\x0fmt\\xaa\\x83\\x87\\x9f\\x96\\xfa O\\xadt\\xd7\\x82%\\x8c\\xc7n\\x01\\xec\\x82\\x85\\xf5\\x07)\\xc7^\\xf3a\\xe9T\\xa3\\xa3\\x03\\xe1\\x07\\x89i\\xf8F),\\xd1\\x03t\\xd56n2j\\xa1\\xcf7AK1:\\x08\\xe2\\n\\xc3\\x98\\x91Q\\xf7\\xf2\\xcd\\xe4H*\\\\wfA\\x02\\xe6\\xd2\\xa2\\xe6\\x1b\\x8a\\xbe8\\xf1\\x11,IS-U\\x8c\\x97\\x19\\\\\\xe5\\x9b[!\\rc\\xe3\\xfc\\x1eF\\xf6\\xfc\\xcb\\xd4\\xa2\\xb5\\x02Y\\xda\\x98\\xbeR4h\\xa8S\\xc4\\x16\\x12$\\xf4\\xc7e\\xd4d\\xe33\\x12\\xda\\xca\\n\\xfa\\xd5\\x90\\xc6\\xe5\\x92uA\\xa0A]0\\xfc\\xd5W\\xb3\\x89\\x0c\\x80\\xb7aN\\xee\\x1c\\x03\\x95\\x9c\\x9f\\xea\\x00W,\\xc8\\x01\\x0c;\\x11\\xa3,\\xd6\\x96\\xf2FC\\xa6V\\x05H\\xf2\\x08\\x96w\\xc2(\\x8e<\\xe7\\xb1n\\xc1L3\\x8b\\x88\\x89\\xfe\\xa8\\xa6\\x1a\\xdf\\xe8E9\\x1f\\x88\\xf1\\xd2]\\xb5\\xa2\\xcf\\xb7\\x04\\x82Gm\\xfbn\\xab\\xb4\\x99\\x11\\x8b\\xb8\\xb6\\xbf=\\x02\\xa1\\x89\\xc8\\xeec~\\xe3\\xf4=h.\\xd7\\xc2\\x8e&\\xc9\\xde\\xb6z\\xe7\\x89\\x1a\\xda\\td\\xfeY\\x83l\\xc6\\x1e\\x8c\\xbe@\\x1d\\x015\\x8du\\x8cN9\\xce\\x1a\\xe0\\x88\\xcb\\xb0\\xe4\\x12\\x0f\\xd8\\xeao\\x9d/!m\\xe9\\xe9\\x7f\\xa2K\\xec)\\xa4\\x10\\xa4\\x13\\xfd;\\xf2>!\\xff\\x00\\x89\\xfc7~\\xd8\\xd6\\x9a>b\\x8ay\\xf9Gf\\xa4\\xe4^\\x0f\\xaf\\x194y\\\\\\x85\\xe7\\xc3[|4\\x11\\xc3\\x0ci\\xe7\\xb2\\x8e\\xd2\"\\xa7em\\x8e\\x8d]\"\\xbc\\xb4\\x82\\x0e\\x07\\xb5[\\xe4rc\\x8fn\\xd3h\\xc8T\\x0e\\xef\\xcb\\xa1\\xb3B\\x1c\\x01\\xc6\\x9c#p\\x8a\\x91\\xbf\\xc3\\xa31H\\xf9\\xd7\\x91X\\x83\\xfd;\\xefTq\\xcd\\x98\\xe1\\n\\xd8\\x11\\xbb\\x1fS^9\\t.E\\xdf\\xb5b]\\xca\\x96\\xb1C\\x15(\\x0f\\x9e\\x07\\xc8\\x8a\\xee\\x12\\xf0\\xb3\\x0b\\x8f\\xb3P\\xb8X\\xac\\xecm\\xc1\\xf2\\x84\\xaa\\x1ayO\\xab9\\xa0\\xee7K#\\x14\\xb0\\xa4H#\\x0b\\xa0\\x80U\\xdc\\xe2\\x9b\\x9be\\xb4\\xdcn5\\xaa\\xe6?\\x1dg\\xb9/]y\\xaa\\xde5b\\xcc\\xcd5\\x9c\\xcf\\x92O}\\xc8\\xaa\\xc9\\xb5\\xb0M\\xaa\\x9e\\x9a\\x8f\\xa5Pv\\n\\x04\\xa9\\xfcG\\xc2\\x92\\\\\\x16x4\\xdam\\xf9r\\r\\xa9\\xfc\\x1e\\xe2\\xab\\x85\\xc2\\xdd\\xd8\\xdc\\x18o-\\xda N\\x95\\xbb\\x8f\\xde\\xaf\\x05\\xb5\\xfc29\\xd9\\xa8\\xcc\\xc63\\x19\\x7f\\x04\\x91\\xcd\\x122\\x11\\xebZEiZ\\xae\\xb8\\xf6\\xfbE\\x16\\xeay\\xaa\\xfb6\\x16\\xd7\\xb3w\\x89\\xae\\x02\\xce\\xcf\\x84\\x8b\\x8a\\xeec\\xb3{\\x8f7\\x87\\xee\\xed\\xbc\\xc5\\x04\\x88\\x05\\xcb$fF\\xd51,\\x10\\xe3\\x93\\xc3\\xeb|\\xa5\\x92%\\x85\\xcd\\xe8\\xc94\\xec\\xc1\\xd6h\\xaf\\n\\x01\\xce=9\\x11z\\x8a\\xd4\\xe1\\xde\\x1fl\\'\\x87\\x9e&\\xdcJ\\xc6Kw\\x8f\\x19i\\x01\\xea[rLf\\xe5\\xe9\\xef\\xe5\\xd4\\xef\\x89Oj8\\x87\\x86\\xb0\\xd7r\\xb4P\\xe2x\\x7f\\x15\\x11\\x89H\\xd7\\x9c\\xd0y\\x8d\\xcc}>\\xba\\xb4\\xa0qe#~x7\\xc6\\xf4 |\\xab}|\\x90\\xe8\\xdcT\\xe8Y^\\xc6\\xce\\x81i\\x13\\xc4\\xf7\\x16\\xad\\x9f\\xbf\\x92\\xdb\\x97\\xe1\\x9e\\xeea\\x0f\\'\\xd2\\x109\\t\\xaf\\xb6\\xaa8\\x80\\xd1\\xee\\xa1-\\x16\\x0b\\x976\\x90\\xca\\x8d\\xcau\\x18V\\x1e\\x9d\\xb5[\\xc8\\xd2\\xa91\\xb2\\x90\\xc3\\xe5#\\xefD\\xc0\\xe0\\x02o\\xc0\\x11Cf\\xcf\\xaf^L\\xc5wu%\\xdb\\x04n\\x92!W\\xf3\\x17\\xa3\\x10\\x9d5\\xfb\\x1a\\x81\\x83\\x1a\\xb1_^c&\\x8c\\xbd\\x85\\xe4|\\xe9(\\x1b)\\xae\\xcd\\xbft\\xa98\\xb5\\r\\xfd\\xb4\\xb2#\\x15IQ\\x9dGv@~`?\"\\x9b\\xb7\\xe3\\rs\\x84\\xbf\\xc3[[\\xba<\\xb7\\xa6\\xe7\\x1f~\\x18\\x82ba\\xaf&@=\\x8dH\\xacCit\\t\\xd6\\x8f\\xc7\\xb4\\x89\\xd4\\x14\\xfa\\x83\\x107\\xb0=\\xfd\\xff\\x00\\xe4D\\x97\\x86\\xb62\\xc1\\x9c\\xb9\\xb6\\x93\\\\\\xf0\\xc8\\xc8\\xda;\\x1bS\\xae\\x95\\xd2k{Q.=`#|\\xc8j\\x8d\\xf0\\x0e\\x05\\xac\\xb8\\x92\\xe1\\x071\\x0c\\x03\\xaf7~\\xbd\\n\\x9f\\xba\\x9e\\x95\\xd0;\\x08\\xccw\\x16\\xaaG\\xf4\\x9aU\\xea\\x8c}}{\\x81\\x1b:R\\x8f\\xd9\\x94\\xfb\\x12e\\x10\\xcfc|\\xb6\\xc8\\xdb\\x11\\xf8\\xa7?\\x85\\xd97\\xba\\xc1\\xaa1\\xdb\\xc0\\xc5\\x1a\\xbcx\\x8b\\x8a6\\xd9&\\x98/I\\x00\\xa5\\xe7\\x01^\\xff\\x00\\x0e\\xe2\\x9b\\x9bF:K\\xa5\\x0e\\xbf\\x9a\\xaaun7\\xdcw\\x9e.\\xe8\\xcd\\x1f\\x04q?\\xafq:\\t\\x8a\\xb8\\xf3\\xa2V\\xf5\\x1d\\r\\x0e\\xf1\\x0fYR\\xb0p\\xec\\xfc\\xb7\\x12\\xc4O~\\xa2\\xb6\\xb3\\xdf\\xeb-\\x06\\xd6\\xac\\x8c{%A\\xfbJ\\xc3\\xe2\\x07\\xd3\\x10\\xaa\\xfd3\\x00\\xc3\\xf1O\\xae?o\\x9e*@\\xdc\\x0f\\x9c~)\\x8f\\x10~\\xe8@\\x19M\\xf5\\x99\\xcdDmV\\xf2Jj2\\xb6\\xe3\\x8c\\x93Z\\x13\\x812\\xda\\xcboBJ\\xa2\\xb4\\x9d\\xabpZ\\xcc\\x01:\\xa2\\x8cU\\x86\\xc0\\xd8\\xa3I\\xac\\x11\"\\xed\\xd4\\xd0\\x1bs\\x02\\xbf\\x11\\x18\\xaa\\xc3f\\xaf\\x91\\x8b\\xccF5\\xe6\\xbc\\x04\\x8e\\x8bNk\\xf6\\x10YG\\x10\\xe8d\\xef\\xf8\\x15\\xb1\\x89\\xc7\\x08\\xad\\xc1#\\xab\\x1d\\xd0\\xdeF\\xe0Mx\\xe4}+\\xf2\\xaf\\xe0W\\xc1\\xcd\\x87q;\\xaa\\xb0G\\x08\\x0c\\x8cw\\xe5Bh]\\xd4\\xcb%I\\xddK\\xa1\\xaa\\xfdf\\x83\\x94\\xb1\\xae\\x99\\xb8\\xac\\xf7\\xa4\\xd3\\xc9\\xcb\\x98:!\\x929\\xc3/pj\\xc4p\\x7f\\x1e^\\xda\\\\E\\x0b):\\xe8\\r$\\xa7e\\x04\\xd7\\xccu\\xc0K\\xd8\\xce\\xfdj\\x17U\\xb54\\xcb\\xb8\\xd3]\\xcfU\\x9bF#s\\xae\\xfc\\'\\x93\\xb8\\xc8\\x18\\xdd\\x89\\xfbS\\xcd\\xadK\\x02\\x18\\xd5W\\xf0\\x9a\\xec\\xcb\\n\\xb1;\\x02\\xaeT\\x8c\\x89o\\xcf\\xefPP\\xbcw=\\xcc}\\x91\\xf7\\x89,\\xe6\"\\xdc@\\xdbQUg)\\x8b\\x89fr\\xa2\\xadVN\\xf3\\xcf\\xf3\\x0e\\xfeQ\\xb0\\xb5^s\\x92!vT\\x1bjxP\\x9f\\xb3\\xae\\xc4M\\xad\\xad\\xfd\\xa1\\xfb\\x98\\xad?#\\x15\\xa2\\\\~g\\xc8\\xe5M\\x9d\\x06\\x04\\xd0\\xec\\xd1r\\x9e\\xbdX\\xf6\\x15$0\\xee1\\xf2I\\xa2[D\\xd2\\x9e~N5k\\xa2u4.\\x97\\x87\\x99k\\x02\\xa0\\x9fx\\xf5\\xcb\\xf1\\x15\\xad\\xd6;\\x90\\xb8\\xd0Q\\xaa\\xbd\\xbf\\xf0\\xe7\\x9a\\xc7ex\\x028\\x1dT\\xcb\\x8d\\xb9\\x96\\x13\\xcd\\xd4\\x85\\'\\x9dMq\\x0e\\xeal\\xcc\\x08C\\x16\\xd5Y\\x9f\\xf8v\\xf1/\\xfe_\\xe2\\x0b\\xfce\\xf4\\x9e]\\xbeU\\x11c\\x95\\xba*N\\x9fN\\xfe\\xcc\\x0e\\xa9\\x1f!U(\\xb6\\xc1\\xfb\\xc2\\xa7\\x90\\x1ew4\\x0c\\x87\\xb7!h\\xa0)\\xaf\\xb6\\xb7\\xe3S\\xa2\\xfe\\'\\xf1\\xc5\\xf4\\xf0]\\xe3q8\\xe9/\\xa7\\xf35\"F\\x9c\\xc5T\\xfa\\xb9\\xec\\xaak\\x9f\\x89\\xc1\\xbe.q4\\xf0>N+le\\x8d\\xbb\\xff\\x00.%\\x1a\\xf2\\xd5\\x0f\\xda\\xaeU\\xa6^^\\x1e\\xce\\xe5\\xb2\\x06\\x06\\x9a)\\x91D\\x8a;\\x90\\xb5V\\xb8\\x8f+\\xe37\\x88R\\xcb\\x16\\n\\xd9,\\xb1\\x0f;\\xc7\\x0b\\xac\\x82\\'<\\x9fSH)\\x07\\x0b*\\xeb\\x1d\\x98\\xb5{\\'\\xbbY\\xe1\\x7f)\\xa8\\xfe\\xc0\\xb8\\xd5%(\\xbc*T\\x07\\x90n\\xecH\\xef\\xb9j1|G\\x83\\x9e\\xda,\"\\xe4\\x83\\xde[\\xc2\\xa8\\x85\\xd8\\x06\\x9bCG\\xf5\\xaaO\\xe2\\xa5\\x8c8\\xb9$\\x9a\\xea\\xe5W\\xe6\\xecM\\x06?\\x08\\xf0\\x97\\x87\\x97\\x8f\\x92\\xcc_\\xff\\x00\\x18\\xca\\xc2\\xc1\\xe3D$\\xc7\\x14\\x9f\\xf7z\\xa9\\xbc]\\xc6y^!\\xca\\xdc\\xdf\\xe4\\xa4ye\\x93\\xe9\\x00\\xf2\\xa4i\\xe8\\x8a=\\x87\\xeei\\xa3\\xa3\\xf4Sno\\xadU\\xad\\xe8\\x8f\\xe2b\\xba\\xe4~\\x16*u\\xfe\\xb5WN\\xc58\\xec\\x8a\\xf6\\xd89\\x05\\xe5\\xbe \\xfb\\xb4\\x9f<Y,r?\\x96\\xbd;\\xf5\\xa1L\\x97\\x1bd\\xa4E\\xe5\\x99\\x90l\\x1eQ\\xef\\xefKg\\xcdH\\xae\\xba\\xb6_,wB\\xc7\\xadm,\\x83\"?\\x94U%?R\\xb9\\xd1!G\\xf4\\xd6\\xc3]\\x14\\xa1\\xee\\x93\\x00\\xbf7&\\xd0\\x7fz\\x7f!.,7YX\\xbc\\x11\\xc7\\xdc\\xab\\xb4\\x97\\\\A\\xc4\\x8fn\\x15\\x9b\\xa3Ad\\xa8\\x81y~\\xef/z\\xc9wmkw\\xc5\\xfc@8\\x91\\xcc\\xb9T\\xbf\\x99\\'E\\x90\\xc5\\x101\\x9eM/\\xae\\x86\\x80\\xaf|=a\\x9e\\xbc\\xbb\\xf0\\x83\\x86\\xdcZD\\xc9\\x03\\xe4\\xec\\xf9\\x89`M\\xc4\\xadv\\x9ex\\x1e\\xad\\xe5R\\x03?\\x90\\xc8M\\xc5\\x99i\\xeed\\xdd\\xcb\\xdd\\xcb$\\x8e\\xa7\\xbb\\xbbs\\x92\\x0f\\xebQ\\xd2A\\xbc6\\x87\\x15\\xe6\\x00\\xfdgy!\\x97\\x1f\\x86\\xd8;\\xfad\\xb7\\xe9\\x1fW\\xf8\\\\4nM\\xbd\\xb1\\xb6\\x99:\\xa1\\x12\\x15na\\xd8\\x95<\\xcd\\xaf\\xb1\\x0bE7\\xd7\\x96\\xb7p\\xcfr!\\xf2\\xa7\"6u\\xf7=\\x8b\\x0f`\\xc7\\xb5,\\xf0\\x99\\xa7\\xbb\\x83\\xe1\\xe5:(\\xa4\\x8d\\x1eU }\\x83F\\xa0\\x8fRvM\\x138\\n9\\xb7\\xb5\\xde\\xf9\\xbd\\t=;\\xf6\\xfdz\\x9fj\\xb1\\x95Ewh\\x8e\\xc4x2\\x1c\\x0c\\xbbq\\xcb)\\xd3\\x06\\xec\\xc0\\xff\\x00\\x91\\'\\xa6\\x86\\xdd\\xee\\xc8=\\xa4\\x80?\\xe0\\x83Q8\\xaey\\xa5\\x82\\x17\\xbckh\\xc4\\xea\\x8f&\\xb9\\xc2\\xa3\\x9eV ~\\rlKu\\t\\x91\\x9bZ+\\x0f(\\x04h\\xf6\\xa0\\xd8\\xdc\\xfc#\\xfc\\xdafj_\\xadl\\xd3\\x0e\\xe0\\xf6\\x11\\xc2\\xe7\\xa3h{2\\x9eD\\x11\\xfd\\xa3\\x13\\x11\\x93\\xce\\xff\\x00\\x1fi1\\xd0\\xf9\\xcbld\\xf3K\\x0eF\\x9dc~^u\\x07\\xb1+\\xd4\\x8a\\xe86*\\xfa\\xd7%i\\x8f\\xbd\\x84\\x82\\x8e\\xbe\\x9e\\x87\\xd4W?\\xb8n\\xc2\\xfb1\\x95\\xb0\\xb2\\xb2\\x95\\xe3\\xbbgf\\x85\\x90\\x80Z`\\xbb\\xe5;\\xee\\x0e\\xbbU\\x85\\xf0\\xbb\\x88\\'\\xb8\\xbf\\xcc\\xd9\\xbd\\xb9\\x85 \\x95\\x1d\\x90\\xf4\\xe4\\x95\\xf6\\x18(\\xfe\\xd3\\xad\\xd5\\x0e\\xa7Yz=Mm\\x97_W\\xbf\\x7fc=\\xe9\\x8e*\\xbf\\xd2\\xe5\\xa5m\\xe9\\t\\xed\\xf9\\xaco\\xf8\\x87\\x86\\x17\\x98\\x16\\x95F\\xda>\\xb5D2n\\xd6\\xd2\\xd8\\xdf\\xa7F\\x82U\\r\\xf85\\xd3k\\xd6\\x8e|l\\xd1\\x1f\\xeaC\\\\\\xe8\\xcd[\\x05l\\x85\\xa3z\\x96\\xd5/a?r\\x0f\\xcf\\xf60\\xc7P\\xafj\\x08\\xf3\\xaf\\xee;\\x89o17\\xc1\\x96\\xd2\\xe9\\x0fG\\x00\\x9f\\xd6\\x8ds\\x8e\\x1aD#\\xd4Ug\\xf0\\xd7,n\\xf0\\x02\\x07;\\x92\\x02T\\xd3\\xb2\\xe6\\xfcH#Rz\\xafJ\\xafb\\x14\\xb8\\xaf\\xc4\\xbfM\\xa2\\xda\\x15\\x87\\xf3\\x01\\x10<z\\xdbx\\xa9\\x1d8<\\xc3\\xf1N~>o\\xe6\\xc3\\xf9\\xa4\\xd4\\xe7\\xe6\\x1f\\x8aa\\xc5\\xff\\x00\\xc4\\xb0\\x1eW\\xfeF\\x9c\\xd4\\x8a&v\\xa2\\xab[BH\\xad\\xab;.\\xa0j\\x8c\\xed\\xac\\xb9M2\\xe4\\xe5y\\x02&ccI{\\x14\\x08\\xa2\\xa5\\x8b\\xf9\\xf3\\xa4~\\xe6\\xa3yY\\x12\\xa5p\\x90\\xb3J\\xf2\\xb0\\xfb\\n^\\x0b\\xc9\\xcbCW\\xde*\\xa4\\xc2\\xdb\\xf9\\xc5\\xbd\\x93\\x1e\\xc7\\\\\\xab\\xf94\\xa8n\\x82\\x8a3\\xf7|\\xd3\\xc7\\x10=\\x10l\\xfeM\\x04]K\\xa8\\xe8\\xddK\\xa4\\x02dY\\x16\\x9b\\xb2\\x18\\xfc\\x99\\tq)g\\xad\\xbf5\\x84z\\x15\\x8a\\xde\\xdc\\xc8\\xe5\\xaadY\\x93_X\\xc9\\xb0#\\x9e5F\\xaa\\x14\\x01\\xe4AY\\x1d\\xcdx\\xb7\\x0e&S\\xf7\\xa2\\xc3\\x8e\\x7f\\xed\\xa9\\x1c~1\\x9e\\xee%\\xe5\\xf5\\xafE\\x88\\x04\\x93\\x8b\\x92%\\xed\\xf0\\xbe\\xe9\\xadla\\x1e\\xa4\\n\\xb7y\\xac\\xc7\\x91\\x88w\\xdf\\xd2\\xa1W\\xee\\xcd\\xd0U5\\xe0xd{\\xa4P\\xa7\\x965\\xd9\\xa7\\x8er\\xf3\\x9e\\xf6\\xce\\xd5\\x8f\\xc9\\x02\\x1b\\x99\\xbfN\\x8a(3\\xdf\\xfb\\xce#\\xf30\\xe1\\xa7u\\xf2?\\x90\\x91W\\xd7o\\xf1\\x90\\xd9\\xabuX\\xc1s\\xf74\\x0f\\x9a\\xe4\\x89]b]\\xb0\\x1bf\\xa9\\x1cx\\x96\\xe6{\\x8b\\xa6\\xfa\\x9d\\xbaV\\xc6q\\x16\\xdb\\x1f\\'\\xcb\\xb7aN\\xb8\\xede\\x94\\xa8\\xf7\\x89\\xec+\\xae\\xe3\\xf1\\x12\\x10\\x04[\\xa4\\x91\\xa6\\xf9\\x89\\xeci\\xa22v\\xeb\\n\\xc7\\xb5 \\xd5y\\xbc\\x86P\\xe4\\xab\\x9d\\xd0D\\xb9\\x8b\\xdbbX9:\\xa5\\xee\\xa3\\xf8v\\xdc\\x90[\\xd4\\xfd#\\xf7I\\xfcY\\x8b\\x87\\xa45~g\\xcc\\xb5\\x19\\x9b{\\x06\\xb7.5\\xbdR\\x0b\"\\xf61\\r\\x127@\\xb3qm\\xdc\\xeb\\xc9\\xb2M\\t\\xdd\\x8c\\x84\\xfbb\\r(Q\\xd12q\\xdfVY\\x1e\\xb2?\\x12\\xe0\\xe4.\\xea\\xafgS\\xa1\\x9e\\x1b\\xf8\\xb0%\\xb6\\\\fL\\xb4\\xf1\\x04\\xe4I\\xfe\\xa9\\x10z\\x06\\xfe\\xe1V\\xe3\\x82\\xef\\xb8^\\x1cE\\xd6\\x1e\\xe6\\xf2%\\x86[\\x87\\x96\\t9\\xf9:\\xc9\\xdcW\\x168U\\xe7\\xb4\\xbfC\\xccWf\\xae\\x05\\xceVD\\xc2\\\\\\xdc\\xbc\\xa0\\x88ag\\xed\\xbe\\xc2\\x94:\\xbfMJ\\xf3\\x14T5\\xea\\xb0\\x1a\\x1e\\t1\\xab\\xa5u7\\xbf\\xa7\\xbf\\xaa\\xc4z\\x7fPou\\xe3\\xde)|w\\xcab\\'\\xe3\\x89\\xb1\\x98\\xa6\\xd5\\x9e(\\x18\\xcb\\xa9\\xe6\\x12\\\\7WpG\\xb7aT\\xf2\\xff\\x00)\\x0f\\x98UT6\\x9b[\\x03\\xa1\\x15%\\x92\\xbaxm\\x19\\x99\\x81\\x96\\xe0\\xb3I\\xbe\\xe3g`\\n\\x15\\xc6\\xe3\\xbe\\'\\x9aY\\x18\\xaa\\xa9\\x1a\\x1a\\xfa\\x8f\\xb5n\\x988i\\x8b\\x8dU)\\xe1\\x14\\t\\xf9\\xcf?>\\xdc\\xcc\\xabo\\xb0\\xed\\x9d\\xb6f\\xdcr\\xed%b\\x01n\\xa1\\x06\\xbb\\x12:W\\xc2LQ\\xca\\xeb\\xf20\\x04\\xf3\\x93\\xda\\x88n!e\\x8f\\xa2\\x04]\\x1eVn\\xbfoN\\x82\\xb0\\xb5\\xb4\\x92\\xb2E\\xb1\\xcf>\\x95\\x13\\x93D\\x16=;\\xfb\\xd5\\xf3\\xdb\\xc9\\x83\\x87s\\xd8N\\x94Ac5\\xb7\\x8c8\\xeb\\xb9S\\xca\\x8b\\x01\\xc2Ba#\\x82\\x14\\x881\\x9d\\n\\xfb\\xf5z\\xe7<s\\xee\\xeaF,N\\xcd]\\xcf\\x1a\\x85\\xed\\xb6c\\x8d^\\xd7#5\\xbd\\xbe\\x1dqx\\x05\\xb5\\xd7\\xfa\\xc9\\xe4\\x03(c\\xf9\\x8a\\xa8\\x93Ol\\x88\\x8e\\x8b\\xce\\xd2{\\x9d\\x05#\\xb8\\x00P\\x8c@\\x83\\x96\\x89!B\\xae\\xcf\\xce\\xb9\\x1f\\xf3\\x0e\\xe75\\x84W\\xb0\\x01b\\xcf\\xa1\\xe3[\\xe2?\\xc4iX\\xdc\\x10\\xc8\\xe8tA\\x04\\x1fb)\\xebiz.\\xed\\xd6S\\xd1\\xfb\\x12O\\xcd\\xbf\\xb3\\x1eg\\'\\xfd\\xa0Uc\\xc6\\xdd\\xa9\\x00r\\xd3\\x12\\xcb1%\\xbb\\xe9~\\x97\\xe8\\xe3\\xafQ\\xf7\\xd6\\xaa\\xe7\"\\x1aQ\\n\\x19a>bi\\xa2\\x8b\\x9e#\\xaf,\\x98\\xdb\\xd3\\xa3z{\\x03\\xf6\\xea}\\xebO\\x1b{\\xe6\\xc6\\x80\\xf7\\x14D\\x96\\xc2X\\x9f\\x9bZt \\x02@%~\\xdc\\xa0\\x9d}\\x94\\x01\\xf7\\xa0\\x18 \\x92\\xde\\xeaH\\x98\\x1e\\x86\\xba\\xba\\xb0\\x0e\\xfeD\\xf6\\x9bI\\x00o\\xc1\\x8e[#9Y\\xda&\\xe4\\x94\\xb0h\\x9c\\x1d\\x14\\x91z\\x82\\r\\x10\\xe23\\xd76RA\\x933yR\\xafI\\x9d\\xf7\\xc94@\\xe9\\xb9\\xb5\\xdc\\xc6O\\xedJ\\xfbl\\x99\\x8a\\'\\x89\\xfa\\xa3\\x0f\\xd4\\x1a\\xd9\\xb7\\x82\\xf72\\x966\\xb6\\xb2s\\xcd\\x1c\\x9eLP\\xb9\\xf9@\\x94\\x92\\xccI\\xe8(7uf\\xd8\\x05I\\x00\\xc3\\xac}E^\\xe42\\x82A\\x1eA\\x97W\\x1b\\xe2|W\\x17\\x90A$Q<R\\x10\\xa2\\xea\\xde_2-\\xb7m\\x82\\x01]\\xd2\\xb7\\x8f`0\\xe5\\x84\\xab\\xf4\\xbdW\\xc56\\x1c9\\x17\\xcb75\\xf3\\x84\\x94F\\xd2s(\\x1c\\xc5\\x19[\\xb7S\\xedO\\xfe.\\xca\\xda]b\\xa2c\"\\xf3\\xaa.\\xf6@;\\xa0\\x19X\\xf5\\xd3\\x95_\\xa7Y\\x00\\xec0\\xf6\\xdf\\xdbp\\xd6-\\xf6\\xdf\\x87o\\xab`b\\xbae>\\xfa\\xfb\\xea\\t\\xf0>D\\xe3\\xf8\\x9eHI\\xd2\\\\\\x8d\\x8f\\xcdX|\\x8d\\xe9\\x874\\x89\\xbe\\x8e*\\x8aG\\x99D\\xbf\\xb5\\x9c8\\xe6\\x8aA\\xeb\\xe9V\\x1b9\\xc4V\\xb7\\x12\\xda\\\\$\\xe9\\xb0\\x01:aP\\xe4c\\xb9\\xb5\\x0f\\x13\\xddu\\xfa\\x89&\\x06R\\n\\xac^C\\xe9}\\x8f\\xc8\\xc9\\x9e;\\x93o\\x01\\xfb\\xd2\\xad\\x88m\\x1f\\xb5m\\xe6s\\xd1^\\xf9C\\x9dN\\xbe\\xf4<\\xf3\\x8d\\xf45n\\x95+R\\x83>\\xbd\\xd5\\xadb\\x0e\\xc4\\xae\\xb6\\xf8\\x90\\x0e\\xf5D\\xf1X(\\x02\\x8a\\xbe\\x1c\\x03Y|\\x9a\\x8d\\xecc\\x07\\xd6\\x8a\\xb0b[$#@T\\xbb[Ggk\\xd7\\xa0U\\xd9\\xa9\\xcbku\\xf39\\x9b\\xb2\\xf5\\xa5\\xef\\x15\\xe5\\x91b\\xf2\\x94\\xf5s\\xfe\\x05M\\x8a\\x8e\\xcf\\x17:\\xdd\\xea\\x98\\xe4{\\x98\\xb8\\x9ef\\x9aw\\x90\\xf7f\\xddB\\xce\\xe5\\x9bU\\xf5\\xaeT)\\xa9,5\\x99\\xbb\\xb9\\x1d6(\\xf9\\x1c\\x14\\x93\\x11ze\\x06\\xdc\\x95\\xed&l-H\\x8cQL6\\xc2\\x8b\\xe2\\xc1i\\x17\\xa5LC\\x87\\xd7\\xa5\\x046l\\x935$\\xc6o\\x88$\\x96{\\xa9\\x9c}\\x92\\xad\\xc6\\xf5\\xe9E)a\\xca;T\\xfd\\x8d\\x875\\xc4k\\xaf\\xa8\\x80k\\xafQte\\x81\\x8av;\\x19b\\xf8\\x0b\\x1a!\\xb1\\xf3_\\xa1\\x90\\xf3\\x1f\\xf6\\x8a\\x18\\xc9\\\\\\xbd\\xc5\\xd5\\xdb\\x8d\\x87\\xba\\x93\\xf6\\x89:\\x01M\\x88\\'\\x86\\x1cD\\xa1@P#\\xe5\\xfc\\x0fZW\\xe3\\xa17\\x12<\\xc4w\\xec=\\x87\\xa0\\xa1\\xf8@\\xd9m\\x96\\x1f\\x99\\xeey\\x08\\xb5\\xd4\\xbf\\xac$\\xc5D\\xb1[u\\xf45\\xa9\\xc4\\x869\\xd5#R6\\xc2\\xa5\\\\\\xaa@E+rwR\\t\\x9c\\xf3}\\x85hX\\x17*\\xb0\\x1fh\\x89\\x9d\\x8c\\xcc\\x84\\xfd\\xe2\\xeb3l\\x90\\x8d/\\xa0;\\xaa\\xff\\x00\\x95*\\xb1\\xb8\\xa6\\xb6w*\\xb1\\xc6\\xc0\\xb7Z\\xad\\xf9\\x0b\\xf6\\x96R\\xa0\\xf74\\xca\\xf9U\\xf1\\x8a\\xc9\\x81w8C\\xc38\\xf6\\xbd\\xbd=:n\\xac\\xfap\\xc4_\\x0e?\\x97\\xd6\\x84\\xb8\\x07\\x19\\x1a\\xc0\\x8f\\xa1V,\\xcc\\xbc\\xba\\x00VQ\\xd5\\xf2^\\xdb\\xcf\\x13\\xa0&\\xe5\\xd10\\x92\\x9ce\\xe6\\xbb&W{\\x9c\\x11\\x85\\x89\\t\\xf8\\xa8\\x1c\\xad\\xfd\\xdcx[\\x98\\xe4\\x05c`\\xaaI:\\xf5\\x15%\\xc6\\x1e\"c\\xec&{{8\\x85\\xcc\\xea\\xc49\\xfe\\x85\\xfbU|\\xca\\xe5\\xf2\\xd9\\x8c|/s\\xa5\\xfes\\x00\\x81yT~\\x05u\\x83\\xd2\\xaf\\xb2\\xca\\xac\\xb9@\\nC\\r\\xf9\\xed!\\xea=o\\x1a\\xaao\\xaa\\x87%\\x99J\\x1e>;\\xf6=\\xe4\\x17,7\\x9773\\xb1VT$\\xa2\\x1e\\xaa\\x0bz\\xe8T|\\xb7Q\\x97p\\xccP\\xa0\\x03G\\xa1\\xd8\\xf7\\xfdj?\\x1d\\xe5\\xda<\\xb2\\x02[`\\xae\\xbbz\\xd4m\\xd7,\\xb7;\\'\\xbbz\\x0e\\x80\\x1az\\t32\\xfb\\x84fx]T2\\xf5*OO\\xfa\\x9fz\\x7fxa\\x83\\xe1\\xb9b\\xcdq\\x1ef\\'\\xb8\\xb2\\xc2G\\x0b\\xc7f\\x92\\xf9F\\xe2\\xeaS\\xb8\\x90\\xb7\\xa2\\')f\\xd7SU^7e\\x00l\\xeb\\xd0v5v\\xfc$\\xb4\\x9e\\xeb\\xc3\\xfe(\\x86ldS\\xda\\\\e1\\x81&v\\'\\xca\\x99\\x03\\xechw\\xda5V\\xb6\\xac\\x87^\\x15\\xb0\\x04\\x91\\xdc\\xfc{\\xcbu_\\x8bSz\\x96\\xae\\xd5A:\\x1e\\xe7\\xdb\\xc4\\xd9\\xc4b\\xff\\x00\\xe7\\xcc\\x07\\x88\\'\\xf8\\x93\\xfcu\\xb5\\xf4Y3\\x1a\\x80#\\xb8\\x8e\\xe0\\xf9FO~tw\\x03^\\xc6\\xaa\\r\\x91@\\x92B\\xe8\\x04\\x919\\xe5\\xe9\\xf7\\xd3\\x03V\\xden(\\x83\\x84\\x9f\\x8d\\xb0\\t\\xc3pY\\xdf\\xe4l\\xe2\\xc7\\xda\\xcf\\x05\\xc0u\\xf2\\xcc\\xcbp\\xcc\\xec\\x0b\\x06,\\x14\\x00ERO\\x88\\x90\\\\\\t\\x95\\x9ba\\xb6w\\xdf\\xee*\\x9e9_O\\x8a\\xa8\\x00kG\\xb7q\\xaf\\xb4!\\x94\\xaf\\xea\\xf2f%\\x89<\\x97\\xbe\\x87\\x7f\\xbc=\\xb6\\x93\\x91\\xb4O^\\xb4Qi.\\xdcPn\\xd0*H\\xaaV6\\x03G}\\xear\\xceP.G\\xb1\\xa9ZD\\x87\\xdaY<e\\xc8d\\x8dN\\x87\\xcb\\xb3\\xae\\xed\\xf9\\xea7\\xaf\\xbfJ\\xf3\\x90\\xb4\\x8c\\xdes\\x804B\\x9f\\xdf\\xf4\\x14#ap@]\\x1e\\xab\\xda\\x8fQ\\x9a\\xe0)\\xe5\\xeb\\xad~j>_D\\x98/\\xd7\\x0120\\xb4[\\xa9~\\x02\\xc8\\xbd\\x9f\\x15\\xd9\\xdd\\xc741\\xc9n\\x1eE\\x13\\x8eh\\x9c\\x81\\xd9\\xc7N\\x95/\\x93\\xb3\\x91\\xed\\xc1\\xd0\\x1a\\xa4\\xc5\\xcc\\x12[\\xdd+\\xf3\\x8d\\x06\\x04\\x81U\\x99y#\\x00tH\\x97\\x14\\x85u,6\\x01\\xee\\'\\xac\\xde@\\xdfd\\xa6\\x92\\xe1\\xc3\\xb0$\\x0e^\\xca\\t\\xde\\x87\\xda\\xa2\\'t*\\x0f\\x9c\\xcezw$\\x9a\\xd7\\xbb\\x9d^\\xe9\\xda8G!\\xf4o\\xff\\x00\\x95\\xa0U\\xba|\\xfd;\\x91\\xae\\xc6\\xa7^gD\\xca\\xaf\\xe9\\x8d\\x81\\xe3\\xdbS}d\\xd7\\xadl\\x87\\x03\\xd6\\xa2\\xf6\\xa3\\xd0VP\\xeb\\xec*n\\xf2\\xb7o\\x89,$\\xfb\\xd6\\xda\\xcf.\\xbaH\\xff\\x00\\xb9\\xa8/0W\\xa1+{\\xd7\\xd3\\xd9b\\xc4\\x01\\xbb\\n\\xdcKM\\x8e\\xa2\\xa3\\xe0\\xb9]\\x8a4\\xb7d`7I\\x0e\\xcc\\x0fe\\x9a\\x90\\xa6\\x806L\\x0e\\xc9\\xb2ZY\\x1fs\\xd6\\xa9\\xeeZ\\xfd\\xee\\xaf\\xa4m\\xf4\\x07B\\xac\\x07\\x1eeU#p\\xa7\\xafaUpSN\\x15z\\xa8\\x12;\\x99\\x8e\\xf5\\xdb\\x96\\xcc\\xc2\\xab\\xe1f\\xda\\xf3\\xc8\\xe1EZ.\\n\\xc2\\xea5vZ\\xafx\\x1bc5\\xe2\\xf4\\xf5\\xab\\xaf\\x89D\\xb7\\xb4Q\\xf6\\xaa=F\\xe24\\xa25~\\x19\\xc0R\\r\\x8c!\\x0f\\xc2E_\\x8c1\\x8a\\xd77+\\xefZ\\x8dp\\x0f\\xad.\\x02\\xd3M\\x14\\xd7\\xf1$\\x15\"\\xdd\\x13\\xe2\\xedU\\x9d\\x9f\\xdb\\xa0\\xa0\\x84}\\x9anc`\\x11[\\xaa\\xfa\\xea\\xbe\\xb0\\x9e2+\\x12\\xb4BL\\xd9\\xbe\\xbc\\x90\\xda-\\xb8\\xef/C\\xf8\\xa3\\x0ce\\xaf\\x97j\\x0e\\xbd)\\x7f\\x03\\x0b\\xbc\\x9b0\\xfaS\\xe5_\\xd2\\x9c\\x91\"\\x85D\\xfdM\\x13\\xc7P\\x88\\x04B;\\xb6\\xc7\\x7f\\xbe\\x84\\x19\\xba\\x88\\x98\\xf5I\\xae#\\xb6+\\x19\"\\xace\\xc4JT\\x9aH\\xf1i\\x8e+V?cD\\xd1\\xf4\\xc2x\\xd4\\xed\\x1aR\\x9c\\xfb\\x8f9\\xc1=\\xa9%=\\xd7%\\xc0\\xfc\\xd1\\x86c%\\xe6]K\\xd7\\xa1c@\\x9f\\x08\\xd77p\\xc6?\\xad\\x87_\\xb7\\xad\\x1a^\\xe6/\\xd8\\x00]\\x8fidlx\\xd50\\xd8>p\\xa1\\xa6t\\xfeR\\x13\\xfeO\\xda\\x973\\xf1\\'\\x13_\\xa2\\x8b\\x9b\\xd9\\tn\\xa9\\x10nU_\\xbb\\n\\x07\\xc8\\xddZ\\x8c\\xdd\\xb9\\x11\\xf3C\\x13\\xae\\x95\\xbb\\x10\\x06\\xa8\\x86\\xe9#3\\x82\\xbbm\\x0e\\xc7l\\x0e\\xeaz\\xa8\\xc7\\xac\\x92\\x14\\x16\\xf3\\xb3)dfe\\xdc\\x14\\x17!\\x00\\xd7\\x10{MR\\x0c\\x11\\x02\\x83\\x9aV\\x00\\x97\\'\\xa9,}=\\x85g\\xc7\\xdc\\xac\\x88\\xf1HCs\\x1d\\x9d\\x9e\\xec\\xb5\\x8a\\xe2X\\x9dX\\x16^\\x9a\\xd1\\xeej6\\x18\\xc70~`6yw\\xbe\\xbe\\xe0\\x81V]\\xd5\\x81\\x94\\x11\\x1dtL\\xf9w\\x03\\xab<gD\\x11\\xcc@\\xd8Q\\xf6\\x1f\\xa1\\xdd\\x0b\\xc9\\x1c\\x80;\\rh\\x11\\xf7\\xeb\\xdc\\n:\\xb8\\x99d\\x8f_[.\\x87}\\x8a\\x84uI\\x1c\\xa9\\x8d\\xf7\\xd8\\x81\\xd4o\\xfat\\x07\\xd8j\\xa2W\\xf62f\\xaf\\xdcAp\\xe4s\\xf6\\x1d\\xb7\\xef\\xd6\\xaf_\\x85\\xfe\"\\xda\\xe1\\xfc%\\xca\\xe2\\xcc*\\xcf\\xff\\x003\\xd9\\xdd\\xcaO\\xac\\x0f\\x03Dj\\x9e\\xc5\\xc3\\x99I\\xc8&0\\x80\\x81\\xd5\\xcd\\x11Y\\xe0\\xe7\\xb5\\xf3W\\xe2v\\x92!\\x12\\x00\\xbd\\xc8\\xea*\\xbeHg\\xac\\x85}\\x1f\\xb4\\xb5\\x86Q-\\x05\\xeb\\xd8\\xfb\\xfc\\xfb\\x1f\\xd0\\xc6\\xfd\\xa2a\\xa7\\x97\\x11\\x80\\x8b\\xe7k|\\xf4\\xb2\\xac\\xc8\\x9a\\x7f*]1^\\xbe\\xda\\xaa\\xd1{i,\\xf9;\\xdf\\x87\\x8d\\x9d~\"^R\\x07Ms\\x1aj\\xe3\\xde\\xfa\\xcb\\xcd+>\\xa4}\\x03\"\\xa8\\x0e5\\xec\\xdd\\xc5cM \\xe5\\x1d\\x00\\xa8kD\\xacv$\\x93\\xb2\\x7f3-[m\\xb71\\xd8\\x00\\r\\x05\\x03\\xe0A\\x9b\\x0cU\\xda[rLQ~`W\\xfa\\x88\\x14C\\x15\\xa5\\xba\\x15$\\xb3r\\xfe\\x95\\xeaI\\xb5\\xd2\\xb4\\x8d\\xc5tL\\xe0\\x08\\xe3\\xb0\\x92\\x11\\xc9\\xca\\xa0\\x03L\\xdb\\'\\xe9U\\xd3\\x1b\\x7f\\xad.\\xe9\\xcf\\x8f\\xbc\\xda\\x03U\\x9c\\xf6\\x97k\\x1bhG\\x92o\\xe5j\\x91\\xf9\\xa0tH\\xa6\\xdd\\xd4\\xc5\\xbb\\xd2\\xf7)\\x12\\xbcmU\\xd1\\xbb\\x89n\\xc5\\x1cLQ\\x19k\\t\\x94\\xd6\\x19\\xd5\\x91\\xcdbHn\\x1dy\\x82|\\xbe\\xe6\\xaf\\x96\\xd7\\xbc\\x18\\x14\\x9f\\x02my\\x95\\xec=i2\\xb4z\\xe6\\xd7_Z\\xfc\\x1c{\\xd7\\x9c\\xa7\\xbcd\\x98\\x92\\xb2\\x89\\x05F\\x86\\x1e\\xf5\\x94\\x11\\xef\\\\\\x13;\\x0b\\x1f\\xa8_tK\\x1d\\xcc\\x91[H\\xc4\\xfahT*\\x11\\xba\\x8d\\xcf\\xde\\xad\\xbd\\x9f.\\xf5\\xa5\\xebK\\xf4\\xfdV\\x01\\xa8\\xe7\\xd5\\x87\\xa7\\x88\\xcf\\xcbD\\t_\\xf8\\x9a\\xfd\\xee/\\x99w\\xd1h1k\\xd4\\xf2\\x99ew?\\xd4w_\\xad\\xd4\\xbc\\xaa)\\xa7\\xb2\\xaf\\xe51\\x94\\rm\\xc3\\xdc\\xb1\\x8fn\\x08\\xc34\\xd2\\x07\\xd5Y\\xc3\\x8f\\x94(\\x00\\xf4\\x02\\x96|\\x1a\\x12\\xde\\xdc\\x12=)\\xb22\\x11\\x1fZ\\xcf\\xf2\\xef\\xb5\\xafb\\'\\xe8\\x8e\\x97\\x89]X\\x95\\x8f\\xb4\\x8b8\\xe9k\\x1f\\xf0\\xf9\\x85O-\\xec^\\xf53a4R\\xce\\xbdF\\x85Q\\xf5\\xad\\xf8\\x86\\xb8 \\x13Z\\xcf\\x13\"*\\xb3\\x0e\\xb4\\xcalU\\xd7\\xc2\\xfa\\x86e\\xfd\\x85n\\xd8F..\\xe2\\x8cv\\xde\\xcf\\xe0Q\\xbez\\xe5bXm\\xd3^d\\xc0\\xef\\xec\\xa2\\xae!bV.\\xe67%+\\x148kG\\xb7\\xeaN\\xf4h\\xfa\\x1b\\xf2\\t&\\x84\\xd2~PUH*\\xbd*:[\\xd2\\xa7\\xb5\\x14$\\xc0\\x15\\xd4\\xa8\\x02\\x88\\xcd7\\xe8V\\xab\\x17\\x88yN[I\\x80=\\xc1\\x02\\x99_\\xc4\\xc0S\\xba\\xa9\\xde#\\xe56\\xdc\\x8a\\xd5\\xf69/z\\x89j\\xf0\\xb5b\\xbbJ\\xc2\\xca\\xf3\\xdd\\x95^\\xa3twm\\x8d1!\\x99\\x97\\xe9_\\xfe]+7\\x0e\\xe3D\\xb3\\x86+\\xdc\\xd3_/e\\x00\\xb0x\\x99z2\\x90h\\xe3d\\x01r\\x88\\xb4\\x98l\\xd8\\xb61\\x1eA\\xd4\\xac\\xd9\\xaf&K\\x84\\x924>^\\xf6\\xcd\\xd81\\xdfR>\\xde\\x94K{w\\x11C\\xc9+\\x18\\x9b\\xb6\\xce\\x86\\xc7c\\xa1\\xed\\xba\\x8e\\xbbX\\xd02\\xcf\\x1b3\\x14%\\n\\xf4Q\\xae\\x9d>\\xd4\\x14\\x1eT]\\xa8nC\\xb0?\\x07\\xefEyn-p\\xd1\\xf0a\\x0b_\\xc8\\x9bU\\'\\x93\\x97\\xb1\\xeb\\xd0\\x1a\\xcdac\\x93\\xbee\\xf8hY\\x81\\'\\x99\\xcfE\\xea}\\r2\\xf8s\\x83#\\x08\\x977\\xe9\\xb6a\\xb5\\x84\\xf6\\x03\\xff\\x00W\\xb9\\xa7e\\xa1\\xb1\\x89\\xc0e\\x04\\x05\\xd2\\xa8\\xe8\\x07\\xe0Ug\\xb9\\x16[\\xaf\\x1d\\xdb^\\xc2&q\\xfc\\x17\\x1ch\\xadw;9?\\xfd\\xb4\\xe8\\x0f\\xe4\\xd3\\x1e\\x0cDv\\xd1\"\\xc3\\x02\\xa70\\xf4\\x1dh\\xe6K\\xecD\\t\\xd5A=\\xfa\\x9dP\\xe5\\xcf\\x18\\xc4\\xba\\x10\\xc2\\x01\\x00\\x80\\xd5@\\xe4\\xbb\\x7f\\n\\x13\\n\\xae\\x1dj>\\xb7\\x02aL%\\xd3\\x92\\xbc\\x9c\\xa7\\xd8\\xf4\\xa1l\\x8d\\x9aZ\\xb9W~\\xa3\\xb8\\x15\\xa3{\\xc5\\xb9I\\x19\\xb59@F\\xb4\\xbd)ws\\x7fs<\\xa9\\x1cj\\xd3M+\\x85D\\x1dK1\\xae\\xd5\\xee\\xf2\\xcc\\x00\\x9c=txEbw\\'\\'\\x9e\\x1d\\xf4\"\\x87\\xa6\\xba\\x00\\xf4\\xafW\\x18N#\\x80\\x9f\\x89\\xb7\\x8e\\x1fu/\\xb6\\x03\\xf4\\xa0\\xa9\\xe7\\x983\\x0eRtjj\\xec\\xad\\xff\\x00\\x85\\xc3~Gr+h\\xbe\\xbf\\xe3\\xad\\x97\\xecF\\xa4\\xe4\\x97u\\xa5\\xf1\\x02\\x85\\x9a\\xe5\\x89\\xaf\"V5k\\x89\\x83\\xf9\\x08\\xc9\\xc6\\xcc\\x0bS\\x8f\\x0fs\\xd7D\\xd2#\\x12>]\\xfb\\x9ag\\xe3\\xe6\\xe5\\x95j\\xb5\\x83\\xcc\\xb9Sx\\x8e\\x1b\\x83\\xb4\\xa0\\x1b\\x99\\xbeb\\r\\x11|O4}\\xe8\\n\\xee`e=j\\xbdk\\xde\\\\\\xb5\\xbbM\\x9cf\\x0cd2\\\\\\xa7\\xa4k\\xf3=og\\xac\\x16\\x14\\xe5X\\x80Q\\xdb^\\xd4K\\xc2w\\x1c\\xb7\\x12\\x0e\\x9d@5!\\xc46\\xce|\\xdd\\x82A\\x1d\\r\\x0b\\xc8\\xb5\\xff\\x00l\\x00\\x9e\\xc0\\rF\\x1c*\\xaa\\xff\\x00M,\\x06\\xd9\\x89\\xe4b\\x97\\x87Z\\x05\\xca@%\\x8d\\x1d\\x1c\\x94*\\xc0\\x11\\xd6\\x989{\\x1b$}\\xa5\\xacJ>\\xc8)E\\x1b\\xb47\\x01\\x87B\\x8c\\x08\\xfd)\\xd73\\xb5\\xc4Jw\\xd0\\x80G\\xebR_\\xb1j6\\xfb\\x11+b\\xa8\\xb3\\x1e\\xc4\\xd7um\\x88\\x1dj!\\x17 yI\\xa3\\xe9\\xca(\\xc1a\\x81\\x86\\xc4)\\xff\\x00\\xe2*\\x11m\\xccW\\x1b\\xd7j\\x9dD}l\\x1dn\\xab\\xd8\\xc0\\x91\\xdeY\\xc6\\xa1\\x94\\x10G\\xbc\\xc7\\x13r\\xb1c\\xd9z\\xd2[\\x8bre\\xc9@~\\xa3M\\\\\\x9c\\xe2\\xde\\xd5\\xba\\xf5j\\xab\\xd9\\x1b\\xa3=\\xd3\\xb6\\xfa\\x03\\xa1D\\xb0k\\xf2\\xd1{\\xf1.W\\xf0\\xd2\\x0f\\xe7#\\x89\\xa3\\x1e\\x1f\\xb32\\xdc\\x83\\xaa\\x0b\\x1dX\\n\\xb0\\xbc#\\x8f\\x01\\x15\\x88\\xaby\\x96\\xf0\\xa8\\xc0\\xdd\\x07\\x0c\\xdd\\x96\\x0e\\xbb,j\\xd9\\xc6\"\\xb7AR#~\\xf5\\xf1\\xc0\\x1a\\xac@\\xd2\\x81;\\x9b\\x92\\xa8\\x1a\\x13x+\\x8fZ7\\xc2D\\xe1K\\x9fS@\\xc8\\xdb\\xd0\\xa6\\x95\\x89D\\x89E@X\\xc9\\x99G\\x18\\xc6\\xc59\\x8a~m\\xf7\\x15\\x9a\\xe6\\xe8\\xb3\\xdf\\xdd\\xb9\\xdbr\\x88\\xa1\\x1e\\xc2\\x87\\xe2\\xb9Z\\xda\\xe6\\x8eC\\xaa\\x9d\\t\\xdc\\x05r,\\x1cY\\xde$\\x00\\xd0VG(\\xeb(_SE\\xd99#\\x8d\\x18\\xd25\\xe7\\x92y\\xd9\\xcf\\xa9\\xe9D7\\xf4\\xf8\\x83\\x12\\xbd\\xbf\\x98F\\xb7\\xf7\\x12J\\x88\\x0e\\xcb\\x1d\\x01H>6\\xc5e\\xd2\\xeb\\x9eX\\xce\\x99\\xaa\\xe6\\xf0\\xd6\\x02\\xd6o\\xe0\\xcc\\xfa\\xf3f\\xb9\\x03\\xf0\\xab\\xd4\\x9ak\\xf8\\xc3\\xc3\\x18\\xb8\\xf1PJ\\x02\\x87\\xea*\\x95\\x19\\x82\\xbc\\xa5\\x00y\\xed/fa\\x0b0\\xcf\\xd4F\\xbb\\x89\\xcf\\xae\\x19\\xb5tEb=(\\xaf)\\x04\\xd3DB\\xa9$\\x8fJ\\x92\\xb0\\x11\\xc0\\x85uV3\\xc2\\xfc5\\x8eS)8\\x9d\\x06\\x93Z\\x06\\xbd\\xcbg\\xa9\\xcd\\x9e@\\x96\\xf0\\xcd\\x16\\xe2\\n\\xca\\xe8\\xea\\x08xG\\xc2\\x9c1\\xc5|!\\xc4\\x9c5\\x9d\\xc7\\x9f\\x8b\\xb7\\x98\\xdfc&\\xfa\\x1dVE\\x0b\"\\xa3\\xfbl\\x02E*r\\xde\\x07X\\xf0\\xe4wW\\xb9L\\xec<\\xf0yF\\xce\\xc9\\x18\\x13+\\x93\\xbf\\xd5V\\xba\\xd9\\'\\x87\\xd6\\t\\x1cw\\x96r|=\\xd5\\xbf\\xcd\\x14\\xa9\\xdc{\\x8f\\xb8>\\xa2\\x91\\xbcK\\xc3\\xb8\\x0c\\xcb\\\\A\\x95K{w\\x97\\xe8\\xba\\xb7\\xb7E\"@:\\x17b\\t\\x03\\xf1@\\x1b3<d\\x9bi\\xb1\\xbd\\x16*\\xd6V;\\x91\\xa3\\xdf\\x88?2\\xcd\\x18\\x9d)\\xb1\\x9e\\x8b\\xe9SpW\\x15Z\\xc0\\x81\\xb2>\\x90u\\xf19\\xa3=\\xf0\\xd9\\xef\\xb1\\xbe\\x82\\x87M\\xf4\\x84\\xb7NZ\\xc3\\x94Iq\\x97w\\x16\\xf7\\x00\\x07\\x89\\x99I\\xf4nS\\xaee\\xfb\\x1aZ\\xde\\xf1\\n(\\xd4k\\xba{R\\\\\\xfd\\x03\\x90>\\x0c\\xce\\rf\\xbe^\\xa1\\xe0T\\x90\\xc0\\xf9\\x04C\\x9b\\xab\\x85#|\\xfa4\\x1bq\\x92\\xb7\\x8f{q\\xba^\\xdce.\\xe6\\'o\\xa1\\xec*\\x1c\\x92h\\x8ac7\\xf34\\x13fe`\\xfd\\x0b\\xbf\\xb9\\x85\\x97Y~s\\xf2\\xd1\\x0f\\x04_\\x94\\xe2\\xdcc\\xbe\\x8e\\xe4e\\x1fb\\xca@\\xa5\\x98V\\xf65\\'\\x8d\\x92X\\xaf\\xed\\xe5E$\\xc5\"\\xc9\\xd3\\xd0)\\xd95-\\xd8\\xe8\\xd8\\xd6\\xa0\\xfeda\\xff\\x00\"E\\x8d\\x97bfQa\\xf0\\xb6+k\\xf22\\xe5qh\\x12F_z\\x1a\\x1f\\xadU[\\x81\\xff\\x00\\x98qV\\xcb\\x89#y\\xedC\\x86\\xe8F\\xc0\\xd7\\xa5U\\xbc\\x8ca\\'\\xa5~\\x8cuN\\xa3\\xd7\\xe2-\\x9b\\xb9\\x01\\xda\\x03\\xcc\\xbc\\xb2\\xb8\\xfb\\xd7\\x90kv\\xf55(>\\xe2\\xb4\\x058\\x83\\xb0&tF\\x98\\xc3\\xacl\\x9f*\\xd3\\x02\\xd9\\xa9o\\x89@\\xdd\\xdbTi\\x0c\\xea\\xa4\\xd57\\xf3.\\xa7\\x81\\x0eZ\\xec,D\\x93\\xe9A\\xc6~i7^^I\\x1c\\xe8\\xfaW\\x81\\t\\xd1:\\xaf\\x10I\\\\\\xee0\\xf8z\\xe4E\\x7f\\x11=\\x89\\xd7\\xefL\\xcc\\xc6\\x8a\\xa9;\\xea:\\xd2F\\xd5\\x8a\\x94q\\xe9\\xa3O\\t\\xe4\\x12\\xd9\\x86\\xdfB\\xa0\\xd0,\\xe1\\xab\\xabo\\xd24t\\xa6\\xe5\\x8fjo\\xc1\\x06W{\\xd5\\xe4\\xba=5\\xbafb\\xa5i,!>\\xaa\\n\\x9f\\xd2\\x8231\\x05\\x940\\xa2~\\x19p\\xe9<d\\xf6\\xd3\\n\\x9a\\xd2\\x1a\\x80~\\'8\\x80\\xa6c/\\xf5\\x03\\t\\x88rk8\\x00\\x81\\xd6\\xb7\\xc4K^\\xfc\\xb5\\xa1|\\xa3\\'\\x08\\x94\\xe2\\xec\\x87*\\xb8\\x07\\xec)\\rE\\xdcAxf\\xbb+\\xbe\\xddM\\x08\\x1aq\\xa18V\\xa2b9\\xf7\\x9b\\xf2\\xdd\\xbe\\xf2_\\x1b\\x01\\x96\\xe5EZ\\xac4+\\x05\\xba\\xd2\\'\\x86,K\\xc8\\x1bUaQ\\n\\xaa\\x81\\xe9K\\xd9\\xf6\\xf2}MO\\xf0\\xe6\\'\\xa7\\x8d\\xcc\\x8e\\xed&\\x8b\\xecW\\xc0Eh\\x80\\xd5\\x9bEh,{\\xd4\\x90\\x8b\\x97\\xcc_\\xcd\\x1cE9\\x03\\xbd/\\xa3:;\\xa3+(\\xdaR+\\x9d\\x12\\xc2F\\xfa\\x08{\\xc2d\\x9c\\xf4\\xa9\\x18\\xaeJ\\xefu\\xee\\x0c{rn\\xb4n 1\\x8a1]CB(d_\\xdc\\xc1\\xcc\\xf5\\xd6\\xe1:=[\\xa5\\x00B\\xa0j\\x88r$\\xbb\\xaa\\xd4\\x1b/-Kjig\\x18\\xaf\\xc9\\xe3\\x1f\\x01\\x986W\\xb0L\\xc4\\x9f)HA\\xed\\xba\\xda\\xe3.,\\xbb\\xcc\\xf9q\\x92B%-#\\x9bU\\x89\\xe4\\xe7sK\\xb6 \\x16\\x07\\x1eDs\\xa4\\x07N\\'\\xc4\\xcf\\x04<\\xaa=i\\x85\\xc39y\\xb0\\xf7\\xe2dm\\x03K\\x91+-z\\xf8\\x83\\xefQ;\\xbb\\xa9\\x0cv\\x0c \\x94R\\x84\\x15Y{\\x1b\\xc6%\\x16&?R\\xba\\xa4\\x96[\\x8d\\xfe$0U$\\x9a@\\xfcA\\xf7\\xac\\xeb=P\\xaa\\x8e\\x07`\\x99;\\xad\\x07\\xf9D\\xf7\\x91\\xb2\\xb5\\xcb\\xca\\x89{\\x00\\x922\\xda\\xd7f\\x00\\xff\\x00i\\xf4\\xa5W\\x8a>\\x17Xp\\xf5\\xea\\x0b;\\xa9Z9-\\xa1\\x99\\x12P\\t\\xd4\\x83}\\xc55\\xd6r\\x1d\\x0e\\xfb\\x10jC\\xc6\\x8c\\x94\\x1f\\r\\x84~p\\xee\\xf8\\x98z\\x8e\\xe0 +\\xa3\\xf7\\xab\\xd4\\xdf\\x9c:\\x9e\"Wc\\x05}\\x86_n\\xdd\\xe0\\xcc\\xca:Rt\\xdc\\xc7\\xba\\x85n)\\xb0|6\\xfc\\x005(\\x15\\xdd\\xbcP\\x05P\\x9bc\\xdb\\xde\\xa2D,YW\\xfa\\x9b\\xfcT\\xc0\\xb8\\xd3\\t\\xe4\\'\\xcc?F\\xbd\\x00\\xe8+N\\x0eq\\xcd&\\xbef\\xf9S\\xf2}kO\\x1b\\x02~\\x7f:&\\x16M\\x0b\\x0b{t\\x8c\\xba\\xc7#\"I\\xa1\\xdc\\x8e\\xbd\\xfe\\xda\\xa8\\x1bn\\x82\\xf8\\xafFX\\xf45\\xecN\\xa8\\xceEm\\xda\\';\\x04\\x89f\\x03}\\x83h\\x06\\xa1\\x0b2K\\xdf($\\x02?_\\xaa\\xa1_\\xe12\\xc3\\x1f\\xa8~\\xbf\\xe2\\\\K9\\x8d\\xef\\n\\xd9M\\xbd\\x93n\\x9d~\\xe0j\\xab~y9d\\x14\\xe1\\xe0\\xab\\x86\\x9b\\x83\\xd1;\\x98\\xa5\\x91?M\\xef\\xfe\\xf4\\xae\\xe2\\x08\\xd7\\xad(\\xe0\\xaf\\xa7\\x99r{\\x0b\\x08\\x13B\\xea/\\xebt\\xecw\\xf7j\\x94\\x98\\xb8\\xba^dSQ:\\xd6\\xaaw\\xbcG\\xdcT@\\x1f!`uN\\x0b3\\xc7\\x1fT\\x91\\xc7\\xcb\\xc9.\\xbd\\xe8\\xd25%I\\x1dt:\\xd2\\xf5\\x0f/)\\x1d\\xc1\\xa6~5D\\xd0\\xfeWu\\xc3\\x8e\\xf2T=\\xa6\\xfd\\x90\\xf3$\\xe5\\xf5\\xa3X\\xb1\\xcc\\xc3\\xe9\\xa0{\\x06\\xe4\\xbdM\\xfb\\xea\\xac]\\x84Q7&\\xc7q\\\\\\x83\\xa6\\x9d\\x10J\\xc5q\\xb1tC\\xd3\\xb5\\x1bcgg\\xb1E\\'\\xa0\\x05O\\xe9G\\xcf\\x8b\\x89\\xd1\\x86\\xbd)\\x7fe\\t\\x86[\\x98\\xbd\\x9c\\x11\\xfa\\xd0\\xfc\\xf4\\rI#\\xca\\x90a\\x9e\\x91c&H\\x04\\xf6`D^\\xe7\\x01;\\xe9Z\\x98\\x0b\\x9f&\\xfa-\\xf6pP\\xfe\\xb4I\\x9b\\x80\\xf30\\x1dN\\xa9f\\x85\\xd1\\x8e\\xba\\x15;\\x07\\xee*\\x9d\\x1f]\\x04ByD\\xd3\\x96\\xae;\\xe8\\xcb\\x0e\\xa4\\x96\\x03\\xef[\\r\\xaeb\\x14t\\x06\\xa0,\\xee\\x96\\xe6\\xd6)\\x94\\xfdC\\x7f\\x82;\\xd6\\xe39$\\x9d\\xd0\\x92\\xa41\\x1f\\x11\\xb1]J\\x82;\\x826%)yZI\\x1d\\xcfv5\\xe5Ay\\x14V\\x1a\\x9e\\xc4\\xc1\\xe6\\\\\\nxv\\n\\x84\\xcc+\\x1a\\x93e\\xe8\\xbf&>8b\\xd9c\\x85I\\xa6G\\x98\\x94\\x11f<\\xb8\\x14\\n4\\xc5YMt\\xdd\\xbaR]\\xa0\\xb3\\x937\\x8cfZ\\xa8D\\xd7\\x81$!Wr4\\xa4\\xd4\\xe0\\xb0\\x94\\xafj;\\xb0\\xc4\\x08\\xd4ije\\xedyGj\\x9a\\xaaA\\x95\\xaf\\xce\\xd4T%\\x8c\\x8b\"\\x82=i\\xab\\x8b\\xc7\\x14\\x8c1\\xeej\\x18\\xc6|\\xf5\\xd8\\xe8\\r\\x1a\\xc78T\\x15x\\xd2\\x06\\xbb@\\xcd\\x9aX\\x1e\\xf2]SKPwh\\x19H\\xd5o\\xa5\\xd2\\xfb\\xd6\\xc1\\xe4qS\\x85\\xd0\\x81\\xda\\xceF%\\xef`\"c\\xd2\\x86\\xae\\x97\\x93T\\xd3\\xca\\xc0\\x03\\xec{R\\x9a\\xf1\\x9b\\x9c\\xd47\\x9f\\xa6\\x17\\xc2_\\xaaF\\x07\\xebY9\\x82\\x8a\\xd4]\\xee\\xbf>\\xe8\\x0b\\r\\x98\\xe9[q\\x13\\xdb\\xcdX\\x84\\xbdkV\\xb2\\x80*>\"O\\xcd\\x8c\\xdf\\x8d\\xb6jH!\"\\xa3!Q\\xba\\x9f\\x8c\\rW\\xa0\\t\\xe1-1\\x04\"\\x8c8\\xdd-\\xee\\xec0,\\xd0E\\xd6\\xc5\\xe2\\']\\x949\\x1dhs\\xa5\\x1bg\\xe5?\\xf2\\xd6\\x02Y5\\xca\\xa2\\xe5\\x01\\xfe\\xe3\\xb0\\xda\\xa0}Cj\\xf8\\xcc\\xbb\\xdf&\\x1d\\xbe\\xe2\\x16\\xc0\\x01\\xd9\\xd5\\xf5\\xad\\x03\\xdes\\xf3\\x89-9r\\x92\\xa78\\x1a=\\xb5\\xad\\xfa\\n\\x82\\xb7S\\x11\\x92fS\\xcb\\x11\\xe5A\\xee\\xf4g\\xc6p\\xb7\\x9e%\\xfe\\xee\\xb5\\xf3\\x05g\\x15\\xfd\\x9e\\xdaR\\x85\\x1c\\x00\\x81K\\x8d\\xa8\\xfa\\x8f\\xe4\\xd6\\x9d\\x89q|J\\x99\\x8e\\xce\\xb4f\\x15\\xd5q\\x12\\xae\\xa7}u\\xaf\\x11\\xb2\\xca>\\xd2)\\x19\\x95\\xe2\\x8d\\x89&\\x1bw\\xdf\\xd9\\x98\\xd4F4\\x94\\xf8\\xd9\\xb9A\\xe4\\xd1\\xd7q\\xd0\\x93\\xd6\\x8c\\xef\\xb1\\x17\\xd0\\xbc\\xae\\x15]\\xa4\\x08\\xbb\\xde\\xba\\'^\\xbb\\xf547\\x1e>\\xea+ya+\\xa9\\'p\\xbd\\x1b\\xa0\\x06\\xae\\x06\\x109\\xad\\xc1\\xee\\xbe#\\xdf\\xc3\\x19\\xe1\\xfe\\x1by\\x0c\\x8a~\\x93#\\x7f\\xef\\xd8\\xdd\\tq\\x1cCO\\xbd\\xec\\x1f\\xfa\\xd6N\\x0f\\xba\\x11g\\xda\\x05a\\xcb-\\x91\\xed\\xee\\x86\\xa7\\xf8\\x96\\xd5v\\xee\\x17\\xa1\\x02\\x95-\\xfd\\xdfS\\x7f\\x87\\xe2D}\\xc6\\xfd\\xefE\\xac{\\xa7%?\\xe6W\\xe1\\xf4\\xb0\\xfb\\x1a\\x8d:\\xf8e\\xf7\\xa9\\xaeP%aP\\xf2\\xaf(\\x0bMk\\x10\\xec\\x1a\\x98\\x9b\\xa3\\n?\\xc0^\\x08\\xf6\\xa4\\xfe(\\x16^\\xaf\\xf9\\xa9\\x0b8\\xe4\\x12\\x02\\x07c_0\\xda\\xceQ\\xb4\\xc24\\xa1O2\\xf3k\\xef\\xb1O\\xeco1\\x85=\\xc5)\\xf0\\xb6A\\xa4\\x8d\\xb5\\xf5S\\xe6\\x18\\x04j\\xbf\\x8a\\x83cbY\\xd1\\xd1\\x84)&\\x97\\x7fj\\\\\\\\:\\xaeT\\xfb:\\x91ES\\xdd*Dz\\xd2\\xa2\\xee\\xf4|H}\\xf6a\\\\0\\x0c\\x18|\\x89b\\xb6(\\xc8\\xdf\\x04\\x19\\xbd\\x95N\\xdd\\x8d-Z\\x15\\xf3M3.\\x88\\x90\\x12(\\n\\xe66W\\xddA\\x8e\\x9cWR\\xeem\\x9c\\x9bp\\xb3\\x01\\t[)\\x17\\xafI\\x9bTB{\\xd0\\xd6\"\\xfa\\x18\\xe1*\\xee\\x17\\xe6\\xa2\\x16\\xbc\\xb2\\'~p\\xaaW\\xd0M\\x8c@=\\xcc3\\x87\\x98\\x8bB+0\\xec=\\xcc\\xa4\\x87t\\xcf\\xe1\\xdb2t\\xd5\\x8e,:L\\x8a\\xfb\\xdbn\\x98vV\\xcbl\\x80z\\xea\\xaee^\\xa58\\x88#\\xa5t\\xe7KE\\x8c;{B\\x98\\x13\\x99\\xd5}\\xcdX\\xac\\x1c\\x10E\\x12\\x80\\xb5^m\\'_5I4\\xe6\\xc7_ \\x0b\\xf3R\\xdb\\xef\\xb4~\\xd8\\xe2c\\xca\\x0f\\'\\x96\\xb5\\xae\\xa3R:P\\x7f\\xf18\\x94\\x80\\x1a\\xa4W$\\x8c\\xbd\\xea\\xed,D]\\xc9\\xd1\\'\\xbc\\x1f\\xba<\\x8ej(\\xe4t5\\xba\\x8f\\xcc\\xdf\\xc7\\x19bZ\\x94\\xf7\\x19\\xb8vv\\xf4lh\\xa81|\\x92\\x18\\x88\\xe3L\\xa0\\xdfz\\x9e\\x87*\\x9a\\xea\\xd5W\\x0el\\x06\\xe8\\xf5-\\x1ep\\xeb\\xea\\xaeH\\xed<S\\xa6\\xef\\x1e\\x19,\\xa2\\x90N\\xe8\\x10\\xeaQK{\\x9c\\xd3K \\x1c\\xdd\\x05J[\\xe4\\xf4;\\xd0\\xfbQ\\xca\\xc6,K\\xeaV\\xf3\\x08X\\x04$V\\x12\\xcahr\\xf7#\\xb1\\xb0h{\\xf8\\xa1\\xf7\\xa1\\x7f\\xb3\\xb9\\x8d\\x036\\xadC\\x96\\x15\\xf00\\x1e\\xb4\\x08rN}\\xeb\\xe7\\xc6Lk\\xb1\\x8bd\\x8d\\xba\\x8d\\x03\\xdcF\\x1a\\xca\\xa0\\xf7\\xad\\xc1t\\xa3\\xfa\\xa9b.f\\xad\\x814\\xc7\\xd6\\xa4\\x18vJ\\xed\\xd5\\xf1G\\xf3\\x08\\xc7\\xf8\\xe5\\x1e\\xb4{\\x98\\x7f\\x88\\xe0\\x0cl\\xaa\\xdb\\xf2\\xef\\xe4C\\xb6\\xe9\\xa6Oo\\xd2\\x90@\\xcc\\xc3\\xbd:\\xb1\\xe9\\xe6xwt\\x1aC\\xfc\\xac\\x9cg^\\x9dT\\xd0n\\xa7\\x8e\\xd5\\xd5K\\x9fk\\x97\\xfb\\xecB];\\xa8S\\x91u\\x95)\\x1b5\\xb7\\xf6\\x95s\\x8a!2[\\x9fW\\r\\xa0(\\x8f\\x15\\t\\xc5c#\\x81G\\xf3\\x1b\\xe6v\\x1e\\xacjRX\\x80\\x99\\xa4\\x91w\\xa3\\xd3\\x98z\\x8e\\xe6\\xa0\\xa7\\x99\\x99\\xcfZq\\xe9\\xe8\\xeb\\x88\\x9c\\xbd\\xfb\\x81\\x10\\xfa\\xc5\\x95\\xb6{\\x14\\xeeTq&D^9\\x91\\x98\\xb3\\x13\\xaa\\x1a\\x9c\\xb7\\xa3T\\xbc\\xee6u\\xfb\\xd4\\x0b\\xbbn\\x8a\\xe8E\\xb2L\\x96\\xc0L-\\xf36\\x92\\x8f\\x97\\xe7Tb\\x0fM\\x1e\\x94\\xfd\\xe2\\x0bF\\xf8t,\\x07Pj\\xae\\x17*\\xc0\\x8e\\x84u\\x06\\xad|\\xb7\\x1f\\x1f\\x82\\xb7\\x90u>H?\\x9d\\xd2\\xafUB\\x97Q`\\xfb\\xa9\\x8e]\\x0e\\xc0\\xd4d\\xd4}\\xb4\\xc2U\\x1b\\xb4\\xe5\\xb85\\x07r\\x87\\xcd\\x1e\\xc7\\xad\\x19\\xe6\\xa1\\x0b1`(Z\\xe0\\xb0U`~\\xc6\\x98\\xe8~H\\xa7\\xed\\x142\\xab\\xe3c\\x83\\xecf\\x1bh\\x1aY\\x87Jb\\xd8\\xdaF\\xb45j\\xc6+p\\xc7[\\xa9k\\x1b\\xb2\\xf2~MH\\xecu*\\xa2\\xae\\xc4w\\xe1\\xa3\\xd7(\\xf6\\xedM\\tf\\xd2R\\xd7\\n\\x84\\x854ypTFhyo\\xaa\\x14\\n8\\xc0\\x9c\\xb5\\xff\\x00*\\xb0\\xdd)g\\xbd\\xdb\\x1e\\xb5\\xbd\\xc4\\x17\\xe3\\xcdd\\x06\\x80Ar*\\xd2\\x8fyU\\xdb\\xda8\\xecn\\x8c\\x96\\xc8w\\xd7\\x96\\xbeH\\x03ot+\\x83v0\\xb2\\x93\\xf4\\xb7\\xf85:\\xd3\\x05,=\\xaa\\x98\\xb7\\x8d\\x8c\\xb0\\x9bS\\xce\\x84\\x7f\\xb4\\x8d\\x99Ln*r\\x19\\x14\\xc6;T-\\xc3\\x87\\x8f\\xee+N;\\x82\\x17\\xbd[\\r\\xb5\\x83\\ni\\xa4\\x1d\\xb5\\xe0\\x8d5[G h&w`\\xc3F\\xbe,\\x8dP\\xfa*L0\\xb9n\\x00\\x03\\xda\\x1a\\xad\\xfb\\x07\\x06\\x8e\\xac\\xb3d\\x01\\xb6\\xa4\\xc8f\\xddeI]{\\x1a\\x8d\\xa9B\\'c*\\xcf\\x99c\\xe3\\xcd\\x93\\xd4\\xb5o\\xaf\\x10\\x85\\x1fUW\\x94\\xbb\\x9c\\x0f\\xaa\\xb5g\\xbd\\xb8\\n\\xdf5p\\xb4\\xca\\xf6^a\\x96\\x7f\\x89\\xa4\\x9e\\xe4\\xa27OSK\\xe7\\x96FbK\\x93P!\\x99\\x9c\\x92z\\x9a\\xdb\\x04\\xd1@\\xa0(\\x81\\xcd\\x85\\x98\\x99\\xb4\\xd7\\x12\\x0e\\xc6\\xb7\\xed\\xf2\\x0eF\\x89\\xa8\\xc4@\\xcb\\xd6\\xb1r*\\x9e\\x95\\xf1\\x03S\\xeeM\\xb8c\\x15\\xc0\\xa9\\xb4\\xb8 \\x0e\\xb4\\x08\\x8cuS\\x10;\\x1a\\xaa\\xc3f\\x10C\\xc4n\\x18\\xf3\\xf3\\xafZ\\xd2\\x11\\xe8\\xd7\\xc8\\x98\\xea\\xb7uW*\\xc6Ox\\xbf\\x97\\xd5o\\xf0\\xbd\\xa6DD\"\\xb6W\\x94\\x1a\\xd3N\\x95\\xb8\\xa0\\x15\\xd9\\x15pT\\x9f\\x108\\xc9\\xc9\\xb0\\x91\\xcel\\xe9~\\xd5\\x99H\\x03\\xb5G\\x13\\xd4\\xd6@\\xc6\\xbd\\xe0\\xb2\\xa3]o\\xf5\\x19(&\\x02\\x998|\\x94+\\xc2y\\xd8\\x9eE\\x0cg\\xb6h\\x90\\xfa\\xb7PO\\xe8\\x05(K\\x1a\\xd9B|\\x89N\\xe8~n\\x15W\\xd3\\xc1\\xbcsF\\xff\\x00\\xd5\\x81\\x87\\xfa.~F>z\\xd8\\xa7\\xb8K\\x07\\xfe\\xcaF\\xe6\\xa5\\xed\\xc8f4\\x1d=\\xc7\\xa0\\xac\\xd7.\\xc7}}(~F;\\xa9a\\x82\\xc7s\\xf4\\x8eH5\\xa6\\xe5uX\\xd8\\x9a\\xc3\\\\\\xce&&=\\xcdX\\x9e\\n\\xbc\\xf3\\xb0\\x82=\\xec\\xc4\\xcf\\x19\\x1fc\\xd4UsoZmp\\x04\\xae$\\xc8/\\xa0To\\xd7\\xb5\\x06\\xea\\xa8\\x1b\\r\\x8f\\xf4\\x90D;\\xd1-)\\x9e\\x83\\xd9\\xd5\\x94\\xff\\x00\\x99\\x19\\xc4V\\xac$pGbE,\\\\\\x13\\x13\\x0fjx\\xf1*\\x834\\x87\\xdc\\x03I`>v\\x1f\\x9a\\xeb\\x01\\xc9\\xa1g\\x9dV\\xb02O\\xdfs\\x03\\\\n0*W\\x11\\xb6\\xb8Z\\x144W\\x87$I\\xba,\\xdd\\x94\\xc5\\xc4\\xee\\xe2Y\\x1c|\\xf1\\xc3\\x10\\xebX2Y\\x85H\\x1fG\\xd2\\x97+s6\\xbe\\xaa\\xd3\\xb8vn\\x84\\xd0\\xd0\\xbbh`\\xb6\\x96\\x08M#\\xcb;;z\\x9a\\xdc\\x8dzW\\x87Q\\xcd[1\\xd5\\xc3\\x07\\x88E\\x87$\\\\\\xb2\\xfa2\\xff\\x00\\x91R\\x17\\xcc\\x16m\\x03ZX\\xde\\x93#\\x0e\\xfb\\xad\\x8b\\xbe\\xb3P\\xf6]\\xdf\\xbf\\xb41[\\xeb\\x17_\\xfe\\xa65\\xea+\\x1f\\x95\\xf7\\xad\\xa8\\xc0\\xd5ybwRw\\x90\\x10\\'\\xff\\xd9'"
      ]
     },
     "execution_count": 13,
     "metadata": {},
     "output_type": "execute_result"
    }
   ],
   "source": [
    "res.content"
   ]
  },
  {
   "cell_type": "code",
   "execution_count": 14,
   "metadata": {},
   "outputs": [
    {
     "data": {
      "image/png": "[encoded data removed]",
      "text/plain": [
       "<IPython.core.display.Image object>"
      ]
     },
     "execution_count": 14,
     "metadata": {},
     "output_type": "execute_result"
    }
   ],
   "source": [
    "with open(\"test.png\", \"wb\") as f:\n",
    "    f.write(res.content)\n",
    "\n",
    "img = Image(filename=\"test.png\")\n",
    "img "
   ]
  },
  {
   "cell_type": "markdown",
   "metadata": {},
   "source": [
    "## 2. 인증 절차가 필요한 API\n",
    "대부분의 유용한 API는 무작위 요청을 방지하기 위해, 사용자 인증 정보를 요구합니다."
   ]
  },
  {
   "cell_type": "markdown",
   "metadata": {},
   "source": [
    "### 2-1. 네이버 검색 API 활용\n",
    "예제코드는 : https://developers.naver.com/docs/search/blog/"
   ]
  },
  {
   "cell_type": "code",
   "execution_count": 15,
   "metadata": {},
   "outputs": [
    {
     "name": "stdout",
     "output_type": "stream",
     "text": [
      "{'display': 50,\n",
      " 'items': [{'description': '이번 독거노인 주거환경 개선에 필요한 건축자재와 기술인력은 <b>삼양</b>건설(대표 '\n",
      "                           '윤현우), 삼원건축(대표 이은찬), 정화환경(대표 이병홍, 이병균)에서 지원했다. 남걸우 '\n",
      "                           '회장은 &quot;도움을 준 업체와 회원들께 감사드린다&quot;며... ',\n",
      "            'link': 'http://www.cctimes.kr/news/articleView.html?idxno=587866',\n",
      "            'originallink': 'http://www.cctimes.kr/news/articleView.html?idxno=587866',\n",
      "            'pubDate': 'Thu, 17 Oct 2019 20:30:00 +0900',\n",
      "            'title': '원남면 우리회 저소득 독거노인 주거환경 개선'},\n",
      "           {'description': \"이날 '우리회'는 <b>삼양</b>건설(대표 윤현우), 삼원건축(대표 이은찬), \"\n",
      "                           '정화환경(대표 이병홍·이병균)의 도움을 받아 담장이 무너져 안전에 취약한 상태의 집수리를 '\n",
      "                           '진행했다. 음성군 제공[충청투데이 김영]',\n",
      "            'link': 'http://www.cctoday.co.kr/news/articleView.html?idxno=2029833',\n",
      "            'originallink': 'http://www.cctoday.co.kr/news/articleView.html?idxno=2029833',\n",
      "            'pubDate': 'Thu, 17 Oct 2019 19:58:00 +0900',\n",
      "            'title': '음성 원남면 우리회, 저소득 독거 노인 주거환경 개선'},\n",
      "           {'description': '충청매일 CCDN 충북 음성군 원남면 우리회(회장 남걸우)가 17일 '\n",
      "                           '<b>삼양</b>건설(대표 윤현우), 삼원건축(대표 이은찬), 정화환경(대표 이병홍, '\n",
      "                           '이병균)의 도움을 받아 담장이 무너져 안전에 취약한 저소득 홀몸 노인주거환경... ',\n",
      "            'link': 'http://www.ccdn.co.kr/news/articleView.html?idxno=612076',\n",
      "            'originallink': 'http://www.ccdn.co.kr/news/articleView.html?idxno=612076',\n",
      "            'pubDate': 'Thu, 17 Oct 2019 19:55:00 +0900',\n",
      "            'title': '음성군 원남면 우리회, 독거노인 주거환경 개선'},\n",
      "           {'description': '안창남 의원(무소속·제주시 <b>삼양</b>·봉개동)은 &quot;행감이 아니라 국토위원회 '\n",
      "                           '국감장 같았다. 강성의 의원이 국회의원으로 보이더라&quot;며 &quot;국가정책으로 '\n",
      "                           '4조원이 넘는 대규모 사업을 하는데 항공길도 해결 안했는냐 하신다. 제발... ',\n",
      "            'link': 'http://www.jejunews.com/news/articleView.html?idxno=2148773',\n",
      "            'originallink': 'http://www.jejunews.com/news/articleView.html?idxno=2148773',\n",
      "            'pubDate': 'Thu, 17 Oct 2019 19:00:00 +0900',\n",
      "            'title': '제2공항 공론조사 놓고 연일 날선 신경전'},\n",
      "           {'description': '▲ 낙찰업체 : 주식회사 온건설, 계약금액 : 2,200,000(원), 계약명 : '\n",
      "                           '서울<b>삼양</b>초 본관동 4층 연결복도 천정 친환경 텍스교체공사. 계약기관 : '\n",
      "                           '서울특별시교육청 서울특별시성북교육지원청 서울<b>삼양</b>초등학교, 계약일자... ',\n",
      "            'link': 'http://www.fintechpost.co.kr/news/articleView.html?idxno=79936',\n",
      "            'originallink': 'http://www.fintechpost.co.kr/news/articleView.html?idxno=79936',\n",
      "            'pubDate': 'Thu, 17 Oct 2019 18:10:00 +0900',\n",
      "            'title': '[17일 낙찰/계약 동향] 2019년 분당구 관내 하수관 2차 CCTV촬영(3구역), 201...'},\n",
      "           {'description': '이날 행정사무감사에서 안창남 의원(무소속, 제주시 <b>삼양</b>동·봉개동)은 전날에 '\n",
      "                           \"이어 '제2공항 건설 갈등 해소를 위한 도민 공론화 지원 특별위원회'(이하 공론화 특위) \"\n",
      "                           '구성 결의안에 대해 문제를 제기했다. 안 의원은... ',\n",
      "            'link': 'http://www.jejuilbo.net/news/articleView.html?idxno=132286',\n",
      "            'originallink': 'http://www.jejuilbo.net/news/articleView.html?idxno=132286',\n",
      "            'pubDate': 'Thu, 17 Oct 2019 18:05:00 +0900',\n",
      "            'title': \"제주도의회, 제2공항 공론화 '고심' 깊어지네\"},\n",
      "           {'description': '<b>삼양</b>홀딩스가 금일 지주회사 테마주의 최고 인기주로 '\n",
      "                           '자리잡았다.<b>삼양</b>홀딩스는 금일 64,600원 선에 최종 거래가를 형성했다. 이는 '\n",
      "                           '전일 대비 800원( +1.25%%) 상승한 것이다. 또한 9,199주의 거래량으로 '\n",
      "                           '활발한... ',\n",
      "            'link': 'http://www.speconomy.com/news/newsview.php?ncode=1065603895435430',\n",
      "            'originallink': 'http://www.speconomy.com/news/newsview.php?ncode=1065603895435430',\n",
      "            'pubDate': 'Thu, 17 Oct 2019 18:05:00 +0900',\n",
      "            'title': '[국내증시브리핑] 지주회사 테마 <b>삼양</b>홀딩스 우세로 장마감'},\n",
      "           {'description': '대상 가구는 담장이 무너져 안전에 취약한 상태로 피해예방을 위해 우리회 주관으로 '\n",
      "                           '<b>삼양</b>건설(대표 윤현우), 삼원건축(대표 이은찬), 정화환경(대표 이병홍, '\n",
      "                           '이병균)의 도움을 받아 집수리를 실시했다. 남걸우 회장은... ',\n",
      "            'link': 'http://www.ccdailynews.com/news/articleView.html?idxno=1031752',\n",
      "            'originallink': 'http://www.ccdailynews.com/news/articleView.html?idxno=1031752',\n",
      "            'pubDate': 'Thu, 17 Oct 2019 17:56:00 +0900',\n",
      "            'title': '음성 원남면 우리회, 저소득 홀몸노인 주거환경 개선'},\n",
      "           {'description': '▲ (49위)<b>삼양</b>식품, 주가상승률 : 약 1.95% (거래량= \\xa0'\n",
      "                           '49614주), 17일 <b>삼양</b>식품 \\xa01,600원 상승, 시가총액 '\n",
      "                           '6298억원, 회전율 : 약 0.65% (=하루거래량/상장총주식수= \\xa0'\n",
      "                           '49614주/7533000주), <b>삼양</b>식품 주가는... ',\n",
      "            'link': 'http://www.fintechpost.co.kr/news/articleView.html?idxno=80000',\n",
      "            'originallink': 'http://www.fintechpost.co.kr/news/articleView.html?idxno=80000',\n",
      "            'pubDate': 'Thu, 17 Oct 2019 17:52:00 +0900',\n",
      "            'title': '[표][(17일/코스피 주가 Top 50 상승률] 키다리스튜디오 주가 상승률 1위 8.5...'},\n",
      "           {'description': \"특히 동화낭독극 '<b>삼양</b>동화'와 피아노 토크 콘서트 '유럽 음악도시 기행' 등 \"\n",
      "                           '리허설룸에서 개최된 무료 공연에는 이른 오전부터 가족단위의 관람객들이 좌석을 꽉 채우며 '\n",
      "                           '뜨거운 호응을 보였다. 한편 전석 1만원으로... ',\n",
      "            'link': 'http://www.fintechpost.co.kr/news/articleView.html?idxno=80002',\n",
      "            'originallink': 'http://www.fintechpost.co.kr/news/articleView.html?idxno=80002',\n",
      "            'pubDate': 'Thu, 17 Oct 2019 17:50:00 +0900',\n",
      "            'title': '[인천광역시청/종합] &quot;아트센터 인천 원데이 페스티벌에 5천여명 관객 몰려…...'},\n",
      "           {'description': '10월 17일 현재 <b>삼양</b>옵틱스(225190)이 전일 대비 0.38%로 '\n",
      "                           '13300원 을 기록하며 장을 마감했다. ●<b>삼양</b>옵틱스 최근 종가정보●17일 '\n",
      "                           '기준 <b>삼양</b>옵틱스 종목종가<b>삼양</b>옵틱스의 시가총액은 1336억원, '\n",
      "                           '상장주식은... ',\n",
      "            'link': 'http://nbntv.co.kr/news/view/693065',\n",
      "            'originallink': 'http://nbntv.co.kr/news/view/693065',\n",
      "            'pubDate': 'Thu, 17 Oct 2019 17:46:00 +0900',\n",
      "            'title': '[특징주 종목정보] 17일 <b>삼양</b>옵틱스 마감증시 13300원...'},\n",
      "           {'description': \"특히 동화낭독극 '<b>삼양</b>동화'와 피아노 토크 콘서트 '유럽 음악도시 기행' 등 \"\n",
      "                           '리허설룸에서 개최된 무료 공연에는 이른 오전부터 가족단위의 관람객들이 좌석을 꽉 채우며 '\n",
      "                           '뜨거운 호응을 보였다. 한편 전석 1만원으로... ',\n",
      "            'link': 'http://www.news-paper.co.kr/news/articleView.html?idxno=63466',\n",
      "            'originallink': 'http://www.news-paper.co.kr/news/articleView.html?idxno=63466',\n",
      "            'pubDate': 'Thu, 17 Oct 2019 17:45:00 +0900',\n",
      "            'title': '인천광역시청(종합), &quot;아트센터 인천 원데이 페스티벌에 5천여명 관객 몰려…...'},\n",
      "           {'description': '이어 질의에 나선 안창남 의원(무소속, 제주시 <b>삼양</b>·봉개동)은 &quot;의회 '\n",
      "                           '만능주의가 아니다. 국회의원은 왜 있나. 국책사업이 안되면 우리 의회는 환경부가 제시한 '\n",
      "                           '것들이 빨리 이행되도록 이행 촉구 결의안을 내거나... ',\n",
      "            'link': 'http://www.ihalla.com/read.php3?aid=1571301631648587073',\n",
      "            'originallink': 'http://www.ihalla.com/read.php3?aid=1571301631648587073',\n",
      "            'pubDate': 'Thu, 17 Oct 2019 17:42:00 +0900',\n",
      "            'title': '제주도의회 제2공항 도민공론화 엇갈린 입장차'},\n",
      "           {'description': \"특히 동화낭독극 '<b>삼양</b>동화'와 피아노 토크 콘서트 '유럽 음악도시 기행' 등 \"\n",
      "                           '리허설룸에서 개최된 무료 공연에는 이른 오전부터 가족단위의 관람객들이 좌석을 꽉 채우며 '\n",
      "                           '뜨거운 호응을 보였다. 한편 전석 1만원으로... ',\n",
      "            'link': 'http://www.joygm.com/news/articleView.html?idxno=70425',\n",
      "            'originallink': 'http://www.joygm.com/news/articleView.html?idxno=70425',\n",
      "            'pubDate': 'Thu, 17 Oct 2019 17:36:00 +0900',\n",
      "            'title': '(인천광역시청) &quot;아트센터 인천 원데이 페스티벌에 5천여명 관객 몰려…대성황...'},\n",
      "           {'description': '특히 동화낭독극 ‘<b>삼양</b>동화’와 피아노 토크 콘서트 ‘유럽 음악도시 기행’ 등 '\n",
      "                           '리허설룸에서 개최된 무료 공연에는 이른 오전부터 가족단위의 관람객들이 좌석을 꽉 채우며 '\n",
      "                           '뜨거운 호응을 보였다. 한편 전석 1만원으로... ',\n",
      "            'link': 'http://www.jejutwn.com/news/article.html?no=62799',\n",
      "            'originallink': 'http://www.jejutwn.com/news/article.html?no=62799',\n",
      "            'pubDate': 'Thu, 17 Oct 2019 17:32:00 +0900',\n",
      "            'title': '(종합/인천광역시청) “아트센터 인천 원데이 페스티벌에 5천여명 관객 몰려…...'},\n",
      "           {'description': \"특히 동화낭독극 '<b>삼양</b>동화'와 피아노 토크 콘서트 '유럽 음악도시 기행' 등 \"\n",
      "                           '리허설룸에서 개최된 무료 공연에는 이른 오전부터 가족단위의 관람객들이 좌석을 꽉 채우며 '\n",
      "                           '뜨거운 호응을 보였다. 한편 전석 1만원으로... ',\n",
      "            'link': 'http://www.nongupin.co.kr/news/articleView.html?idxno=77042',\n",
      "            'originallink': 'http://www.nongupin.co.kr/news/articleView.html?idxno=77042',\n",
      "            'pubDate': 'Thu, 17 Oct 2019 17:25:00 +0900',\n",
      "            'title': '&quot;아트센터 인천 원데이 페스티벌에 5천여명 관객 몰려…대성황&quot; - 인천광역시...'},\n",
      "           {'description': '<b>삼양</b>식품이 ‘불닭볶음면’을 앞세워 해외시장을 공략한 성과가 실적 호조로 '\n",
      "                           '나타나고 있다. 호실적에 힘입어 주가도 2개월째 상승세를 유지하고 있다. 17일 '\n",
      "                           '유가증권시장에서 <b>삼양</b>식품은 1600원(1.95%) 오른... ',\n",
      "            'link': 'https://news.naver.com/main/read.nhn?mode=LSD&mid=sec&sid1=101&oid=015&aid=0004225542',\n",
      "            'originallink': 'https://www.hankyung.com/finance/article/2019101723821',\n",
      "            'pubDate': 'Thu, 17 Oct 2019 17:25:00 +0900',\n",
      "            'title': \"불닭볶음면 날개 단 <b>삼양</b>식품…'수출 효과'로 두 달 새 40% ↑\"},\n",
      "           {'description': \"특히 동화낭독극 '<b>삼양</b>동화'와 피아노 토크 콘서트 '유럽 음악도시 기행' 등 \"\n",
      "                           '리허설룸에서 개최된 무료 공연에는 이른 오전부터 가족단위의 관람객들이 좌석을 꽉 채우며 '\n",
      "                           '뜨거운 호응을 보였다. 한편 전석 1만원으로... ',\n",
      "            'link': 'http://www.whitepaper.co.kr/news/articleView.html?idxno=177081',\n",
      "            'originallink': 'http://www.whitepaper.co.kr/news/articleView.html?idxno=177081',\n",
      "            'pubDate': 'Thu, 17 Oct 2019 17:20:00 +0900',\n",
      "            'title': '인천광역시청, 「&quot;아트센터 인천 원데이 페스티벌에 5천여명 관객 몰려…대성...'},\n",
      "           {'description': \"특히 동화낭독극 '<b>삼양</b>동화'와 피아노 토크 콘서트 '유럽 음악도시 기행' 등 \"\n",
      "                           '리허설룸에서 개최된 무료 공연에는 이른 오전부터 가족단위의 관람객들이 좌석을 꽉 채우며 '\n",
      "                           '뜨거운 호응을 보였다. 한편 전석 1만원으로... ',\n",
      "            'link': 'http://www.idjnews.kr/news/articleView.html?idxno=102677',\n",
      "            'originallink': 'http://www.idjnews.kr/news/articleView.html?idxno=102677',\n",
      "            'pubDate': 'Thu, 17 Oct 2019 17:16:00 +0900',\n",
      "            'title': '(인천광역시청-종합) &quot;아트센터 인천 원데이 페스티벌에 5천여명 관객 몰려…...'},\n",
      "           {'description': '사조대림에 더불어 상승한 종목인 <b>삼양</b>식품 , 대상은 각각 전일대비 1,600원 '\n",
      "                           '만큼 상승한 83,600원에, 400원 만큼 상승한 22,250원에 거래되었다. 해당 증시 '\n",
      "                           '기사 정보는 작성당일 마감 종가에 기초한 것으로, 매일... ',\n",
      "            'link': 'http://famtimes.co.kr/news/view/439379',\n",
      "            'originallink': 'http://famtimes.co.kr/news/view/439379',\n",
      "            'pubDate': 'Thu, 17 Oct 2019 17:11:00 +0900',\n",
      "            'title': '[국내주간증시] 식품업종 종목 현황 사조대림 +2.58%·<b>삼양</b>식품 '\n",
      "                     '+1.95%·대상...'},\n",
      "           {'description': '사조대림(2.58%)과 <b>삼양</b>식품(1.95%), 대상(1.83%), '\n",
      "                           '대상홀딩스(1.73%), 롯데지주(1.59%), 보락(1.47%), '\n",
      "                           '<b>삼양</b>홀딩스(1.25%) 등은 오름세를, 마니커에프앤지(-5.43%), '\n",
      "                           '신라에스지(-5.36%), 체리부로(-4.48%), 마니커(-4.28... ',\n",
      "            'link': 'http://www.mdtoday.co.kr/mdtoday/index.html?no=367705',\n",
      "            'originallink': 'http://www.mdtoday.co.kr/mdtoday/index.html?no=367705',\n",
      "            'pubDate': 'Thu, 17 Oct 2019 16:50:00 +0900',\n",
      "            'title': '코스피, 닷새 만에 하락 2080선 내줘…제약·바이오株도 주춤'},\n",
      "           {'description': '㈜<b>삼양</b>꼼빠농(대표 김봉오)은 17일 평창읍사무소 대회의실에서 반려동물 관광 '\n",
      "                           '테마파크 조성사업 주민설명회를 개최했다. 이번 설명회는 사업예정부지(평창읍 종부리 '\n",
      "                           '1~3리) 주민을 대상으로 ㈜<b>삼양</b>꼼빠농의 반려동물... ',\n",
      "            'link': 'http://www.gukjenews.com/news/articleView.html?idxno=1186213',\n",
      "            'originallink': 'http://www.gukjenews.com/news/articleView.html?idxno=1186213',\n",
      "            'pubDate': 'Thu, 17 Oct 2019 16:41:00 +0900',\n",
      "            'title': '반려동물 관광 테마파크 조성사업 주민설명회 개최'},\n",
      "           {'description': '성공사례는 <b>삼양</b>식품과 신대양제지 사례를 들어 보겠습니다. <b>삼양</b>식품 '\n",
      "                           '경우는 관세청 기준 라면 수출 데이터를 통해 2016년 3분기부터 실적이 개선될 거라는 '\n",
      "                           '것을 미리 파악할 수 있었습니다. 3분기 실적 발표가 나기 전에... ',\n",
      "            'link': 'http://www.itooza.com/common/iview.php?no=2019092715344373838',\n",
      "            'originallink': 'http://www.itooza.com/common/iview.php?no=2019092715344373838',\n",
      "            'pubDate': 'Thu, 17 Oct 2019 16:26:00 +0900',\n",
      "            'title': \"[투자 고수 인터뷰] ‘현명한 투자자의 지표 분석법' 저자 ①\"},\n",
      "           {'description': '공항확충지원단을 상대로 17일 진행된 제주특별자치도의회 환경도시위원회(위원장 박원철)의 '\n",
      "                           '행정사무감사에서도 안창남 의원(무소속, <b>삼양</b>·봉개동)은 자신의 발언 기회 때 '\n",
      "                           '&quot;제2공항 공론화는 공항 건설을 발목잡기 위한... ',\n",
      "            'link': 'http://www.newsjeju.net/news/articleView.html?idxno=335276',\n",
      "            'originallink': 'http://www.newsjeju.net/news/articleView.html?idxno=335276',\n",
      "            'pubDate': 'Thu, 17 Oct 2019 16:16:00 +0900',\n",
      "            'title': '또 불붙은 제2공항 공론화 특위, 의원간 대립'},\n",
      "           {'description': '지주회사 테마 종가 상승률 상위 종목17일 지주회사 테마의 종목들 중 에서 '\n",
      "                           '<b>삼양</b>홀딩스, 하나금융지주, KB금융 등이 높은 상승률을 보였다. 가장 많이 '\n",
      "                           '상승한 <b>삼양</b>홀딩스의 종가는 64,600이다. 전 거래일과 비교해... ',\n",
      "            'link': 'http://www.gokorea.kr/news/articleView.html?idxno=531264',\n",
      "            'originallink': 'http://www.gokorea.kr/news/articleView.html?idxno=531264',\n",
      "            'pubDate': 'Thu, 17 Oct 2019 16:14:00 +0900',\n",
      "            'title': '[지주회사 테마 마감 시황] 상승률 상위 종목, <b>삼양</b>홀딩스 +1.25%·하나금융지...'},\n",
      "           {'description': '사조대림, <b>삼양</b>식품, 대상 등이 높은 상승률을 보였다. 가장 많이 상승한 '\n",
      "                           '사조대림의 종가는 17,900이다. 전 거래일과 비교해 +2.58% 상승한 가격이다. 같은 '\n",
      "                           '기간 <b>삼양</b>식품 종목은 +1.95%로 상승세로 거래를 마쳤다.... ',\n",
      "            'link': 'http://www.gokorea.kr/news/articleView.html?idxno=531202',\n",
      "            'originallink': 'http://www.gokorea.kr/news/articleView.html?idxno=531202',\n",
      "            'pubDate': 'Thu, 17 Oct 2019 16:08:00 +0900',\n",
      "            'title': '[식품 업종 마감 시황] 상승률 상위 종목, 사조대림 +2.58%·<b>삼양</b>식품 '\n",
      "                     '+1.95%...'},\n",
      "           {'description': '도시재생학교는 날짜별 오후 7시30분~9시 하늘비전교회(<b>삼양</b>로123길 54) '\n",
      "                           '청년부실에서 진행되며, 구민 누구나 무료로 참여할 수 있다. 강의는 주민주도 마을디자인을 '\n",
      "                           '비롯해 마을공동체 갈등관리, 협의체 중심 마을경영... ',\n",
      "            'link': 'http://siminilbo.co.kr/news/newsview.php?ncode=1065590031486069',\n",
      "            'originallink': 'http://siminilbo.co.kr/news/newsview.php?ncode=1065590031486069',\n",
      "            'pubDate': 'Thu, 17 Oct 2019 16:02:00 +0900',\n",
      "            'title': '강북구, 장미원시장 연계형 도시재생 팔걷어'},\n",
      "           {'description': '지주회사테마 마감 시황17일 한국거래소(KRX)에서 지주회사테마 중 '\n",
      "                           '<b>삼양</b>홀딩스, 하나금융지주, KB금융 등이 강세를 보였다. '\n",
      "                           '<b>삼양</b>홀딩스의 종가는 64,600이다. 전 거래일과 비교해 +1.25%로 상승한 '\n",
      "                           '가격이다. 같은... ',\n",
      "            'link': 'http://research-paper.co.kr/news/view/241711',\n",
      "            'originallink': 'http://research-paper.co.kr/news/view/241711',\n",
      "            'pubDate': 'Thu, 17 Oct 2019 15:56:00 +0900',\n",
      "            'title': '[지주회사업 마감 시황] <b>삼양</b>홀딩스 +1.25%·하나금융지주 +0.57%·KB금융 '\n",
      "                     '+0...'},\n",
      "           {'description': '17일 지주회사 테마주 마감시황 브리핑 17일 상장사 지주회사 테마주 '\n",
      "                           \"'<b>삼양</b>홀딩스'은 64,600원에 최종 거래가를 형성하였다. 이는 전일대비 \"\n",
      "                           '800원 만큼 상승한 상태이며, +1.25% 상승한 금액에 거래되었다. '\n",
      "                           '<b>삼양</b>홀딩... ',\n",
      "            'link': 'http://famtimes.co.kr/news/view/439328',\n",
      "            'originallink': 'http://famtimes.co.kr/news/view/439328',\n",
      "            'pubDate': 'Thu, 17 Oct 2019 15:55:00 +0900',\n",
      "            'title': \"[증시마감] 지주회사 테마주 '<b>삼양</b>홀딩스' 17일 64,600원에 거래 마감\"},\n",
      "           {'description': '지주회사 테마 17일 마감시황17일 한국거래소에서 지주회사테마 종목들 중 '\n",
      "                           '<b>삼양</b>홀딩스, 하나금융지주, KB금융 등이 차례로 상승한 것으로 나타났다. '\n",
      "                           '<b>삼양</b>홀딩스의 종가는 64,600원으로, 전 거래일 보다 '\n",
      "                           '800원(+1.25... ',\n",
      "            'link': 'http://hobbyissue.co.kr/news/view/99913',\n",
      "            'originallink': 'http://hobbyissue.co.kr/news/view/99913',\n",
      "            'pubDate': 'Thu, 17 Oct 2019 15:51:00 +0900',\n",
      "            'title': '[테마 이슈] 지주회사업 주요종목 17일 종가 <b>삼양</b>홀딩스 '\n",
      "                     '800원(+1.25%)상승·...'},\n",
      "           {'description': '사조대림, <b>삼양</b>식품, 대상 등이 차례로 상승한 것으로 나타났다. 사조대림의 '\n",
      "                           '종가는 17,900원으로, 전 거래일 보다 450원(+2.58%) 상승한 가격에 마감했다. '\n",
      "                           '사조대림의 오늘 거래량은 12,748주 였다. <b>삼양</b>식품은 +1.95... ',\n",
      "            'link': 'http://hobbyissue.co.kr/news/view/99918',\n",
      "            'originallink': 'http://hobbyissue.co.kr/news/view/99918',\n",
      "            'pubDate': 'Thu, 17 Oct 2019 15:51:00 +0900',\n",
      "            'title': '[업종 이슈] 식품업 주요종목 17일 종가 사조대림 '\n",
      "                     '450원(+2.58%)상승·<b>삼양</b>식...'},\n",
      "           {'description': '●17일 <b>삼양</b>옵틱스 종목 현황17일 현재 오후 3시 47분 '\n",
      "                           '<b>삼양</b>옵틱스(225190) 주가가 전일대비 0.38% 변동된 13,300원에 '\n",
      "                           '거래되고 있다.<b>삼양</b>옵틱스 등락률 변동가를 보면5영업일전 가격은 '\n",
      "                           '13,050원이며 시가는... ',\n",
      "            'link': 'http://nbntv.co.kr/news/view/692875',\n",
      "            'originallink': 'http://nbntv.co.kr/news/view/692875',\n",
      "            'pubDate': 'Thu, 17 Oct 2019 15:48:00 +0900',\n",
      "            'title': '<b>삼양</b>옵틱스주식현재가 17일 현재 13300원'},\n",
      "           {'description': '식품업종 마감 시황17일 한국거래소(KRX)에서 식품업종 중 사조대림, '\n",
      "                           '<b>삼양</b>식품, 대상 등이 강세를 보였다. 사조대림의 종가는 17,900이다. 전 '\n",
      "                           '거래일과 비교해 +2.58%로 상승한 가격이다. 같은 기간 <b>삼양</b>식품 '\n",
      "                           '종목은... ',\n",
      "            'link': 'http://research-paper.co.kr/news/view/241648',\n",
      "            'originallink': 'http://research-paper.co.kr/news/view/241648',\n",
      "            'pubDate': 'Thu, 17 Oct 2019 15:44:00 +0900',\n",
      "            'title': '[식품업 마감 시황] 사조대림 +2.58%·<b>삼양</b>식품 +1.95%·대상 +1.83% 등'},\n",
      "           {'description': '이 날 지주회사주를 견인한 것은 <b>삼양</b>홀딩스 종목이다. <b>삼양</b>홀딩스는 '\n",
      "                           '주당 64,600원의 거래가격으로 전일대비+1.25%의 등락률을 기록 지주회사테마주를 '\n",
      "                           '주도한 것으로 알려졌다. 코스피상장기업인 <b>삼양</b>홀딩스의... ',\n",
      "            'link': 'http://nbntv.co.kr/news/view/692845',\n",
      "            'originallink': 'http://nbntv.co.kr/news/view/692845',\n",
      "            'pubDate': 'Thu, 17 Oct 2019 15:44:00 +0900',\n",
      "            'title': '[지주회사 테마 마감시황] <b>삼양</b>홀딩스,하나금융지주 등이 상승세 주도'},\n",
      "           {'description': '종목이 상승한 가운데 하락 종목은 859개, 207개 종목은 보합세를 보였다. 파봇 로보 '\n",
      "                           '알고리즘에서 분석된 종목 중 주목할 종목으로는 <b>삼양</b>식품(003230) '\n",
      "                           '82,000원(+2.89%), 넥센타이어(002350) 9,250원(+4.52%), 등이 '\n",
      "                           '있다.',\n",
      "            'link': 'http://www.fntimes.com/html/view.php?ud=2019101715330977625dfa861173_18',\n",
      "            'originallink': 'http://www.fntimes.com/html/view.php?ud=2019101715330977625dfa861173_18',\n",
      "            'pubDate': 'Thu, 17 Oct 2019 15:34:00 +0900',\n",
      "            'title': '[마감 시황] 외국인 매도 우위... 코스피 2,077.95p(-4.88p, -0.23%)로 마감'},\n",
      "           {'description': '[자치소식] 전교생 참여로 새 교문 선보인 강북구 <b>삼양</b>초 4년 곡절 끝 연필 '\n",
      "                           '모양으로 완성 장래희망·좋아하는 글귀 등 담아 교육감에게 손편지 써 지원 부탁 공간 바꾸기 '\n",
      "                           '경험에 자신감 ‘쑥쑥’ 강북구 미아동 <b>삼양</b>초등... ',\n",
      "            'link': 'https://news.naver.com/main/read.nhn?mode=LSD&mid=sec&sid1=102&oid=028&aid=0002471613',\n",
      "            'originallink': 'http://www.seouland.com/arti/society/society_general/5793.html',\n",
      "            'pubDate': 'Thu, 17 Oct 2019 15:33:00 +0900',\n",
      "            'title': '“우리 꿈 담아 직접 교문 만들어 뿌듯”'},\n",
      "           {'description': '업계는 2018년 당시 건면시장 점유율을 풀무원 55.0%, 농심 44.4%, '\n",
      "                           '<b>삼양</b>식품 0.6%로 추산하고 있다. 하지만 2019년 초 오뚜기 진라면에 '\n",
      "                           '라면시장 1위 빼앗기며 고전하던 농심이 2월 건면을 출시, 공격적인 영업에 나서면서... ',\n",
      "            'link': 'http://www.newscj.com/news/articleView.html?idxno=675541',\n",
      "            'originallink': 'http://www.newscj.com/news/articleView.html?idxno=675541',\n",
      "            'pubDate': 'Thu, 17 Oct 2019 15:20:00 +0900',\n",
      "            'title': \"농심, 건면시장 '기폭제'… 8개월 만에 5000만봉\"},\n",
      "           {'description': '(거래량:11,493 , 거래대금 : 203 , 전일거래량 : 10,699 , 외인비율 : '\n",
      "                           '1.46%) 등락률 2위인 <b>삼양</b>식품종목... (거래량:45,051 , 거래대금 '\n",
      "                           ': 3,794 , 전일거래량 : 51,971 , 외인비율 : 3.40%) 등락률 3위 '\n",
      "                           '<b>삼양</b>사우종목의... ',\n",
      "            'link': 'http://www.ihalla.com/read.php3?aid=1571291950648427353',\n",
      "            'originallink': 'http://www.ihalla.com/read.php3?aid=1571291950648427353',\n",
      "            'pubDate': 'Thu, 17 Oct 2019 15:03:00 +0900',\n",
      "            'title': '식품업종내 상승종목 사조대림 +2.58%·<b>삼양</b>식품 +2.07%·<b>삼양</b>사우 '\n",
      "                     '+2.05% 순'},\n",
      "           {'description': '<b>삼양</b>홀딩스가 지주회사 테마주에서 가장 활발한 거래 추세를 보이고 있다. '\n",
      "                           '<b>삼양</b>홀딩스는 전일 대비 900원 상승(+1.41%)한 64,700원에 거래되고 '\n",
      "                           \"있다. <b>삼양</b>홀딩스는 15시 01분 현재까지 '8,279'주의 거래량을 \"\n",
      "                           '기록하고... ',\n",
      "            'link': 'http://www.speconomy.com/news/newsview.php?ncode=1065592918630325',\n",
      "            'originallink': 'http://www.speconomy.com/news/newsview.php?ncode=1065592918630325',\n",
      "            'pubDate': 'Thu, 17 Oct 2019 15:03:00 +0900',\n",
      "            'title': '[증시전망] 10월 17일 지주회사업종 종목 순위'},\n",
      "           {'description': '10월 17일 목요일 지주회사 각 테마별 주식 시황 목요일 14시 52분 현재, 코스피 '\n",
      "                           '상장사인 <b>삼양</b>홀딩스... 등락률 1위를 차지한 <b>삼양</b>홀딩스종목의 '\n",
      "                           '이시간 등락률은 현재 +1.88%이며, 65,000원에 거래되고 있다.... ',\n",
      "            'link': 'http://www.ihalla.com/read.php3?aid=1571291557648384353',\n",
      "            'originallink': 'http://www.ihalla.com/read.php3?aid=1571291557648384353',\n",
      "            'pubDate': 'Thu, 17 Oct 2019 14:54:00 +0900',\n",
      "            'title': '10월 17일, 코스피 상장사 <b>삼양</b>홀딩스 현재 65,000원대 주가 형성'},\n",
      "           {'description': '17일 행감에서 자리를 박차고 나갔던 안창남 의원(무소속, 제주시 '\n",
      "                           '<b>삼양</b>.봉개동)은 순서가 아님에도\\xa0제2공항 얘기가 나오자 먼저 발언을 '\n",
      "                           '요청했다. 안창남 의원은 &quot;저는 방금 착각했다. 행정감사장이 아니라 '\n",
      "                           '국토위원회... ',\n",
      "            'link': 'http://www.jejusori.net/news/articleView.html?idxno=307871',\n",
      "            'originallink': 'http://www.jejusori.net/news/articleView.html?idxno=307871',\n",
      "            'pubDate': 'Thu, 17 Oct 2019 14:48:00 +0900',\n",
      "            'title': '제2공항 공론조사 2라운드...&quot;발목잡기&quot; vs &quot;예산이 도지사 '\n",
      "                     '쌈지돈이냐&quot;'},\n",
      "           {'description': '전인장 <b>삼양</b>식품 회장도 수감기간 동안 196회, 하루 1.3회나 접견한 것으로 '\n",
      "                           '드러났다. 공직자 중에는 김학의 전 차관의 일평균 변호인 접견 횟수가 가장 많았다. 그는 '\n",
      "                           '약 3개월 반의 수감기간 동안 128회 접견해 주말과... ',\n",
      "            'link': 'https://news.naver.com/main/read.nhn?mode=LSD&mid=sec&sid1=100&oid=076&aid=0003482528',\n",
      "            'originallink': 'http://sports.chosun.com/news/ntype.htm?id=201910180100137370009471&servicedate=20191017',\n",
      "            'pubDate': 'Thu, 17 Oct 2019 14:30:00 +0900',\n",
      "            'title': \"채이배 &quot;하루 2회 넘는 '황제 접견' 특권층 여전&quot;\"},\n",
      "           {'description': '이지바이오에 더불어 상승한 종목인 <b>삼양</b>식품 , <b>삼양</b>홀딩스는 각각 '\n",
      "                           '전일대비 1,800원 만큼 상승한 83,800원에, 1,400원 만큼 상승한 '\n",
      "                           '65,200원에 거래되고 있다. 해당 증시 기사 정보는 작성시 (14시 23분) '\n",
      "                           '정보에... ',\n",
      "            'link': 'http://famtimes.co.kr/news/view/439259',\n",
      "            'originallink': 'http://famtimes.co.kr/news/view/439259',\n",
      "            'pubDate': 'Thu, 17 Oct 2019 14:24:00 +0900',\n",
      "            'title': '[국내주간증시] 식품업종 주요 종목 이지바이오 +2.50%·<b>삼양</b>식품 '\n",
      "                     '+2.20%·삼...'},\n",
      "           {'description': '안창남 제주도의원(무소속·제주시 <b>삼양</b>동·봉개동)이 제주 제2공항 도민공론화를 '\n",
      "                           '독자적으로 추진하려는 도의회 지도부와 또다시 대립각을 세웠다. 안창남 제주도의원은 17일 '\n",
      "                           '오전 제주도의회에서 열린 환경도시위원회... ',\n",
      "            'link': 'https://news.naver.com/main/read.nhn?mode=LSD&mid=sec&sid1=102&oid=003&aid=0009511047',\n",
      "            'originallink': 'http://www.newsis.com/view/?id=NISX20191017_0000801918&cID=10813&pID=10800',\n",
      "            'pubDate': 'Thu, 17 Oct 2019 14:23:00 +0900',\n",
      "            'title': '안창남 제주도의원 “제2공항 추진, 정부 믿고 기다려야”'},\n",
      "           {'description': '8월 기준 팔도 왕뚜껑(12위), 농심 김치사발면(13위), <b>삼양</b>식품 '\n",
      "                           '큰컵불닭볶음면(14위) 등 쟁쟁한 유탕면을 앞선 성적이다. 식품업계에서도 보수적인 시장으로 '\n",
      "                           '꼽히는 라면시장에서 건면으로 10위권에 오른 것은... ',\n",
      "            'link': 'https://news.naver.com/main/read.nhn?mode=LSD&mid=sec&sid1=101&oid=011&aid=0003635913',\n",
      "            'originallink': 'https://www.sedaily.com/NewsView/1VPK3WL3GF',\n",
      "            'pubDate': 'Thu, 17 Oct 2019 14:21:00 +0900',\n",
      "            'title': '신라면 건면, 250일만에 5,000만봉 판매...“쟁쟁한 유탕면도 눌렀다”'},\n",
      "           {'description': '국내 최초 라면을 출시한 <b>삼양</b>식품은 편의점 세븐일레븐과 함께 '\n",
      "                           '‘<b>삼양</b>라면 1963’ 스페셜 패키지를 출시했다. 1963년 제품 첫 출시 당시 '\n",
      "                           '사용했었던 로고와 서체를 그대로 활용해 패키지를 디자인했다. 과거 '\n",
      "                           '<b>삼양</b>라면을... ',\n",
      "            'link': 'http://digitalchosun.dizzo.com/site/data/html_dir/2019/10/17/2019101780127.html',\n",
      "            'originallink': 'http://digitalchosun.dizzo.com/site/data/html_dir/2019/10/17/2019101780127.html',\n",
      "            'pubDate': 'Thu, 17 Oct 2019 14:20:00 +0900',\n",
      "            'title': '‘추억 속 맛, 새롭게 즐긴다’…뉴트로 트렌드 입은 다양한 식음료 제품 인기...'},\n",
      "           {'description': '▲사진=ⓒ픽사베이식품 업종 14시 상위 종목 한국거래소(KRX)에 따르면 10월 17일 '\n",
      "                           '14시 15분 현재 식품 업종에서는 <b>삼양</b>식품, 이지바이오, '\n",
      "                           '<b>삼양</b>홀딩스, 식품, 식품 순으로 높은 상승률을 보이고 있다.... ',\n",
      "            'link': 'http://www.cctvnews.co.kr/news/articleView.html?idxno=143446',\n",
      "            'originallink': 'http://www.cctvnews.co.kr/news/articleView.html?idxno=143446',\n",
      "            'pubDate': 'Thu, 17 Oct 2019 14:17:00 +0900',\n",
      "            'title': '[식품 업종 14시 현재 주식시황] 상승률 상위 종목, <b>삼양</b>식품 '\n",
      "                     '2,000원(+2.44%...'},\n",
      "           {'description': '이어 질의에 나선 안창남 의원(제주시 <b>삼양</b>·봉개동·무소속)은 &quot;순간 '\n",
      "                           '착각했다. 여기가 국토부 국정감사장이고, 강 의원이 국회의원인 줄 알았다&quot;고 '\n",
      "                           '비꼬았다. 도에 국책사업인 제2공항 문제를 질의하는 것은 부적절하다는... ',\n",
      "            'link': 'https://news.naver.com/main/read.nhn?mode=LSD&mid=sec&sid1=102&oid=421&aid=0004254681',\n",
      "            'originallink': 'http://news1.kr/articles/?3746046',\n",
      "            'pubDate': 'Thu, 17 Oct 2019 14:14:00 +0900',\n",
      "            'title': '&quot;국회의원?&quot; vs &quot;원희룡편?&quot;…제주도의회 제2공항 자중지란'},\n",
      "           {'description': '17일 14시 지주회사 테마주 시황 브리핑 현재 지주회사 테마주 '\n",
      "                           \"'<b>삼양</b>홀딩스'은 현재가 65,000원을 기록중에 있다. 이는 전일대비 \"\n",
      "                           '1,200원 만큼 상승한 상태이며, +1.88% 상승한 금액에 거래중이다. '\n",
      "                           '<b>삼양</b>홀딩스에... ',\n",
      "            'link': 'http://famtimes.co.kr/news/view/439208',\n",
      "            'originallink': 'http://famtimes.co.kr/news/view/439208',\n",
      "            'pubDate': 'Thu, 17 Oct 2019 14:09:00 +0900',\n",
      "            'title': \"[증시전망] 지주회사 테마주 '<b>삼양</b>홀딩스' 14시 현재 65,000원에 거래\"},\n",
      "           {'description': '지주회사 테마 14시 상위 종목17일 14시03분 현재 한국거래소에 따르면 지주회사 테마 '\n",
      "                           '종목들중 <b>삼양</b>홀딩스, 하나금융지주, 웅진이 차례로 높은 상승률을 보이고 있는 '\n",
      "                           '것으로 나타났다. <b>삼양</b>홀딩스의 현재가는... ',\n",
      "            'link': 'http://hobbyissue.co.kr/news/view/99824',\n",
      "            'originallink': 'http://hobbyissue.co.kr/news/view/99824',\n",
      "            'pubDate': 'Thu, 17 Oct 2019 14:05:00 +0900',\n",
      "            'title': '[테마이슈] 지주회사 업 14시 상승률 상위 종목, <b>삼양</b>홀딩스 '\n",
      "                     '1,300원(+2.04%)...'}],\n",
      " 'lastBuildDate': 'Fri, 18 Oct 2019 00:23:21 +0900',\n",
      " 'start': 1,\n",
      " 'total': 112682}\n"
     ]
    }
   ],
   "source": [
    "import urllib.request\n",
    "\n",
    "client_id = \"YOUR_CLIENT_ID\"\n",
    "client_secret = \"YOUR_CLIENT_SECRET\"\n",
    "encText = urllib.parse.quote(\"삼양\")\n",
    "url = \"https://openapi.naver.com/v1/search/news?display=50&query=\" + encText # json 결과\n",
    "# url = \"https://openapi.naver.com/v1/search/blog.xml?query=\" + encText # xml 결과\n",
    "request = urllib.request.Request(url)\n",
    "request.add_header(\"X-Naver-Client-Id\",client_id)\n",
    "request.add_header(\"X-Naver-Client-Secret\",client_secret)\n",
    "response = urllib.request.urlopen(request)\n",
    "rescode = response.getcode()\n",
    "if(rescode==200):\n",
    "    response_body = response.read()\n",
    "    pprint.pprint(json.loads(response_body.decode('utf-8')))\n",
    "else:\n",
    "    print(\"Error Code:\" + rescode)"
   ]
  },
  {
   "cell_type": "markdown",
   "metadata": {},
   "source": [
    "### 2-2. 다음 검색 API 활용"
   ]
  },
  {
   "cell_type": "code",
   "execution_count": 16,
   "metadata": {},
   "outputs": [],
   "source": [
    "# Q.위의 코드를 활용하여 카카오 API를 이용해보자.\n",
    "# 참고 웹사이트 https://developers.kakao.com/docs/restapi/search"
   ]
  },
  {
   "cell_type": "code",
   "execution_count": null,
   "metadata": {},
   "outputs": [],
   "source": []
  }
 ],
 "metadata": {
  "kernelspec": {
   "display_name": "Python 3",
   "language": "python",
   "name": "python3"
  },
  "language_info": {
   "codemirror_mode": {
    "name": "ipython",
    "version": 3
   },
   "file_extension": ".py",
   "mimetype": "text/x-python",
   "name": "python",
   "nbconvert_exporter": "python",
   "pygments_lexer": "ipython3",
   "version": "3.6.8"
  }
 },
 "nbformat": 4,
 "nbformat_minor": 2
}
