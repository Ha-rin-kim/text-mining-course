{
 "cells": [
  {
   "cell_type": "code",
   "execution_count": null,
   "metadata": {},
   "outputs": [],
   "source": [
    "!pip install pyinstaller"
   ]
  },
  {
   "cell_type": "code",
   "execution_count": 24,
   "metadata": {},
   "outputs": [
    {
     "name": "stdout",
     "output_type": "stream",
     "text": [
      "374 INFO: PyInstaller: 3.5\n",
      "374 INFO: Python: 2.7.16\n",
      "401 INFO: Platform: Darwin-19.0.0-x86_64-i386-64bit\n",
      "403 INFO: wrote /Users/seojungwon/Dropbox/Lecture/textmining-2019/text-mining-course/practice/etc/runfile/HelloWorld.spec\n",
      "458 INFO: UPX is not available.\n",
      "463 INFO: Extending PYTHONPATH with paths\n",
      "['/Users/seojungwon/Dropbox/Lecture/textmining-2019/text-mining-course/practice/etc/runfile/sample',\n",
      " '/Users/seojungwon/Dropbox/Lecture/textmining-2019/text-mining-course/practice/etc/runfile']\n",
      "463 INFO: checking Analysis\n",
      "464 INFO: Building Analysis because Analysis-00.toc is non existent\n",
      "464 INFO: Initializing module dependency graph...\n",
      "484 INFO: Initializing module graph hooks...\n",
      "629 INFO: running Analysis Analysis-00.toc\n",
      "662 INFO: Caching module hooks...\n",
      "670 INFO: Analyzing /Users/seojungwon/Dropbox/Lecture/textmining-2019/text-mining-course/practice/etc/runfile/sample/hello_world.py\n",
      "671 INFO: Loading module hooks...\n",
      "671 INFO: Loading module hook \"hook-encodings.py\"...\n",
      "5285 INFO: Looking for ctypes DLLs\n",
      "5286 INFO: Analyzing run-time hooks ...\n",
      "5291 INFO: Looking for dynamic libraries\n",
      "5405 INFO: Looking for eggs\n",
      "5405 INFO: Using Python library /usr/local/Cellar/python@2/2.7.16/Frameworks/Python.framework/Versions/2.7/Python\n",
      "5407 INFO: Warnings written to /Users/seojungwon/Dropbox/Lecture/textmining-2019/text-mining-course/practice/etc/runfile/build/HelloWorld/warn-HelloWorld.txt\n",
      "5433 INFO: Graph cross-reference written to /Users/seojungwon/Dropbox/Lecture/textmining-2019/text-mining-course/practice/etc/runfile/build/HelloWorld/xref-HelloWorld.html\n",
      "5573 INFO: checking PYZ\n",
      "5574 INFO: Building PYZ because PYZ-00.toc is non existent\n",
      "5574 INFO: Building PYZ (ZlibArchive) /Users/seojungwon/Dropbox/Lecture/textmining-2019/text-mining-course/practice/etc/runfile/build/HelloWorld/PYZ-00.pyz\n",
      "5962 INFO: Building PYZ (ZlibArchive) /Users/seojungwon/Dropbox/Lecture/textmining-2019/text-mining-course/practice/etc/runfile/build/HelloWorld/PYZ-00.pyz completed successfully.\n",
      "6028 INFO: checking PKG\n",
      "6028 INFO: Building PKG because PKG-00.toc is non existent\n",
      "6028 INFO: Building PKG (CArchive) PKG-00.pkg\n",
      "8186 INFO: Building PKG (CArchive) PKG-00.pkg completed successfully.\n",
      "8205 INFO: Bootloader /usr/local/lib/python2.7/site-packages/PyInstaller/bootloader/Darwin-64bit/run\n",
      "8205 INFO: checking EXE\n",
      "8205 INFO: Building EXE because EXE-00.toc is non existent\n",
      "8205 INFO: Building EXE from EXE-00.toc\n",
      "8205 INFO: Appending archive to EXE /Users/seojungwon/Dropbox/Lecture/textmining-2019/text-mining-course/practice/etc/runfile/dist/HelloWorld\n",
      "8236 INFO: Fixing EXE for code signing /Users/seojungwon/Dropbox/Lecture/textmining-2019/text-mining-course/practice/etc/runfile/dist/HelloWorld\n",
      "8242 INFO: Building EXE from EXE-00.toc completed successfully.\n"
     ]
    }
   ],
   "source": [
    "!pyinstaller sample/hello_world.py -n HelloWorld --onefile"
   ]
  },
  {
   "cell_type": "code",
   "execution_count": null,
   "metadata": {},
   "outputs": [],
   "source": []
  }
 ],
 "metadata": {
  "kernelspec": {
   "display_name": "Python 3",
   "language": "python",
   "name": "python3"
  },
  "language_info": {
   "codemirror_mode": {
    "name": "ipython",
    "version": 3
   },
   "file_extension": ".py",
   "mimetype": "text/x-python",
   "name": "python",
   "nbconvert_exporter": "python",
   "pygments_lexer": "ipython3",
   "version": "3.6.8"
  }
 },
 "nbformat": 4,
 "nbformat_minor": 2
}
