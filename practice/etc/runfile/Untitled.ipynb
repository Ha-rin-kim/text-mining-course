{
 "cells": [
  {
   "cell_type": "code",
   "execution_count": null,
   "metadata": {},
   "outputs": [],
   "source": [
    "!pip install pyinstaller"
   ]
  },
  {
   "cell_type": "code",
   "execution_count": 22,
   "metadata": {},
   "outputs": [
    {
     "name": "stdout",
     "output_type": "stream",
     "text": [
      "76 INFO: PyInstaller: 3.5\n",
      "76 INFO: Python: 2.7.16\n",
      "87 INFO: Platform: Darwin-19.0.0-x86_64-i386-64bit\n",
      "88 INFO: wrote /Users/seojungwon/Dropbox/Lecture/textmining-2019/text-mining-course/practice/etc/runfile/hello_world.spec\n",
      "97 INFO: UPX is not available.\n",
      "99 INFO: Extending PYTHONPATH with paths\n",
      "['/Users/seojungwon/Dropbox/Lecture/textmining-2019/text-mining-course/practice/etc/runfile/sample',\n",
      " '/Users/seojungwon/Dropbox/Lecture/textmining-2019/text-mining-course/practice/etc/runfile']\n",
      "99 INFO: checking Analysis\n",
      "99 INFO: Building Analysis because Analysis-00.toc is non existent\n",
      "99 INFO: Initializing module dependency graph...\n",
      "111 INFO: Initializing module graph hooks...\n",
      "290 INFO: running Analysis Analysis-00.toc\n",
      "317 INFO: Caching module hooks...\n",
      "329 INFO: Analyzing /Users/seojungwon/Dropbox/Lecture/textmining-2019/text-mining-course/practice/etc/runfile/sample/hello_world.py\n",
      "332 INFO: Loading module hooks...\n",
      "332 INFO: Loading module hook \"hook-encodings.py\"...\n",
      "3585 INFO: Looking for ctypes DLLs\n",
      "3585 INFO: Analyzing run-time hooks ...\n",
      "3591 INFO: Looking for dynamic libraries\n",
      "3712 INFO: Looking for eggs\n",
      "3713 INFO: Using Python library /usr/local/Cellar/python@2/2.7.16/Frameworks/Python.framework/Versions/2.7/Python\n",
      "3715 INFO: Warnings written to /Users/seojungwon/Dropbox/Lecture/textmining-2019/text-mining-course/practice/etc/runfile/build/hello_world/warn-hello_world.txt\n",
      "3745 INFO: Graph cross-reference written to /Users/seojungwon/Dropbox/Lecture/textmining-2019/text-mining-course/practice/etc/runfile/build/hello_world/xref-hello_world.html\n",
      "3885 INFO: checking PYZ\n",
      "3885 INFO: Building PYZ because PYZ-00.toc is non existent\n",
      "3885 INFO: Building PYZ (ZlibArchive) /Users/seojungwon/Dropbox/Lecture/textmining-2019/text-mining-course/practice/etc/runfile/build/hello_world/PYZ-00.pyz\n",
      "4164 INFO: Building PYZ (ZlibArchive) /Users/seojungwon/Dropbox/Lecture/textmining-2019/text-mining-course/practice/etc/runfile/build/hello_world/PYZ-00.pyz completed successfully.\n",
      "4275 INFO: checking PKG\n",
      "4275 INFO: Building PKG because PKG-00.toc is non existent\n",
      "4275 INFO: Building PKG (CArchive) PKG-00.pkg\n",
      "6631 INFO: Building PKG (CArchive) PKG-00.pkg completed successfully.\n",
      "6659 INFO: Bootloader /usr/local/lib/python2.7/site-packages/PyInstaller/bootloader/Darwin-64bit/run\n",
      "6659 INFO: checking EXE\n",
      "6659 INFO: Building EXE because EXE-00.toc is non existent\n",
      "6659 INFO: Building EXE from EXE-00.toc\n",
      "6659 INFO: Appending archive to EXE /Users/seojungwon/Dropbox/Lecture/textmining-2019/text-mining-course/practice/etc/runfile/dist/hello_world\n",
      "6691 INFO: Fixing EXE for code signing /Users/seojungwon/Dropbox/Lecture/textmining-2019/text-mining-course/practice/etc/runfile/dist/hello_world\n",
      "6702 INFO: Building EXE from EXE-00.toc completed successfully.\n"
     ]
    }
   ],
   "source": [
    "!pyinstaller sample/hello_world.py --onefile"
   ]
  },
  {
   "cell_type": "code",
   "execution_count": null,
   "metadata": {},
   "outputs": [],
   "source": []
  }
 ],
 "metadata": {
  "kernelspec": {
   "display_name": "Python 3",
   "language": "python",
   "name": "python3"
  },
  "language_info": {
   "codemirror_mode": {
    "name": "ipython",
    "version": 3
   },
   "file_extension": ".py",
   "mimetype": "text/x-python",
   "name": "python",
   "nbconvert_exporter": "python",
   "pygments_lexer": "ipython3",
   "version": "3.6.8"
  }
 },
 "nbformat": 4,
 "nbformat_minor": 2
}
