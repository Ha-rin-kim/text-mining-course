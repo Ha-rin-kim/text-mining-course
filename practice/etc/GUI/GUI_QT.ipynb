{
 "cells": [
  {
   "cell_type": "code",
   "execution_count": 2,
   "metadata": {},
   "outputs": [],
   "source": [
    "#https://data-flair.training/blogs/python-pyqt5-tutorial/"
   ]
  },
  {
   "cell_type": "code",
   "execution_count": 2,
   "metadata": {},
   "outputs": [
    {
     "name": "stdout",
     "output_type": "stream",
     "text": [
      "Collecting pyqt5\n",
      "\u001b[?25l  Downloading https://files.pythonhosted.org/packages/93/5b/2ba062584e8b407b443b7ac7b6687e157d22b0f875cfd1dbe5baf82f6177/PyQt5-5.13.2-5.13.2-cp35.cp36.cp37.cp38-abi3-macosx_10_6_intel.whl (39.8MB)\n",
      "\u001b[K    100% |████████████████████████████████| 39.8MB 489kB/s ta 0:00:012\n",
      "\u001b[?25hCollecting PyQt5_sip<13,>=4.19.19 (from pyqt5)\n",
      "\u001b[?25l  Downloading https://files.pythonhosted.org/packages/91/13/306b26bc8870c63e30af47d18a5dee5253adf5b523b2d0afc1fc023affdc/PyQt5_sip-12.7.0-cp36-cp36m-macosx_10_6_intel.whl (124kB)\n",
      "\u001b[K    100% |████████████████████████████████| 133kB 1.4MB/s ta 0:00:01\n",
      "\u001b[31mspyder 3.3.3 has requirement pyqt5<=5.12; python_version >= \"3\", but you'll have pyqt5 5.13.2 which is incompatible.\u001b[0m\n",
      "\u001b[?25hInstalling collected packages: PyQt5-sip, pyqt5\n",
      "Successfully installed PyQt5-sip-12.7.0 pyqt5-5.13.2\n"
     ]
    }
   ],
   "source": [
    "import sys\n",
    "!{sys.executable} -m pip install pyqt5"
   ]
  },
  {
   "cell_type": "code",
   "execution_count": 3,
   "metadata": {},
   "outputs": [],
   "source": [
    "import PyQt5\n"
   ]
  },
  {
   "cell_type": "code",
   "execution_count": 1,
   "metadata": {},
   "outputs": [
    {
     "ename": "SystemExit",
     "evalue": "0",
     "output_type": "error",
     "traceback": [
      "An exception has occurred, use %tb to see the full traceback.\n",
      "\u001b[0;31mSystemExit\u001b[0m\u001b[0;31m:\u001b[0m 0\n"
     ]
    },
    {
     "name": "stderr",
     "output_type": "stream",
     "text": [
      "/Users/seojungwon/anaconda3/lib/python3.6/site-packages/IPython/core/interactiveshell.py:3275: UserWarning: To exit: use 'exit', 'quit', or Ctrl-D.\n",
      "  warn(\"To exit: use 'exit', 'quit', or Ctrl-D.\", stacklevel=1)\n"
     ]
    }
   ],
   "source": [
    "from PyQt5.QtWidgets import QApplication,QWidget,QPushButton\n",
    "from PyQt5.QtCore import pyqtSlot\n",
    "import sys\n",
    "class App(QWidget):\n",
    "    def __init__(self):\n",
    "        super().__init__()\n",
    "        self.title='Hello, world!'\n",
    "        self.left=10\n",
    "        self.top=10\n",
    "        self.width=640\n",
    "        self.height=480\n",
    "        self.initUI()\n",
    "    def initUI(self):\n",
    "        self.setWindowTitle(self.title)\n",
    "        self.setGeometry(self.left,self.top,self.width,self.height)\n",
    "        button=QPushButton('Click me',self)\n",
    "        button.setToolTip('Thank you for thinking about me')\n",
    "        button.move(100,70)\n",
    "        self.show()\n",
    "if __name__=='__main__':\n",
    "    app=QApplication(sys.argv)\n",
    "    ex=App()\n",
    "    sys.exit(app.exec_())\n"
   ]
  },
  {
   "cell_type": "code",
   "execution_count": null,
   "metadata": {},
   "outputs": [],
   "source": []
  }
 ],
 "metadata": {
  "kernelspec": {
   "display_name": "Python 3",
   "language": "python",
   "name": "python3"
  },
  "language_info": {
   "codemirror_mode": {
    "name": "ipython",
    "version": 3
   },
   "file_extension": ".py",
   "mimetype": "text/x-python",
   "name": "python",
   "nbconvert_exporter": "python",
   "pygments_lexer": "ipython3",
   "version": "3.6.8"
  }
 },
 "nbformat": 4,
 "nbformat_minor": 2
}
